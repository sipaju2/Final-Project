{
 "cells": [
  {
   "cell_type": "code",
   "execution_count": 1,
   "metadata": {},
   "outputs": [
    {
     "name": "stderr",
     "output_type": "stream",
     "text": [
      "C:\\Users\\Steve\\Anaconda3\\lib\\site-packages\\numpy\\core\\__init__.py:29: UserWarning: loaded more than 1 DLL from .libs:\n",
      "C:\\Users\\Steve\\Anaconda3\\lib\\site-packages\\numpy\\.libs\\libopenblas.IPBC74C7KURV7CB2PKT5Z5FNR3SIBV4J.gfortran-win_amd64.dll\n",
      "C:\\Users\\Steve\\Anaconda3\\lib\\site-packages\\numpy\\.libs\\libopenblas.TXA6YQSD3GCQQC22GEQ54J2UDCXDXHWN.gfortran-win_amd64.dll\n",
      "  stacklevel=1)\n"
     ]
    },
    {
     "data": {
      "text/html": [
       "        <script type=\"text/javascript\">\n",
       "        window.PlotlyConfig = {MathJaxConfig: 'local'};\n",
       "        if (window.MathJax) {MathJax.Hub.Config({SVG: {font: \"STIX-Web\"}});}\n",
       "        if (typeof require !== 'undefined') {\n",
       "        require.undef(\"plotly\");\n",
       "        requirejs.config({\n",
       "            paths: {\n",
       "                'plotly': ['https://cdn.plot.ly/plotly-latest.min']\n",
       "            }\n",
       "        });\n",
       "        require(['plotly'], function(Plotly) {\n",
       "            window._Plotly = Plotly;\n",
       "        });\n",
       "        }\n",
       "        </script>\n",
       "        "
      ]
     },
     "metadata": {},
     "output_type": "display_data"
    }
   ],
   "source": [
    "import pandas as pd\n",
    "import numpy as np\n",
    "import matplotlib.pyplot as plt\n",
    "import seaborn as sns\n",
    "import operator\n",
    "import warnings\n",
    "warnings.filterwarnings('ignore')\n",
    "import plotly.offline as py\n",
    "py.init_notebook_mode(connected=True)\n",
    "import plotly.graph_objs as go"
   ]
  },
  {
   "cell_type": "code",
   "execution_count": 4,
   "metadata": {},
   "outputs": [
    {
     "data": {
      "text/html": [
       "<div>\n",
       "<style scoped>\n",
       "    .dataframe tbody tr th:only-of-type {\n",
       "        vertical-align: middle;\n",
       "    }\n",
       "\n",
       "    .dataframe tbody tr th {\n",
       "        vertical-align: top;\n",
       "    }\n",
       "\n",
       "    .dataframe thead th {\n",
       "        text-align: right;\n",
       "    }\n",
       "</style>\n",
       "<table border=\"1\" class=\"dataframe\">\n",
       "  <thead>\n",
       "    <tr style=\"text-align: right;\">\n",
       "      <th></th>\n",
       "      <th>RegionID</th>\n",
       "      <th>RegionName</th>\n",
       "      <th>SizeRank</th>\n",
       "      <th>1996-04</th>\n",
       "      <th>1996-05</th>\n",
       "      <th>1996-06</th>\n",
       "      <th>1996-07</th>\n",
       "      <th>1996-08</th>\n",
       "      <th>1996-09</th>\n",
       "      <th>1996-10</th>\n",
       "      <th>...</th>\n",
       "      <th>2018-09</th>\n",
       "      <th>2018-10</th>\n",
       "      <th>2018-11</th>\n",
       "      <th>2018-12</th>\n",
       "      <th>2019-01</th>\n",
       "      <th>2019-02</th>\n",
       "      <th>2019-03</th>\n",
       "      <th>2019-04</th>\n",
       "      <th>2019-05</th>\n",
       "      <th>2019-06</th>\n",
       "    </tr>\n",
       "  </thead>\n",
       "  <tbody>\n",
       "    <tr>\n",
       "      <th>0</th>\n",
       "      <td>9</td>\n",
       "      <td>Alabama</td>\n",
       "      <td>22</td>\n",
       "      <td>46200.0</td>\n",
       "      <td>46300.0</td>\n",
       "      <td>46300.0</td>\n",
       "      <td>46300.0</td>\n",
       "      <td>46300.0</td>\n",
       "      <td>46300.0</td>\n",
       "      <td>46400.0</td>\n",
       "      <td>...</td>\n",
       "      <td>93400.0</td>\n",
       "      <td>93600.0</td>\n",
       "      <td>94100.0</td>\n",
       "      <td>94100.0</td>\n",
       "      <td>94400.0</td>\n",
       "      <td>94900.0</td>\n",
       "      <td>95100.0</td>\n",
       "      <td>94700.0</td>\n",
       "      <td>94900.0</td>\n",
       "      <td>96000.0</td>\n",
       "    </tr>\n",
       "    <tr>\n",
       "      <th>1</th>\n",
       "      <td>54</td>\n",
       "      <td>Alaska</td>\n",
       "      <td>45</td>\n",
       "      <td>68100.0</td>\n",
       "      <td>67900.0</td>\n",
       "      <td>67700.0</td>\n",
       "      <td>67600.0</td>\n",
       "      <td>67500.0</td>\n",
       "      <td>67600.0</td>\n",
       "      <td>67700.0</td>\n",
       "      <td>...</td>\n",
       "      <td>137900.0</td>\n",
       "      <td>138500.0</td>\n",
       "      <td>139100.0</td>\n",
       "      <td>138200.0</td>\n",
       "      <td>137200.0</td>\n",
       "      <td>137100.0</td>\n",
       "      <td>137700.0</td>\n",
       "      <td>138600.0</td>\n",
       "      <td>138700.0</td>\n",
       "      <td>138300.0</td>\n",
       "    </tr>\n",
       "    <tr>\n",
       "      <th>2</th>\n",
       "      <td>43</td>\n",
       "      <td>Arizona</td>\n",
       "      <td>16</td>\n",
       "      <td>47100.0</td>\n",
       "      <td>47500.0</td>\n",
       "      <td>47800.0</td>\n",
       "      <td>48100.0</td>\n",
       "      <td>48400.0</td>\n",
       "      <td>48700.0</td>\n",
       "      <td>48900.0</td>\n",
       "      <td>...</td>\n",
       "      <td>93800.0</td>\n",
       "      <td>94900.0</td>\n",
       "      <td>95700.0</td>\n",
       "      <td>95400.0</td>\n",
       "      <td>95500.0</td>\n",
       "      <td>96600.0</td>\n",
       "      <td>98000.0</td>\n",
       "      <td>99200.0</td>\n",
       "      <td>100600.0</td>\n",
       "      <td>101900.0</td>\n",
       "    </tr>\n",
       "    <tr>\n",
       "      <th>3</th>\n",
       "      <td>14</td>\n",
       "      <td>Arkansas</td>\n",
       "      <td>31</td>\n",
       "      <td>51900.0</td>\n",
       "      <td>51600.0</td>\n",
       "      <td>51400.0</td>\n",
       "      <td>51100.0</td>\n",
       "      <td>50800.0</td>\n",
       "      <td>50500.0</td>\n",
       "      <td>50300.0</td>\n",
       "      <td>...</td>\n",
       "      <td>94500.0</td>\n",
       "      <td>95200.0</td>\n",
       "      <td>96200.0</td>\n",
       "      <td>97100.0</td>\n",
       "      <td>97700.0</td>\n",
       "      <td>98200.0</td>\n",
       "      <td>98400.0</td>\n",
       "      <td>97700.0</td>\n",
       "      <td>97300.0</td>\n",
       "      <td>97300.0</td>\n",
       "    </tr>\n",
       "    <tr>\n",
       "      <th>4</th>\n",
       "      <td>21</td>\n",
       "      <td>California</td>\n",
       "      <td>1</td>\n",
       "      <td>94300.0</td>\n",
       "      <td>94200.0</td>\n",
       "      <td>94000.0</td>\n",
       "      <td>93600.0</td>\n",
       "      <td>93300.0</td>\n",
       "      <td>93000.0</td>\n",
       "      <td>92700.0</td>\n",
       "      <td>...</td>\n",
       "      <td>383800.0</td>\n",
       "      <td>385400.0</td>\n",
       "      <td>386800.0</td>\n",
       "      <td>387800.0</td>\n",
       "      <td>388200.0</td>\n",
       "      <td>388000.0</td>\n",
       "      <td>387500.0</td>\n",
       "      <td>387400.0</td>\n",
       "      <td>386600.0</td>\n",
       "      <td>385400.0</td>\n",
       "    </tr>\n",
       "  </tbody>\n",
       "</table>\n",
       "<p>5 rows × 282 columns</p>\n",
       "</div>"
      ],
      "text/plain": [
       "   RegionID  RegionName  SizeRank  1996-04  1996-05  1996-06  1996-07  \\\n",
       "0         9     Alabama        22  46200.0  46300.0  46300.0  46300.0   \n",
       "1        54      Alaska        45  68100.0  67900.0  67700.0  67600.0   \n",
       "2        43     Arizona        16  47100.0  47500.0  47800.0  48100.0   \n",
       "3        14    Arkansas        31  51900.0  51600.0  51400.0  51100.0   \n",
       "4        21  California         1  94300.0  94200.0  94000.0  93600.0   \n",
       "\n",
       "   1996-08  1996-09  1996-10    ...      2018-09   2018-10   2018-11  \\\n",
       "0  46300.0  46300.0  46400.0    ...      93400.0   93600.0   94100.0   \n",
       "1  67500.0  67600.0  67700.0    ...     137900.0  138500.0  139100.0   \n",
       "2  48400.0  48700.0  48900.0    ...      93800.0   94900.0   95700.0   \n",
       "3  50800.0  50500.0  50300.0    ...      94500.0   95200.0   96200.0   \n",
       "4  93300.0  93000.0  92700.0    ...     383800.0  385400.0  386800.0   \n",
       "\n",
       "    2018-12   2019-01   2019-02   2019-03   2019-04   2019-05   2019-06  \n",
       "0   94100.0   94400.0   94900.0   95100.0   94700.0   94900.0   96000.0  \n",
       "1  138200.0  137200.0  137100.0  137700.0  138600.0  138700.0  138300.0  \n",
       "2   95400.0   95500.0   96600.0   98000.0   99200.0  100600.0  101900.0  \n",
       "3   97100.0   97700.0   98200.0   98400.0   97700.0   97300.0   97300.0  \n",
       "4  387800.0  388200.0  388000.0  387500.0  387400.0  386600.0  385400.0  \n",
       "\n",
       "[5 rows x 282 columns]"
      ]
     },
     "execution_count": 4,
     "metadata": {},
     "output_type": "execute_result"
    }
   ],
   "source": [
    "#Load the Data from the CSV files for 01 bedroom\n",
    "br1= pd.read_csv('State_Zhvi_1bedroom.csv')\n",
    "States=['Alabama',\n",
    "     'Alaska',\n",
    "     'Arizona',\n",
    "     'Arkansas',\n",
    "     'California',\n",
    "     'Colorado',\n",
    "     'Connecticut',\n",
    "     'Delaware',\n",
    "     'Florida',\n",
    "     'Georgia',\n",
    "     'Hawaii',\n",
    "     'Idaho',\n",
    "     'Illinois',\n",
    "     'Indiana',\n",
    "     'Iowa',\n",
    "     'Kansas',\n",
    "     'Kentucky',\n",
    "     'Louisiana',\n",
    "     'Maine',\n",
    "     'Maryland',\n",
    "     'Massachusetts',\n",
    "     'Michigan',\n",
    "     'Minnesota',\n",
    "     'Mississippi',\n",
    "     'Missouri',\n",
    "     'Montana',\n",
    "     'Nebraska',\n",
    "     'Nevada',\n",
    "     'New Hampshire',\n",
    "     'New Jersey',\n",
    "     'New Mexico',\n",
    "     'New York',\n",
    "     'North Carolina',\n",
    "     'North Dakota',\n",
    "     'Ohio',\n",
    "     'Oklahoma',\n",
    "     'Oregon',\n",
    "     'Pennsylvania',\n",
    "     'Rhode Island',\n",
    "     'South Carolina',\n",
    "     'South Dakota',\n",
    "     'Tennessee',\n",
    "     'Texas',\n",
    "     'Utah',\n",
    "     'Vermont',\n",
    "     'Virginia',\n",
    "     'Washington',\n",
    "     'West Virginia',\n",
    "     'Wisconsin',\n",
    "     'Wyoming',]\n",
    "\n",
    "ten_year=['RegionName',\n",
    " '2009-01',\n",
    " '2009-02',\n",
    " '2009-03',\n",
    " '2009-04',\n",
    " '2009-05',\n",
    " '2009-06',\n",
    " '2009-07',\n",
    " '2009-08',\n",
    " '2009-09',\n",
    " '2009-10',\n",
    " '2009-11',\n",
    " '2009-12',\n",
    " '2010-01',\n",
    " '2010-02',\n",
    " '2010-03',\n",
    " '2010-04',\n",
    " '2010-05',\n",
    " '2010-06',\n",
    " '2010-07',\n",
    " '2010-08',\n",
    " '2010-09',\n",
    " '2010-10',\n",
    " '2010-11',\n",
    " '2010-12',\n",
    " '2011-01',\n",
    " '2011-02',\n",
    " '2011-03',\n",
    " '2011-04',\n",
    " '2011-05',\n",
    " '2011-06',\n",
    " '2011-07',\n",
    " '2011-08',\n",
    " '2011-09',\n",
    " '2011-10',\n",
    " '2011-11',\n",
    " '2011-12',\n",
    " '2012-01',\n",
    " '2012-02',\n",
    " '2012-03',\n",
    " '2012-04',\n",
    " '2012-05',\n",
    " '2012-06',\n",
    " '2012-07',\n",
    " '2012-08',\n",
    " '2012-09',\n",
    " '2012-10',\n",
    " '2012-11',\n",
    " '2012-12',\n",
    " '2013-01',\n",
    " '2013-02',\n",
    " '2013-03',\n",
    " '2013-04',\n",
    " '2013-05',\n",
    " '2013-06',\n",
    " '2013-07',\n",
    " '2013-08',\n",
    " '2013-09',\n",
    " '2013-10',\n",
    " '2013-11',\n",
    " '2013-12',\n",
    " '2014-01',\n",
    " '2014-02',\n",
    " '2014-03',\n",
    " '2014-04',\n",
    " '2014-05',\n",
    " '2014-06',\n",
    " '2014-07',\n",
    " '2014-08',\n",
    " '2014-09',\n",
    " '2014-10',\n",
    " '2014-11',\n",
    " '2014-12',\n",
    " '2015-01',\n",
    " '2015-02',\n",
    " '2015-03',\n",
    " '2015-04',\n",
    " '2015-05',\n",
    " '2015-06',\n",
    " '2015-07',\n",
    " '2015-08',\n",
    " '2015-09',\n",
    " '2015-10',\n",
    " '2015-11',\n",
    " '2015-12',\n",
    " '2016-01',\n",
    " '2016-02',\n",
    " '2016-03',\n",
    " '2016-04',\n",
    " '2016-05',\n",
    " '2016-06',\n",
    " '2016-07',\n",
    " '2016-08',\n",
    " '2016-09',\n",
    " '2016-10',\n",
    " '2016-11',\n",
    " '2016-12',\n",
    " '2017-01',\n",
    " '2017-02',\n",
    " '2017-03',\n",
    " '2017-04',\n",
    " '2017-05',\n",
    " '2017-06',\n",
    " '2017-07',\n",
    " '2017-08',\n",
    " '2017-09',\n",
    " '2017-10',\n",
    " '2017-11',\n",
    " '2017-12',\n",
    " '2018-01',\n",
    " '2018-02',\n",
    " '2018-03',\n",
    " '2018-04',\n",
    " '2018-05',\n",
    " '2018-06',\n",
    " '2018-07',\n",
    " '2018-08',\n",
    " '2018-09',\n",
    " '2018-10',\n",
    " '2018-11',\n",
    " '2018-12',\n",
    " '2019-01',\n",
    " '2019-02',\n",
    " '2019-03',\n",
    " '2019-04',\n",
    " '2019-05',\n",
    " '2019-06']\n",
    "ten_2009=['2009-01',\n",
    " '2009-02',\n",
    " '2009-03',\n",
    " '2009-04',\n",
    " '2009-05',\n",
    " '2009-06',\n",
    " '2009-07',\n",
    " '2009-08',\n",
    " '2009-09',\n",
    " '2009-10',\n",
    " '2009-11',\n",
    " '2009-12']\n",
    "ten_2010=['2010-01',\n",
    " '2010-02',\n",
    " '2010-03',\n",
    " '2010-04',\n",
    " '2010-05',\n",
    " '2010-06',\n",
    " '2010-07',\n",
    " '2010-08',\n",
    " '2010-09',\n",
    " '2010-10',\n",
    " '2010-11',\n",
    " '2010-12']\n",
    "ten_2011=['2010-11',\n",
    " '2010-12',\n",
    " '2011-01',\n",
    " '2011-02',\n",
    " '2011-03',\n",
    " '2011-04',\n",
    " '2011-05',\n",
    " '2011-06',\n",
    " '2011-07',\n",
    " '2011-08',\n",
    " '2011-09',\n",
    " '2011-10',\n",
    " '2011-11',\n",
    " '2011-12']\n",
    "ten_2012=['2012-01',\n",
    " '2012-02',\n",
    " '2012-03',\n",
    " '2012-04',\n",
    " '2012-05',\n",
    " '2012-06',\n",
    " '2012-07',\n",
    " '2012-08',\n",
    " '2012-09',\n",
    " '2012-10',\n",
    " '2012-11',\n",
    " '2012-12']\n",
    "ten_2013=['2013-01',\n",
    " '2013-02',\n",
    " '2013-03',\n",
    " '2013-04',\n",
    " '2013-05',\n",
    " '2013-06',\n",
    " '2013-07',\n",
    " '2013-08',\n",
    " '2013-09',\n",
    " '2013-10',\n",
    " '2013-11',\n",
    " '2013-12']\n",
    "ten_2014=['2014-01',\n",
    " '2014-02',\n",
    " '2014-03',\n",
    " '2014-04',\n",
    " '2014-05',\n",
    " '2014-06',\n",
    " '2014-07',\n",
    " '2014-08',\n",
    " '2014-09',\n",
    " '2014-10',\n",
    " '2014-11',\n",
    " '2014-12']\n",
    "ten_2015=['2015-01',\n",
    " '2015-02',\n",
    " '2015-03',\n",
    " '2015-04',\n",
    " '2015-05',\n",
    " '2015-06',\n",
    " '2015-07',\n",
    " '2015-08',\n",
    " '2015-09',\n",
    " '2015-10',\n",
    " '2015-11',\n",
    " '2015-12']\n",
    "ten_2016=['2016-01',\n",
    " '2016-02',\n",
    " '2016-03',\n",
    " '2016-04',\n",
    " '2016-05',\n",
    " '2016-06',\n",
    " '2016-07',\n",
    " '2016-08',\n",
    " '2016-09',\n",
    " '2016-10',\n",
    " '2016-11',\n",
    " '2016-12']\n",
    "ten_2017=['2017-01',\n",
    " '2017-02',\n",
    " '2017-03',\n",
    " '2017-04',\n",
    " '2017-05',\n",
    " '2017-06',\n",
    " '2017-07',\n",
    " '2017-08',\n",
    " '2017-09',\n",
    " '2017-10',\n",
    " '2017-11',\n",
    " '2017-12']\n",
    "ten_2018=['2018-01',\n",
    " '2018-02',\n",
    " '2018-03',\n",
    " '2018-04',\n",
    " '2018-05',\n",
    " '2018-06',\n",
    " '2018-07',\n",
    " '2018-08',\n",
    " '2018-09',\n",
    " '2018-10',\n",
    " '2018-11',\n",
    " '2018-12']\n",
    "ten_2019=['2019-01',\n",
    " '2019-02',\n",
    " '2019-03',\n",
    " '2019-04',\n",
    " '2019-05',\n",
    " '2019-06']\n",
    "\n",
    "ten_year_avg=['2009','2010','2011','2012','2013','2014',\n",
    "                                       '2015','2016','2017','2018','2019']\n",
    "br1.head()"
   ]
  },
  {
   "cell_type": "code",
   "execution_count": 5,
   "metadata": {},
   "outputs": [
    {
     "data": {
      "text/html": [
       "<div>\n",
       "<style scoped>\n",
       "    .dataframe tbody tr th:only-of-type {\n",
       "        vertical-align: middle;\n",
       "    }\n",
       "\n",
       "    .dataframe tbody tr th {\n",
       "        vertical-align: top;\n",
       "    }\n",
       "\n",
       "    .dataframe thead th {\n",
       "        text-align: right;\n",
       "    }\n",
       "</style>\n",
       "<table border=\"1\" class=\"dataframe\">\n",
       "  <thead>\n",
       "    <tr style=\"text-align: right;\">\n",
       "      <th></th>\n",
       "      <th>RegionName</th>\n",
       "      <th>2009-01</th>\n",
       "      <th>2009-02</th>\n",
       "      <th>2009-03</th>\n",
       "      <th>2009-04</th>\n",
       "      <th>2009-05</th>\n",
       "      <th>2009-06</th>\n",
       "      <th>2009-07</th>\n",
       "      <th>2009-08</th>\n",
       "      <th>2009-09</th>\n",
       "      <th>...</th>\n",
       "      <th>2018-09</th>\n",
       "      <th>2018-10</th>\n",
       "      <th>2018-11</th>\n",
       "      <th>2018-12</th>\n",
       "      <th>2019-01</th>\n",
       "      <th>2019-02</th>\n",
       "      <th>2019-03</th>\n",
       "      <th>2019-04</th>\n",
       "      <th>2019-05</th>\n",
       "      <th>2019-06</th>\n",
       "    </tr>\n",
       "  </thead>\n",
       "  <tbody>\n",
       "    <tr>\n",
       "      <th>0</th>\n",
       "      <td>Alabama</td>\n",
       "      <td>98600.0</td>\n",
       "      <td>97800.0</td>\n",
       "      <td>97000.0</td>\n",
       "      <td>95800.0</td>\n",
       "      <td>94500.0</td>\n",
       "      <td>93500.0</td>\n",
       "      <td>92900.0</td>\n",
       "      <td>92200.0</td>\n",
       "      <td>91400.0</td>\n",
       "      <td>...</td>\n",
       "      <td>93400.0</td>\n",
       "      <td>93600.0</td>\n",
       "      <td>94100.0</td>\n",
       "      <td>94100.0</td>\n",
       "      <td>94400.0</td>\n",
       "      <td>94900.0</td>\n",
       "      <td>95100.0</td>\n",
       "      <td>94700.0</td>\n",
       "      <td>94900.0</td>\n",
       "      <td>96000.0</td>\n",
       "    </tr>\n",
       "    <tr>\n",
       "      <th>1</th>\n",
       "      <td>Alaska</td>\n",
       "      <td>135200.0</td>\n",
       "      <td>135400.0</td>\n",
       "      <td>135800.0</td>\n",
       "      <td>136300.0</td>\n",
       "      <td>136400.0</td>\n",
       "      <td>136300.0</td>\n",
       "      <td>136000.0</td>\n",
       "      <td>135500.0</td>\n",
       "      <td>135200.0</td>\n",
       "      <td>...</td>\n",
       "      <td>137900.0</td>\n",
       "      <td>138500.0</td>\n",
       "      <td>139100.0</td>\n",
       "      <td>138200.0</td>\n",
       "      <td>137200.0</td>\n",
       "      <td>137100.0</td>\n",
       "      <td>137700.0</td>\n",
       "      <td>138600.0</td>\n",
       "      <td>138700.0</td>\n",
       "      <td>138300.0</td>\n",
       "    </tr>\n",
       "    <tr>\n",
       "      <th>2</th>\n",
       "      <td>Arizona</td>\n",
       "      <td>105800.0</td>\n",
       "      <td>104700.0</td>\n",
       "      <td>103900.0</td>\n",
       "      <td>103300.0</td>\n",
       "      <td>102700.0</td>\n",
       "      <td>101900.0</td>\n",
       "      <td>100500.0</td>\n",
       "      <td>98800.0</td>\n",
       "      <td>97400.0</td>\n",
       "      <td>...</td>\n",
       "      <td>93800.0</td>\n",
       "      <td>94900.0</td>\n",
       "      <td>95700.0</td>\n",
       "      <td>95400.0</td>\n",
       "      <td>95500.0</td>\n",
       "      <td>96600.0</td>\n",
       "      <td>98000.0</td>\n",
       "      <td>99200.0</td>\n",
       "      <td>100600.0</td>\n",
       "      <td>101900.0</td>\n",
       "    </tr>\n",
       "    <tr>\n",
       "      <th>3</th>\n",
       "      <td>Arkansas</td>\n",
       "      <td>79400.0</td>\n",
       "      <td>79200.0</td>\n",
       "      <td>79000.0</td>\n",
       "      <td>78800.0</td>\n",
       "      <td>78600.0</td>\n",
       "      <td>78400.0</td>\n",
       "      <td>78300.0</td>\n",
       "      <td>78100.0</td>\n",
       "      <td>78100.0</td>\n",
       "      <td>...</td>\n",
       "      <td>94500.0</td>\n",
       "      <td>95200.0</td>\n",
       "      <td>96200.0</td>\n",
       "      <td>97100.0</td>\n",
       "      <td>97700.0</td>\n",
       "      <td>98200.0</td>\n",
       "      <td>98400.0</td>\n",
       "      <td>97700.0</td>\n",
       "      <td>97300.0</td>\n",
       "      <td>97300.0</td>\n",
       "    </tr>\n",
       "    <tr>\n",
       "      <th>4</th>\n",
       "      <td>California</td>\n",
       "      <td>248100.0</td>\n",
       "      <td>243900.0</td>\n",
       "      <td>239400.0</td>\n",
       "      <td>234900.0</td>\n",
       "      <td>230100.0</td>\n",
       "      <td>225700.0</td>\n",
       "      <td>222300.0</td>\n",
       "      <td>219700.0</td>\n",
       "      <td>217700.0</td>\n",
       "      <td>...</td>\n",
       "      <td>383800.0</td>\n",
       "      <td>385400.0</td>\n",
       "      <td>386800.0</td>\n",
       "      <td>387800.0</td>\n",
       "      <td>388200.0</td>\n",
       "      <td>388000.0</td>\n",
       "      <td>387500.0</td>\n",
       "      <td>387400.0</td>\n",
       "      <td>386600.0</td>\n",
       "      <td>385400.0</td>\n",
       "    </tr>\n",
       "  </tbody>\n",
       "</table>\n",
       "<p>5 rows × 127 columns</p>\n",
       "</div>"
      ],
      "text/plain": [
       "   RegionName   2009-01   2009-02   2009-03   2009-04   2009-05   2009-06  \\\n",
       "0     Alabama   98600.0   97800.0   97000.0   95800.0   94500.0   93500.0   \n",
       "1      Alaska  135200.0  135400.0  135800.0  136300.0  136400.0  136300.0   \n",
       "2     Arizona  105800.0  104700.0  103900.0  103300.0  102700.0  101900.0   \n",
       "3    Arkansas   79400.0   79200.0   79000.0   78800.0   78600.0   78400.0   \n",
       "4  California  248100.0  243900.0  239400.0  234900.0  230100.0  225700.0   \n",
       "\n",
       "    2009-07   2009-08   2009-09    ...      2018-09   2018-10   2018-11  \\\n",
       "0   92900.0   92200.0   91400.0    ...      93400.0   93600.0   94100.0   \n",
       "1  136000.0  135500.0  135200.0    ...     137900.0  138500.0  139100.0   \n",
       "2  100500.0   98800.0   97400.0    ...      93800.0   94900.0   95700.0   \n",
       "3   78300.0   78100.0   78100.0    ...      94500.0   95200.0   96200.0   \n",
       "4  222300.0  219700.0  217700.0    ...     383800.0  385400.0  386800.0   \n",
       "\n",
       "    2018-12   2019-01   2019-02   2019-03   2019-04   2019-05   2019-06  \n",
       "0   94100.0   94400.0   94900.0   95100.0   94700.0   94900.0   96000.0  \n",
       "1  138200.0  137200.0  137100.0  137700.0  138600.0  138700.0  138300.0  \n",
       "2   95400.0   95500.0   96600.0   98000.0   99200.0  100600.0  101900.0  \n",
       "3   97100.0   97700.0   98200.0   98400.0   97700.0   97300.0   97300.0  \n",
       "4  387800.0  388200.0  388000.0  387500.0  387400.0  386600.0  385400.0  \n",
       "\n",
       "[5 rows x 127 columns]"
      ]
     },
     "execution_count": 5,
     "metadata": {},
     "output_type": "execute_result"
    }
   ],
   "source": [
    "#Creating a new dataframe for the last 10 years only\n",
    "New_br1=pd.DataFrame(br1, columns=ten_year)\n",
    "New_br1.head()"
   ]
  },
  {
   "cell_type": "code",
   "execution_count": 6,
   "metadata": {},
   "outputs": [],
   "source": [
    "#Average per State for each year for the last 10 years\n",
    "New_br1['2009']=New_br1[ten_2009].mean(axis=1)\n",
    "New_br1['2010']=New_br1[ten_2010].mean(axis=1)\n",
    "New_br1['2011']=New_br1[ten_2011].mean(axis=1)\n",
    "New_br1['2012']=New_br1[ten_2012].mean(axis=1)\n",
    "New_br1['2013']=New_br1[ten_2013].mean(axis=1)\n",
    "New_br1['2014']=New_br1[ten_2014].mean(axis=1)\n",
    "New_br1['2015']=New_br1[ten_2015].mean(axis=1)\n",
    "New_br1['2016']=New_br1[ten_2016].mean(axis=1)\n",
    "New_br1['2017']=New_br1[ten_2017].mean(axis=1)\n",
    "New_br1['2018']=New_br1[ten_2018].mean(axis=1)\n",
    "New_br1['2019']=New_br1[ten_2019].mean(axis=1)\n",
    "New_br1['Avg_1br']=New_br1[ten_year].mean(axis=1)"
   ]
  },
  {
   "cell_type": "code",
   "execution_count": 7,
   "metadata": {},
   "outputs": [
    {
     "data": {
      "text/html": [
       "<div>\n",
       "<style scoped>\n",
       "    .dataframe tbody tr th:only-of-type {\n",
       "        vertical-align: middle;\n",
       "    }\n",
       "\n",
       "    .dataframe tbody tr th {\n",
       "        vertical-align: top;\n",
       "    }\n",
       "\n",
       "    .dataframe thead th {\n",
       "        text-align: right;\n",
       "    }\n",
       "</style>\n",
       "<table border=\"1\" class=\"dataframe\">\n",
       "  <thead>\n",
       "    <tr style=\"text-align: right;\">\n",
       "      <th></th>\n",
       "      <th>RegionName</th>\n",
       "      <th>2009</th>\n",
       "      <th>2010</th>\n",
       "      <th>2011</th>\n",
       "      <th>2012</th>\n",
       "      <th>2013</th>\n",
       "      <th>2014</th>\n",
       "      <th>2015</th>\n",
       "      <th>2016</th>\n",
       "      <th>2017</th>\n",
       "      <th>2018</th>\n",
       "      <th>2019</th>\n",
       "      <th>Avg_1br</th>\n",
       "    </tr>\n",
       "  </thead>\n",
       "  <tbody>\n",
       "    <tr>\n",
       "      <th>0</th>\n",
       "      <td>Alabama</td>\n",
       "      <td>93641.67</td>\n",
       "      <td>88508.33</td>\n",
       "      <td>84085.71</td>\n",
       "      <td>82891.67</td>\n",
       "      <td>76291.67</td>\n",
       "      <td>78991.67</td>\n",
       "      <td>82458.33</td>\n",
       "      <td>85533.33</td>\n",
       "      <td>88316.67</td>\n",
       "      <td>93008.33</td>\n",
       "      <td>95000.00</td>\n",
       "      <td>85788.10</td>\n",
       "    </tr>\n",
       "    <tr>\n",
       "      <th>1</th>\n",
       "      <td>Alaska</td>\n",
       "      <td>135758.33</td>\n",
       "      <td>134016.67</td>\n",
       "      <td>133835.71</td>\n",
       "      <td>130925.00</td>\n",
       "      <td>133591.67</td>\n",
       "      <td>140183.33</td>\n",
       "      <td>139300.00</td>\n",
       "      <td>137641.67</td>\n",
       "      <td>141441.67</td>\n",
       "      <td>141150.00</td>\n",
       "      <td>137933.33</td>\n",
       "      <td>136861.11</td>\n",
       "    </tr>\n",
       "    <tr>\n",
       "      <th>2</th>\n",
       "      <td>Arizona</td>\n",
       "      <td>100775.00</td>\n",
       "      <td>90583.33</td>\n",
       "      <td>79050.00</td>\n",
       "      <td>81708.33</td>\n",
       "      <td>83283.33</td>\n",
       "      <td>84191.67</td>\n",
       "      <td>81866.67</td>\n",
       "      <td>85491.67</td>\n",
       "      <td>88975.00</td>\n",
       "      <td>93533.33</td>\n",
       "      <td>98633.33</td>\n",
       "      <td>87441.27</td>\n",
       "    </tr>\n",
       "    <tr>\n",
       "      <th>3</th>\n",
       "      <td>Arkansas</td>\n",
       "      <td>78541.67</td>\n",
       "      <td>78325.00</td>\n",
       "      <td>75107.14</td>\n",
       "      <td>75991.67</td>\n",
       "      <td>77825.00</td>\n",
       "      <td>80566.67</td>\n",
       "      <td>81366.67</td>\n",
       "      <td>85116.67</td>\n",
       "      <td>90025.00</td>\n",
       "      <td>93891.67</td>\n",
       "      <td>97766.67</td>\n",
       "      <td>82410.32</td>\n",
       "    </tr>\n",
       "    <tr>\n",
       "      <th>4</th>\n",
       "      <td>California</td>\n",
       "      <td>227391.67</td>\n",
       "      <td>208266.67</td>\n",
       "      <td>187692.86</td>\n",
       "      <td>179925.00</td>\n",
       "      <td>220233.33</td>\n",
       "      <td>261791.67</td>\n",
       "      <td>288550.00</td>\n",
       "      <td>318725.00</td>\n",
       "      <td>347158.33</td>\n",
       "      <td>378983.33</td>\n",
       "      <td>387183.33</td>\n",
       "      <td>267653.97</td>\n",
       "    </tr>\n",
       "  </tbody>\n",
       "</table>\n",
       "</div>"
      ],
      "text/plain": [
       "   RegionName       2009       2010       2011       2012       2013  \\\n",
       "0     Alabama   93641.67   88508.33   84085.71   82891.67   76291.67   \n",
       "1      Alaska  135758.33  134016.67  133835.71  130925.00  133591.67   \n",
       "2     Arizona  100775.00   90583.33   79050.00   81708.33   83283.33   \n",
       "3    Arkansas   78541.67   78325.00   75107.14   75991.67   77825.00   \n",
       "4  California  227391.67  208266.67  187692.86  179925.00  220233.33   \n",
       "\n",
       "        2014       2015       2016       2017       2018       2019    Avg_1br  \n",
       "0   78991.67   82458.33   85533.33   88316.67   93008.33   95000.00   85788.10  \n",
       "1  140183.33  139300.00  137641.67  141441.67  141150.00  137933.33  136861.11  \n",
       "2   84191.67   81866.67   85491.67   88975.00   93533.33   98633.33   87441.27  \n",
       "3   80566.67   81366.67   85116.67   90025.00   93891.67   97766.67   82410.32  \n",
       "4  261791.67  288550.00  318725.00  347158.33  378983.33  387183.33  267653.97  "
      ]
     },
     "execution_count": 7,
     "metadata": {},
     "output_type": "execute_result"
    }
   ],
   "source": [
    "Final_1br=pd.DataFrame(New_br1, columns=['RegionName','2009','2010','2011','2012','2013','2014',\n",
    "                                       '2015','2016','2017','2018','2019','Avg_1br']).round(2)\n",
    "Final_1br.to_csv(\"Housing_1brdata.csv\", index=True, header=True)\n",
    "\n",
    "Final_1br.head()"
   ]
  },
  {
   "cell_type": "code",
   "execution_count": 8,
   "metadata": {},
   "outputs": [],
   "source": [
    "#Saving the final dataset\n",
    "Final_1br.to_csv(\"Br1.csv\", index=True, header=True)"
   ]
  },
  {
   "cell_type": "code",
   "execution_count": 9,
   "metadata": {},
   "outputs": [
    {
     "data": {
      "text/html": [
       "<div>\n",
       "<style scoped>\n",
       "    .dataframe tbody tr th:only-of-type {\n",
       "        vertical-align: middle;\n",
       "    }\n",
       "\n",
       "    .dataframe tbody tr th {\n",
       "        vertical-align: top;\n",
       "    }\n",
       "\n",
       "    .dataframe thead th {\n",
       "        text-align: right;\n",
       "    }\n",
       "</style>\n",
       "<table border=\"1\" class=\"dataframe\">\n",
       "  <thead>\n",
       "    <tr style=\"text-align: right;\">\n",
       "      <th></th>\n",
       "      <th>RegionName</th>\n",
       "      <th>2009</th>\n",
       "      <th>2010</th>\n",
       "      <th>2011</th>\n",
       "      <th>2012</th>\n",
       "      <th>2013</th>\n",
       "      <th>2014</th>\n",
       "      <th>2015</th>\n",
       "      <th>2016</th>\n",
       "      <th>2017</th>\n",
       "      <th>2018</th>\n",
       "      <th>2019</th>\n",
       "      <th>Avg_2br</th>\n",
       "    </tr>\n",
       "  </thead>\n",
       "  <tbody>\n",
       "    <tr>\n",
       "      <th>0</th>\n",
       "      <td>Alabama</td>\n",
       "      <td>75041.67</td>\n",
       "      <td>67850.00</td>\n",
       "      <td>59235.71</td>\n",
       "      <td>55258.33</td>\n",
       "      <td>52533.33</td>\n",
       "      <td>52558.33</td>\n",
       "      <td>55708.33</td>\n",
       "      <td>59850.00</td>\n",
       "      <td>61800.00</td>\n",
       "      <td>68450.00</td>\n",
       "      <td>72116.67</td>\n",
       "      <td>61854.76</td>\n",
       "    </tr>\n",
       "    <tr>\n",
       "      <th>1</th>\n",
       "      <td>Alaska</td>\n",
       "      <td>196125.00</td>\n",
       "      <td>196083.33</td>\n",
       "      <td>196835.71</td>\n",
       "      <td>193633.33</td>\n",
       "      <td>195066.67</td>\n",
       "      <td>198200.00</td>\n",
       "      <td>206608.33</td>\n",
       "      <td>209166.67</td>\n",
       "      <td>207583.33</td>\n",
       "      <td>209891.67</td>\n",
       "      <td>207850.00</td>\n",
       "      <td>201549.46</td>\n",
       "    </tr>\n",
       "    <tr>\n",
       "      <th>2</th>\n",
       "      <td>Arizona</td>\n",
       "      <td>110250.00</td>\n",
       "      <td>97266.67</td>\n",
       "      <td>86750.00</td>\n",
       "      <td>84058.33</td>\n",
       "      <td>90100.00</td>\n",
       "      <td>95458.33</td>\n",
       "      <td>96916.67</td>\n",
       "      <td>101641.67</td>\n",
       "      <td>109908.33</td>\n",
       "      <td>119216.67</td>\n",
       "      <td>130016.67</td>\n",
       "      <td>101962.12</td>\n",
       "    </tr>\n",
       "    <tr>\n",
       "      <th>3</th>\n",
       "      <td>Arkansas</td>\n",
       "      <td>96300.00</td>\n",
       "      <td>90066.67</td>\n",
       "      <td>83357.14</td>\n",
       "      <td>82450.00</td>\n",
       "      <td>83200.00</td>\n",
       "      <td>81608.33</td>\n",
       "      <td>81350.00</td>\n",
       "      <td>82100.00</td>\n",
       "      <td>90166.67</td>\n",
       "      <td>99350.00</td>\n",
       "      <td>102733.33</td>\n",
       "      <td>88425.65</td>\n",
       "    </tr>\n",
       "    <tr>\n",
       "      <th>4</th>\n",
       "      <td>California</td>\n",
       "      <td>280241.67</td>\n",
       "      <td>263841.67</td>\n",
       "      <td>246400.00</td>\n",
       "      <td>242958.33</td>\n",
       "      <td>287283.33</td>\n",
       "      <td>329225.00</td>\n",
       "      <td>356258.33</td>\n",
       "      <td>387258.33</td>\n",
       "      <td>421400.00</td>\n",
       "      <td>454641.67</td>\n",
       "      <td>463483.33</td>\n",
       "      <td>339362.88</td>\n",
       "    </tr>\n",
       "  </tbody>\n",
       "</table>\n",
       "</div>"
      ],
      "text/plain": [
       "   RegionName       2009       2010       2011       2012       2013  \\\n",
       "0     Alabama   75041.67   67850.00   59235.71   55258.33   52533.33   \n",
       "1      Alaska  196125.00  196083.33  196835.71  193633.33  195066.67   \n",
       "2     Arizona  110250.00   97266.67   86750.00   84058.33   90100.00   \n",
       "3    Arkansas   96300.00   90066.67   83357.14   82450.00   83200.00   \n",
       "4  California  280241.67  263841.67  246400.00  242958.33  287283.33   \n",
       "\n",
       "        2014       2015       2016       2017       2018       2019    Avg_2br  \n",
       "0   52558.33   55708.33   59850.00   61800.00   68450.00   72116.67   61854.76  \n",
       "1  198200.00  206608.33  209166.67  207583.33  209891.67  207850.00  201549.46  \n",
       "2   95458.33   96916.67  101641.67  109908.33  119216.67  130016.67  101962.12  \n",
       "3   81608.33   81350.00   82100.00   90166.67   99350.00  102733.33   88425.65  \n",
       "4  329225.00  356258.33  387258.33  421400.00  454641.67  463483.33  339362.88  "
      ]
     },
     "execution_count": 9,
     "metadata": {},
     "output_type": "execute_result"
    }
   ],
   "source": [
    "#Load, clean the Data from the CSV files for 02 bedrooms\n",
    "br2= pd.read_csv('State_Zhvi_2bedroom.csv')\n",
    "New_br2=pd.DataFrame(br2, columns=ten_year)\n",
    "New_br2['2009']=New_br2[ten_2009].mean(axis=1)\n",
    "New_br2['2010']=New_br2[ten_2010].mean(axis=1)\n",
    "New_br2['2011']=New_br2[ten_2011].mean(axis=1)\n",
    "New_br2['2012']=New_br2[ten_2012].mean(axis=1)\n",
    "New_br2['2013']=New_br2[ten_2013].mean(axis=1)\n",
    "New_br2['2014']=New_br2[ten_2014].mean(axis=1)\n",
    "New_br2['2015']=New_br2[ten_2015].mean(axis=1)\n",
    "New_br2['2016']=New_br2[ten_2016].mean(axis=1)\n",
    "New_br2['2017']=New_br2[ten_2017].mean(axis=1)\n",
    "New_br2['2018']=New_br2[ten_2018].mean(axis=1)\n",
    "New_br2['2019']=New_br2[ten_2019].mean(axis=1)\n",
    "New_br2['Avg_2br']=New_br2[ten_year_avg].mean(axis=1)\n",
    "Final_2br=pd.DataFrame(New_br2, columns=['RegionName','2009','2010','2011','2012','2013','2014',\n",
    "                                       '2015','2016','2017','2018','2019','Avg_2br']).round(2)\n",
    "\n",
    "Final_2br.head()"
   ]
  },
  {
   "cell_type": "code",
   "execution_count": 10,
   "metadata": {},
   "outputs": [],
   "source": [
    "#Saving the final dataset\n",
    "Final_2br.to_csv(\"Br2.csv\", index=True, header=True)"
   ]
  },
  {
   "cell_type": "code",
   "execution_count": 11,
   "metadata": {},
   "outputs": [],
   "source": [
    "#Load, clean the Data from the CSV files for 03 bedrooms\n",
    "br3= pd.read_csv('State_Zhvi_3bedroom.csv')\n",
    "New_br3=pd.DataFrame(br3, columns=ten_year)\n",
    "New_br3['2009']=New_br3[ten_2009].mean(axis=1)\n",
    "New_br3['2010']=New_br3[ten_2010].mean(axis=1)\n",
    "New_br3['2011']=New_br3[ten_2011].mean(axis=1)\n",
    "New_br3['2012']=New_br3[ten_2012].mean(axis=1)\n",
    "New_br3['2013']=New_br3[ten_2013].mean(axis=1)\n",
    "New_br3['2014']=New_br3[ten_2014].mean(axis=1)\n",
    "New_br3['2015']=New_br3[ten_2015].mean(axis=1)\n",
    "New_br3['2016']=New_br3[ten_2016].mean(axis=1)\n",
    "New_br3['2017']=New_br3[ten_2017].mean(axis=1)\n",
    "New_br3['2018']=New_br3[ten_2018].mean(axis=1)\n",
    "New_br3['2019']=New_br3[ten_2019].mean(axis=1)\n",
    "New_br3['Avg_3br']=New_br3[ten_year_avg].mean(axis=1)\n"
   ]
  },
  {
   "cell_type": "code",
   "execution_count": 12,
   "metadata": {},
   "outputs": [
    {
     "data": {
      "text/html": [
       "<div>\n",
       "<style scoped>\n",
       "    .dataframe tbody tr th:only-of-type {\n",
       "        vertical-align: middle;\n",
       "    }\n",
       "\n",
       "    .dataframe tbody tr th {\n",
       "        vertical-align: top;\n",
       "    }\n",
       "\n",
       "    .dataframe thead th {\n",
       "        text-align: right;\n",
       "    }\n",
       "</style>\n",
       "<table border=\"1\" class=\"dataframe\">\n",
       "  <thead>\n",
       "    <tr style=\"text-align: right;\">\n",
       "      <th></th>\n",
       "      <th>RegionName</th>\n",
       "      <th>2009</th>\n",
       "      <th>2010</th>\n",
       "      <th>2011</th>\n",
       "      <th>2012</th>\n",
       "      <th>2013</th>\n",
       "      <th>2014</th>\n",
       "      <th>2015</th>\n",
       "      <th>2016</th>\n",
       "      <th>2017</th>\n",
       "      <th>2018</th>\n",
       "      <th>2019</th>\n",
       "      <th>Avg_3br</th>\n",
       "    </tr>\n",
       "  </thead>\n",
       "  <tbody>\n",
       "    <tr>\n",
       "      <th>0</th>\n",
       "      <td>Alabama</td>\n",
       "      <td>123566.67</td>\n",
       "      <td>117233.33</td>\n",
       "      <td>108857.14</td>\n",
       "      <td>105800.00</td>\n",
       "      <td>106158.33</td>\n",
       "      <td>108350.00</td>\n",
       "      <td>112633.33</td>\n",
       "      <td>117416.67</td>\n",
       "      <td>120858.33</td>\n",
       "      <td>128475.00</td>\n",
       "      <td>135216.67</td>\n",
       "      <td>116778.68</td>\n",
       "    </tr>\n",
       "    <tr>\n",
       "      <th>1</th>\n",
       "      <td>Alaska</td>\n",
       "      <td>284350.00</td>\n",
       "      <td>285816.67</td>\n",
       "      <td>286714.29</td>\n",
       "      <td>284908.33</td>\n",
       "      <td>296700.00</td>\n",
       "      <td>305233.33</td>\n",
       "      <td>317000.00</td>\n",
       "      <td>320391.67</td>\n",
       "      <td>318116.67</td>\n",
       "      <td>320091.67</td>\n",
       "      <td>317666.67</td>\n",
       "      <td>303362.66</td>\n",
       "    </tr>\n",
       "    <tr>\n",
       "      <th>2</th>\n",
       "      <td>Arizona</td>\n",
       "      <td>139300.00</td>\n",
       "      <td>124541.67</td>\n",
       "      <td>111114.29</td>\n",
       "      <td>110541.67</td>\n",
       "      <td>119883.33</td>\n",
       "      <td>125858.33</td>\n",
       "      <td>129966.67</td>\n",
       "      <td>136816.67</td>\n",
       "      <td>144791.67</td>\n",
       "      <td>153125.00</td>\n",
       "      <td>161916.67</td>\n",
       "      <td>132532.36</td>\n",
       "    </tr>\n",
       "    <tr>\n",
       "      <th>3</th>\n",
       "      <td>Arkansas</td>\n",
       "      <td>135625.00</td>\n",
       "      <td>133008.33</td>\n",
       "      <td>129214.29</td>\n",
       "      <td>125825.00</td>\n",
       "      <td>128441.67</td>\n",
       "      <td>128966.67</td>\n",
       "      <td>128975.00</td>\n",
       "      <td>134266.67</td>\n",
       "      <td>139125.00</td>\n",
       "      <td>148216.67</td>\n",
       "      <td>154116.67</td>\n",
       "      <td>135071.00</td>\n",
       "    </tr>\n",
       "    <tr>\n",
       "      <th>4</th>\n",
       "      <td>California</td>\n",
       "      <td>323016.67</td>\n",
       "      <td>312341.67</td>\n",
       "      <td>295292.86</td>\n",
       "      <td>293566.67</td>\n",
       "      <td>344125.00</td>\n",
       "      <td>385733.33</td>\n",
       "      <td>414825.00</td>\n",
       "      <td>443958.33</td>\n",
       "      <td>478491.67</td>\n",
       "      <td>512775.00</td>\n",
       "      <td>522266.67</td>\n",
       "      <td>393308.44</td>\n",
       "    </tr>\n",
       "  </tbody>\n",
       "</table>\n",
       "</div>"
      ],
      "text/plain": [
       "   RegionName       2009       2010       2011       2012       2013  \\\n",
       "0     Alabama  123566.67  117233.33  108857.14  105800.00  106158.33   \n",
       "1      Alaska  284350.00  285816.67  286714.29  284908.33  296700.00   \n",
       "2     Arizona  139300.00  124541.67  111114.29  110541.67  119883.33   \n",
       "3    Arkansas  135625.00  133008.33  129214.29  125825.00  128441.67   \n",
       "4  California  323016.67  312341.67  295292.86  293566.67  344125.00   \n",
       "\n",
       "        2014       2015       2016       2017       2018       2019    Avg_3br  \n",
       "0  108350.00  112633.33  117416.67  120858.33  128475.00  135216.67  116778.68  \n",
       "1  305233.33  317000.00  320391.67  318116.67  320091.67  317666.67  303362.66  \n",
       "2  125858.33  129966.67  136816.67  144791.67  153125.00  161916.67  132532.36  \n",
       "3  128966.67  128975.00  134266.67  139125.00  148216.67  154116.67  135071.00  \n",
       "4  385733.33  414825.00  443958.33  478491.67  512775.00  522266.67  393308.44  "
      ]
     },
     "execution_count": 12,
     "metadata": {},
     "output_type": "execute_result"
    }
   ],
   "source": [
    "Final_3br=pd.DataFrame(New_br3, columns=['RegionName','2009','2010','2011','2012','2013','2014',\n",
    "                                       '2015','2016','2017','2018','2019','Avg_3br']).round(2)\n",
    "Final_3br.head()"
   ]
  },
  {
   "cell_type": "code",
   "execution_count": 13,
   "metadata": {},
   "outputs": [],
   "source": [
    "#Saving the final dataset\n",
    "Final_3br.to_csv(\"Br3.csv\", index=True, header=True)"
   ]
  },
  {
   "cell_type": "code",
   "execution_count": 14,
   "metadata": {},
   "outputs": [
    {
     "data": {
      "text/html": [
       "<div>\n",
       "<style scoped>\n",
       "    .dataframe tbody tr th:only-of-type {\n",
       "        vertical-align: middle;\n",
       "    }\n",
       "\n",
       "    .dataframe tbody tr th {\n",
       "        vertical-align: top;\n",
       "    }\n",
       "\n",
       "    .dataframe thead th {\n",
       "        text-align: right;\n",
       "    }\n",
       "</style>\n",
       "<table border=\"1\" class=\"dataframe\">\n",
       "  <thead>\n",
       "    <tr style=\"text-align: right;\">\n",
       "      <th></th>\n",
       "      <th>RegionName</th>\n",
       "      <th>2009</th>\n",
       "      <th>2010</th>\n",
       "      <th>2011</th>\n",
       "      <th>2012</th>\n",
       "      <th>2013</th>\n",
       "      <th>2014</th>\n",
       "      <th>2015</th>\n",
       "      <th>2016</th>\n",
       "      <th>2017</th>\n",
       "      <th>2018</th>\n",
       "      <th>2019</th>\n",
       "      <th>Avg_4br</th>\n",
       "    </tr>\n",
       "  </thead>\n",
       "  <tbody>\n",
       "    <tr>\n",
       "      <th>0</th>\n",
       "      <td>Alabama</td>\n",
       "      <td>238566.67</td>\n",
       "      <td>229633.33</td>\n",
       "      <td>219671.43</td>\n",
       "      <td>216966.67</td>\n",
       "      <td>222158.33</td>\n",
       "      <td>228891.67</td>\n",
       "      <td>233833.33</td>\n",
       "      <td>241475.00</td>\n",
       "      <td>243358.33</td>\n",
       "      <td>256825.00</td>\n",
       "      <td>269033.33</td>\n",
       "      <td>236401.19</td>\n",
       "    </tr>\n",
       "    <tr>\n",
       "      <th>1</th>\n",
       "      <td>Alaska</td>\n",
       "      <td>375733.33</td>\n",
       "      <td>378016.67</td>\n",
       "      <td>380035.71</td>\n",
       "      <td>388783.33</td>\n",
       "      <td>398550.00</td>\n",
       "      <td>400291.67</td>\n",
       "      <td>414775.00</td>\n",
       "      <td>427341.67</td>\n",
       "      <td>419666.67</td>\n",
       "      <td>420091.67</td>\n",
       "      <td>410116.67</td>\n",
       "      <td>401218.40</td>\n",
       "    </tr>\n",
       "    <tr>\n",
       "      <th>2</th>\n",
       "      <td>Arizona</td>\n",
       "      <td>214358.33</td>\n",
       "      <td>197925.00</td>\n",
       "      <td>177800.00</td>\n",
       "      <td>175883.33</td>\n",
       "      <td>188158.33</td>\n",
       "      <td>195325.00</td>\n",
       "      <td>200166.67</td>\n",
       "      <td>208341.67</td>\n",
       "      <td>220275.00</td>\n",
       "      <td>229866.67</td>\n",
       "      <td>237816.67</td>\n",
       "      <td>204174.24</td>\n",
       "    </tr>\n",
       "    <tr>\n",
       "      <th>3</th>\n",
       "      <td>Arkansas</td>\n",
       "      <td>230641.67</td>\n",
       "      <td>223033.33</td>\n",
       "      <td>218735.71</td>\n",
       "      <td>219866.67</td>\n",
       "      <td>220616.67</td>\n",
       "      <td>225400.00</td>\n",
       "      <td>225750.00</td>\n",
       "      <td>238775.00</td>\n",
       "      <td>242491.67</td>\n",
       "      <td>256008.33</td>\n",
       "      <td>270583.33</td>\n",
       "      <td>233809.31</td>\n",
       "    </tr>\n",
       "    <tr>\n",
       "      <th>4</th>\n",
       "      <td>California</td>\n",
       "      <td>421383.33</td>\n",
       "      <td>413341.67</td>\n",
       "      <td>390035.71</td>\n",
       "      <td>389000.00</td>\n",
       "      <td>450891.67</td>\n",
       "      <td>497775.00</td>\n",
       "      <td>531325.00</td>\n",
       "      <td>566066.67</td>\n",
       "      <td>605083.33</td>\n",
       "      <td>639708.33</td>\n",
       "      <td>646583.33</td>\n",
       "      <td>504654.00</td>\n",
       "    </tr>\n",
       "  </tbody>\n",
       "</table>\n",
       "</div>"
      ],
      "text/plain": [
       "   RegionName       2009       2010       2011       2012       2013  \\\n",
       "0     Alabama  238566.67  229633.33  219671.43  216966.67  222158.33   \n",
       "1      Alaska  375733.33  378016.67  380035.71  388783.33  398550.00   \n",
       "2     Arizona  214358.33  197925.00  177800.00  175883.33  188158.33   \n",
       "3    Arkansas  230641.67  223033.33  218735.71  219866.67  220616.67   \n",
       "4  California  421383.33  413341.67  390035.71  389000.00  450891.67   \n",
       "\n",
       "        2014       2015       2016       2017       2018       2019    Avg_4br  \n",
       "0  228891.67  233833.33  241475.00  243358.33  256825.00  269033.33  236401.19  \n",
       "1  400291.67  414775.00  427341.67  419666.67  420091.67  410116.67  401218.40  \n",
       "2  195325.00  200166.67  208341.67  220275.00  229866.67  237816.67  204174.24  \n",
       "3  225400.00  225750.00  238775.00  242491.67  256008.33  270583.33  233809.31  \n",
       "4  497775.00  531325.00  566066.67  605083.33  639708.33  646583.33  504654.00  "
      ]
     },
     "execution_count": 14,
     "metadata": {},
     "output_type": "execute_result"
    }
   ],
   "source": [
    "#Load, clean the Data from the CSV files for 4 bedrooms\n",
    "br4= pd.read_csv('State_Zhvi_4bedroom.csv')\n",
    "New_br4=pd.DataFrame(br4, columns=ten_year)\n",
    "New_br4['2009']=New_br4[ten_2009].mean(axis=1)\n",
    "New_br4['2010']=New_br4[ten_2010].mean(axis=1)\n",
    "New_br4['2011']=New_br4[ten_2011].mean(axis=1)\n",
    "New_br4['2012']=New_br4[ten_2012].mean(axis=1)\n",
    "New_br4['2013']=New_br4[ten_2013].mean(axis=1)\n",
    "New_br4['2014']=New_br4[ten_2014].mean(axis=1)\n",
    "New_br4['2015']=New_br4[ten_2015].mean(axis=1)\n",
    "New_br4['2016']=New_br4[ten_2016].mean(axis=1)\n",
    "New_br4['2017']=New_br4[ten_2017].mean(axis=1)\n",
    "New_br4['2018']=New_br4[ten_2018].mean(axis=1)\n",
    "New_br4['2019']=New_br4[ten_2019].mean(axis=1)\n",
    "New_br4['Avg_4br']=New_br4[ten_year_avg].mean(axis=1)\n",
    "Final_4br=pd.DataFrame(New_br4, columns=['RegionName','2009','2010','2011','2012','2013','2014',\n",
    "                                       '2015','2016','2017','2018','2019','Avg_4br']).round(2)\n",
    "Final_4br.head()"
   ]
  },
  {
   "cell_type": "code",
   "execution_count": 15,
   "metadata": {},
   "outputs": [],
   "source": [
    "#Saving the final dataset\n",
    "Final_4br.to_csv(\"Br4.csv\", index=True, header=True)"
   ]
  },
  {
   "cell_type": "code",
   "execution_count": 16,
   "metadata": {},
   "outputs": [
    {
     "data": {
      "text/html": [
       "<div>\n",
       "<style scoped>\n",
       "    .dataframe tbody tr th:only-of-type {\n",
       "        vertical-align: middle;\n",
       "    }\n",
       "\n",
       "    .dataframe tbody tr th {\n",
       "        vertical-align: top;\n",
       "    }\n",
       "\n",
       "    .dataframe thead th {\n",
       "        text-align: right;\n",
       "    }\n",
       "</style>\n",
       "<table border=\"1\" class=\"dataframe\">\n",
       "  <thead>\n",
       "    <tr style=\"text-align: right;\">\n",
       "      <th></th>\n",
       "      <th>RegionName</th>\n",
       "      <th>2009</th>\n",
       "      <th>2010</th>\n",
       "      <th>2011</th>\n",
       "      <th>2012</th>\n",
       "      <th>2013</th>\n",
       "      <th>2014</th>\n",
       "      <th>2015</th>\n",
       "      <th>2016</th>\n",
       "      <th>2017</th>\n",
       "      <th>2018</th>\n",
       "      <th>2019</th>\n",
       "      <th>Avg_5br</th>\n",
       "    </tr>\n",
       "  </thead>\n",
       "  <tbody>\n",
       "    <tr>\n",
       "      <th>0</th>\n",
       "      <td>Alabama</td>\n",
       "      <td>364600.00</td>\n",
       "      <td>345441.67</td>\n",
       "      <td>330635.71</td>\n",
       "      <td>322300.00</td>\n",
       "      <td>324058.33</td>\n",
       "      <td>335875.00</td>\n",
       "      <td>347383.33</td>\n",
       "      <td>358600.00</td>\n",
       "      <td>365241.67</td>\n",
       "      <td>379125.00</td>\n",
       "      <td>396250.00</td>\n",
       "      <td>351773.70</td>\n",
       "    </tr>\n",
       "    <tr>\n",
       "      <th>1</th>\n",
       "      <td>Alaska</td>\n",
       "      <td>461575.00</td>\n",
       "      <td>457183.33</td>\n",
       "      <td>461814.29</td>\n",
       "      <td>473058.33</td>\n",
       "      <td>478766.67</td>\n",
       "      <td>479208.33</td>\n",
       "      <td>499516.67</td>\n",
       "      <td>524833.33</td>\n",
       "      <td>524050.00</td>\n",
       "      <td>525050.00</td>\n",
       "      <td>520716.67</td>\n",
       "      <td>491433.87</td>\n",
       "    </tr>\n",
       "    <tr>\n",
       "      <th>2</th>\n",
       "      <td>Arizona</td>\n",
       "      <td>161650.00</td>\n",
       "      <td>150541.67</td>\n",
       "      <td>129907.14</td>\n",
       "      <td>126641.67</td>\n",
       "      <td>139233.33</td>\n",
       "      <td>144450.00</td>\n",
       "      <td>141633.33</td>\n",
       "      <td>152891.67</td>\n",
       "      <td>159991.67</td>\n",
       "      <td>169108.33</td>\n",
       "      <td>175900.00</td>\n",
       "      <td>150177.16</td>\n",
       "    </tr>\n",
       "    <tr>\n",
       "      <th>3</th>\n",
       "      <td>Arkansas</td>\n",
       "      <td>343141.67</td>\n",
       "      <td>321600.00</td>\n",
       "      <td>323064.29</td>\n",
       "      <td>316200.00</td>\n",
       "      <td>316833.33</td>\n",
       "      <td>327091.67</td>\n",
       "      <td>332733.33</td>\n",
       "      <td>347183.33</td>\n",
       "      <td>347591.67</td>\n",
       "      <td>369075.00</td>\n",
       "      <td>387216.67</td>\n",
       "      <td>339248.27</td>\n",
       "    </tr>\n",
       "    <tr>\n",
       "      <th>4</th>\n",
       "      <td>California</td>\n",
       "      <td>578141.67</td>\n",
       "      <td>568391.67</td>\n",
       "      <td>537814.29</td>\n",
       "      <td>544500.00</td>\n",
       "      <td>625891.67</td>\n",
       "      <td>680225.00</td>\n",
       "      <td>718916.67</td>\n",
       "      <td>757608.33</td>\n",
       "      <td>799900.00</td>\n",
       "      <td>843025.00</td>\n",
       "      <td>849550.00</td>\n",
       "      <td>682178.57</td>\n",
       "    </tr>\n",
       "  </tbody>\n",
       "</table>\n",
       "</div>"
      ],
      "text/plain": [
       "   RegionName       2009       2010       2011       2012       2013  \\\n",
       "0     Alabama  364600.00  345441.67  330635.71  322300.00  324058.33   \n",
       "1      Alaska  461575.00  457183.33  461814.29  473058.33  478766.67   \n",
       "2     Arizona  161650.00  150541.67  129907.14  126641.67  139233.33   \n",
       "3    Arkansas  343141.67  321600.00  323064.29  316200.00  316833.33   \n",
       "4  California  578141.67  568391.67  537814.29  544500.00  625891.67   \n",
       "\n",
       "        2014       2015       2016       2017       2018       2019    Avg_5br  \n",
       "0  335875.00  347383.33  358600.00  365241.67  379125.00  396250.00  351773.70  \n",
       "1  479208.33  499516.67  524833.33  524050.00  525050.00  520716.67  491433.87  \n",
       "2  144450.00  141633.33  152891.67  159991.67  169108.33  175900.00  150177.16  \n",
       "3  327091.67  332733.33  347183.33  347591.67  369075.00  387216.67  339248.27  \n",
       "4  680225.00  718916.67  757608.33  799900.00  843025.00  849550.00  682178.57  "
      ]
     },
     "execution_count": 16,
     "metadata": {},
     "output_type": "execute_result"
    }
   ],
   "source": [
    "\n",
    "\n",
    "#Load, clean the Data from the CSV files for 05 bedrooms or more\n",
    "br5= pd.read_csv('State_Zhvi_5bedroomormore.csv')\n",
    "New_br5=pd.DataFrame(br5, columns=ten_year)\n",
    "New_br5['2009']=New_br5[ten_2009].mean(axis=1)\n",
    "New_br5['2010']=New_br5[ten_2010].mean(axis=1)\n",
    "New_br5['2011']=New_br5[ten_2011].mean(axis=1)\n",
    "New_br5['2012']=New_br5[ten_2012].mean(axis=1)\n",
    "New_br5['2013']=New_br5[ten_2013].mean(axis=1)\n",
    "New_br5['2014']=New_br5[ten_2014].mean(axis=1)\n",
    "New_br5['2015']=New_br5[ten_2015].mean(axis=1)\n",
    "New_br5['2016']=New_br5[ten_2016].mean(axis=1)\n",
    "New_br5['2017']=New_br5[ten_2017].mean(axis=1)\n",
    "New_br5['2018']=New_br5[ten_2018].mean(axis=1)\n",
    "New_br5['2019']=New_br5[ten_2019].mean(axis=1)\n",
    "New_br5['Avg_5br']=New_br5[ten_year_avg].mean(axis=1)\n",
    "Final_5br=pd.DataFrame(New_br5, columns=['RegionName','2009','2010','2011','2012','2013','2014',\n",
    "                                       '2015','2016','2017','2018','2019','Avg_5br']).round(2)\n",
    "Final_5br.head()"
   ]
  },
  {
   "cell_type": "code",
   "execution_count": 17,
   "metadata": {},
   "outputs": [],
   "source": [
    "#Saving the final dataset\n",
    "Final_5br.to_csv(\"Br5.csv\", index=True, header=True)"
   ]
  },
  {
   "cell_type": "code",
   "execution_count": 18,
   "metadata": {},
   "outputs": [
    {
     "data": {
      "text/html": [
       "<div>\n",
       "<style scoped>\n",
       "    .dataframe tbody tr th:only-of-type {\n",
       "        vertical-align: middle;\n",
       "    }\n",
       "\n",
       "    .dataframe tbody tr th {\n",
       "        vertical-align: top;\n",
       "    }\n",
       "\n",
       "    .dataframe thead th {\n",
       "        text-align: right;\n",
       "    }\n",
       "</style>\n",
       "<table border=\"1\" class=\"dataframe\">\n",
       "  <thead>\n",
       "    <tr style=\"text-align: right;\">\n",
       "      <th></th>\n",
       "      <th>RegionName</th>\n",
       "      <th>2009</th>\n",
       "      <th>2010</th>\n",
       "      <th>2011</th>\n",
       "      <th>2012</th>\n",
       "      <th>2013</th>\n",
       "      <th>2014</th>\n",
       "      <th>2015</th>\n",
       "      <th>2016</th>\n",
       "      <th>2017</th>\n",
       "      <th>2018</th>\n",
       "      <th>2019</th>\n",
       "      <th>Avg_All_homes</th>\n",
       "    </tr>\n",
       "  </thead>\n",
       "  <tbody>\n",
       "    <tr>\n",
       "      <th>0</th>\n",
       "      <td>Alabama</td>\n",
       "      <td>105666.67</td>\n",
       "      <td>101700.00</td>\n",
       "      <td>97250.00</td>\n",
       "      <td>97266.67</td>\n",
       "      <td>106500.00</td>\n",
       "      <td>110666.67</td>\n",
       "      <td>113200.00</td>\n",
       "      <td>117066.67</td>\n",
       "      <td>120333.33</td>\n",
       "      <td>126608.33</td>\n",
       "      <td>131450.00</td>\n",
       "      <td>111609.85</td>\n",
       "    </tr>\n",
       "    <tr>\n",
       "      <th>1</th>\n",
       "      <td>Alaska</td>\n",
       "      <td>275641.67</td>\n",
       "      <td>277816.67</td>\n",
       "      <td>278478.57</td>\n",
       "      <td>277408.33</td>\n",
       "      <td>281925.00</td>\n",
       "      <td>287891.67</td>\n",
       "      <td>300550.00</td>\n",
       "      <td>303491.67</td>\n",
       "      <td>305766.67</td>\n",
       "      <td>309141.67</td>\n",
       "      <td>310016.67</td>\n",
       "      <td>291648.05</td>\n",
       "    </tr>\n",
       "    <tr>\n",
       "      <th>2</th>\n",
       "      <td>Arizona</td>\n",
       "      <td>167816.67</td>\n",
       "      <td>150333.33</td>\n",
       "      <td>136100.00</td>\n",
       "      <td>144241.67</td>\n",
       "      <td>166925.00</td>\n",
       "      <td>179875.00</td>\n",
       "      <td>190583.33</td>\n",
       "      <td>206758.33</td>\n",
       "      <td>223658.33</td>\n",
       "      <td>241525.00</td>\n",
       "      <td>253250.00</td>\n",
       "      <td>187369.70</td>\n",
       "    </tr>\n",
       "    <tr>\n",
       "      <th>3</th>\n",
       "      <td>Arkansas</td>\n",
       "      <td>99025.00</td>\n",
       "      <td>97391.67</td>\n",
       "      <td>94678.57</td>\n",
       "      <td>94041.67</td>\n",
       "      <td>97141.67</td>\n",
       "      <td>99958.33</td>\n",
       "      <td>103533.33</td>\n",
       "      <td>109483.33</td>\n",
       "      <td>115558.33</td>\n",
       "      <td>121600.00</td>\n",
       "      <td>126733.33</td>\n",
       "      <td>105376.84</td>\n",
       "    </tr>\n",
       "    <tr>\n",
       "      <th>4</th>\n",
       "      <td>California</td>\n",
       "      <td>342408.33</td>\n",
       "      <td>332483.33</td>\n",
       "      <td>312535.71</td>\n",
       "      <td>310858.33</td>\n",
       "      <td>363791.67</td>\n",
       "      <td>407491.67</td>\n",
       "      <td>435458.33</td>\n",
       "      <td>466533.33</td>\n",
       "      <td>504300.00</td>\n",
       "      <td>540650.00</td>\n",
       "      <td>549183.33</td>\n",
       "      <td>415063.10</td>\n",
       "    </tr>\n",
       "  </tbody>\n",
       "</table>\n",
       "</div>"
      ],
      "text/plain": [
       "   RegionName       2009       2010       2011       2012       2013  \\\n",
       "0     Alabama  105666.67  101700.00   97250.00   97266.67  106500.00   \n",
       "1      Alaska  275641.67  277816.67  278478.57  277408.33  281925.00   \n",
       "2     Arizona  167816.67  150333.33  136100.00  144241.67  166925.00   \n",
       "3    Arkansas   99025.00   97391.67   94678.57   94041.67   97141.67   \n",
       "4  California  342408.33  332483.33  312535.71  310858.33  363791.67   \n",
       "\n",
       "        2014       2015       2016       2017       2018       2019  \\\n",
       "0  110666.67  113200.00  117066.67  120333.33  126608.33  131450.00   \n",
       "1  287891.67  300550.00  303491.67  305766.67  309141.67  310016.67   \n",
       "2  179875.00  190583.33  206758.33  223658.33  241525.00  253250.00   \n",
       "3   99958.33  103533.33  109483.33  115558.33  121600.00  126733.33   \n",
       "4  407491.67  435458.33  466533.33  504300.00  540650.00  549183.33   \n",
       "\n",
       "   Avg_All_homes  \n",
       "0      111609.85  \n",
       "1      291648.05  \n",
       "2      187369.70  \n",
       "3      105376.84  \n",
       "4      415063.10  "
      ]
     },
     "execution_count": 18,
     "metadata": {},
     "output_type": "execute_result"
    }
   ],
   "source": [
    "#Load, clean the Data from the CSV files for all homes\n",
    "br6= pd.read_csv('State_Zhvi_allhomes.csv')\n",
    "New_br6=pd.DataFrame(br6, columns=ten_year)\n",
    "New_br6['2009']=New_br6[ten_2009].mean(axis=1)\n",
    "New_br6['2010']=New_br6[ten_2010].mean(axis=1)\n",
    "New_br6['2011']=New_br6[ten_2011].mean(axis=1)\n",
    "New_br6['2012']=New_br6[ten_2012].mean(axis=1)\n",
    "New_br6['2013']=New_br6[ten_2013].mean(axis=1)\n",
    "New_br6['2014']=New_br6[ten_2014].mean(axis=1)\n",
    "New_br6['2015']=New_br6[ten_2015].mean(axis=1)\n",
    "New_br6['2016']=New_br6[ten_2016].mean(axis=1)\n",
    "New_br6['2017']=New_br6[ten_2017].mean(axis=1)\n",
    "New_br6['2018']=New_br6[ten_2018].mean(axis=1)\n",
    "New_br6['2019']=New_br6[ten_2019].mean(axis=1)\n",
    "New_br6['Avg_All_homes']=New_br6[ten_year_avg].mean(axis=1)\n",
    "All_Homes=pd.DataFrame(New_br6, columns=['RegionName','2009','2010','2011','2012','2013','2014',\n",
    "                                       '2015','2016','2017','2018','2019','Avg_All_homes']).round(2)\n",
    "All_Homes.head()"
   ]
  },
  {
   "cell_type": "code",
   "execution_count": 19,
   "metadata": {},
   "outputs": [],
   "source": [
    "#Saving the final dataset\n",
    "All_Homes.to_csv(\"All_homes.csv\", index=True, header=True)"
   ]
  },
  {
   "cell_type": "code",
   "execution_count": 20,
   "metadata": {},
   "outputs": [
    {
     "data": {
      "text/html": [
       "<div>\n",
       "<style scoped>\n",
       "    .dataframe tbody tr th:only-of-type {\n",
       "        vertical-align: middle;\n",
       "    }\n",
       "\n",
       "    .dataframe tbody tr th {\n",
       "        vertical-align: top;\n",
       "    }\n",
       "\n",
       "    .dataframe thead th {\n",
       "        text-align: right;\n",
       "    }\n",
       "</style>\n",
       "<table border=\"1\" class=\"dataframe\">\n",
       "  <thead>\n",
       "    <tr style=\"text-align: right;\">\n",
       "      <th></th>\n",
       "      <th>RegionName</th>\n",
       "      <th>2009</th>\n",
       "      <th>2010</th>\n",
       "      <th>2011</th>\n",
       "      <th>2012</th>\n",
       "      <th>2013</th>\n",
       "      <th>2014</th>\n",
       "      <th>2015</th>\n",
       "      <th>2016</th>\n",
       "      <th>2017</th>\n",
       "      <th>2018</th>\n",
       "      <th>2019</th>\n",
       "      <th>Avg_Bottomtier</th>\n",
       "    </tr>\n",
       "  </thead>\n",
       "  <tbody>\n",
       "    <tr>\n",
       "      <th>0</th>\n",
       "      <td>Alabama</td>\n",
       "      <td>40191.67</td>\n",
       "      <td>36908.33</td>\n",
       "      <td>34385.71</td>\n",
       "      <td>35008.33</td>\n",
       "      <td>39158.33</td>\n",
       "      <td>40116.67</td>\n",
       "      <td>41041.67</td>\n",
       "      <td>43183.33</td>\n",
       "      <td>44708.33</td>\n",
       "      <td>49991.67</td>\n",
       "      <td>52383.33</td>\n",
       "      <td>41552.49</td>\n",
       "    </tr>\n",
       "    <tr>\n",
       "      <th>1</th>\n",
       "      <td>Alaska</td>\n",
       "      <td>186100.00</td>\n",
       "      <td>188058.33</td>\n",
       "      <td>189064.29</td>\n",
       "      <td>185866.67</td>\n",
       "      <td>187216.67</td>\n",
       "      <td>188058.33</td>\n",
       "      <td>192533.33</td>\n",
       "      <td>192825.00</td>\n",
       "      <td>195475.00</td>\n",
       "      <td>199275.00</td>\n",
       "      <td>200800.00</td>\n",
       "      <td>191388.42</td>\n",
       "    </tr>\n",
       "    <tr>\n",
       "      <th>2</th>\n",
       "      <td>Arizona</td>\n",
       "      <td>100291.67</td>\n",
       "      <td>82333.33</td>\n",
       "      <td>72978.57</td>\n",
       "      <td>75008.33</td>\n",
       "      <td>92366.67</td>\n",
       "      <td>106266.67</td>\n",
       "      <td>116033.33</td>\n",
       "      <td>127900.00</td>\n",
       "      <td>141075.00</td>\n",
       "      <td>156775.00</td>\n",
       "      <td>166633.33</td>\n",
       "      <td>112514.72</td>\n",
       "    </tr>\n",
       "    <tr>\n",
       "      <th>3</th>\n",
       "      <td>Arkansas</td>\n",
       "      <td>43883.33</td>\n",
       "      <td>43000.00</td>\n",
       "      <td>41528.57</td>\n",
       "      <td>40675.00</td>\n",
       "      <td>41375.00</td>\n",
       "      <td>41366.67</td>\n",
       "      <td>42283.33</td>\n",
       "      <td>44591.67</td>\n",
       "      <td>47791.67</td>\n",
       "      <td>54600.00</td>\n",
       "      <td>56183.33</td>\n",
       "      <td>45207.14</td>\n",
       "    </tr>\n",
       "    <tr>\n",
       "      <th>4</th>\n",
       "      <td>California</td>\n",
       "      <td>171858.33</td>\n",
       "      <td>158433.33</td>\n",
       "      <td>149850.00</td>\n",
       "      <td>148500.00</td>\n",
       "      <td>175175.00</td>\n",
       "      <td>207225.00</td>\n",
       "      <td>228633.33</td>\n",
       "      <td>248375.00</td>\n",
       "      <td>271683.33</td>\n",
       "      <td>294533.33</td>\n",
       "      <td>306050.00</td>\n",
       "      <td>214574.24</td>\n",
       "    </tr>\n",
       "  </tbody>\n",
       "</table>\n",
       "</div>"
      ],
      "text/plain": [
       "   RegionName       2009       2010       2011       2012       2013  \\\n",
       "0     Alabama   40191.67   36908.33   34385.71   35008.33   39158.33   \n",
       "1      Alaska  186100.00  188058.33  189064.29  185866.67  187216.67   \n",
       "2     Arizona  100291.67   82333.33   72978.57   75008.33   92366.67   \n",
       "3    Arkansas   43883.33   43000.00   41528.57   40675.00   41375.00   \n",
       "4  California  171858.33  158433.33  149850.00  148500.00  175175.00   \n",
       "\n",
       "        2014       2015       2016       2017       2018       2019  \\\n",
       "0   40116.67   41041.67   43183.33   44708.33   49991.67   52383.33   \n",
       "1  188058.33  192533.33  192825.00  195475.00  199275.00  200800.00   \n",
       "2  106266.67  116033.33  127900.00  141075.00  156775.00  166633.33   \n",
       "3   41366.67   42283.33   44591.67   47791.67   54600.00   56183.33   \n",
       "4  207225.00  228633.33  248375.00  271683.33  294533.33  306050.00   \n",
       "\n",
       "   Avg_Bottomtier  \n",
       "0        41552.49  \n",
       "1       191388.42  \n",
       "2       112514.72  \n",
       "3        45207.14  \n",
       "4       214574.24  "
      ]
     },
     "execution_count": 20,
     "metadata": {},
     "output_type": "execute_result"
    }
   ],
   "source": [
    "#Load, clean the Data from the CSV files for bottom tier \n",
    "br7= pd.read_csv('State_Zhvi_bottomtier.csv')\n",
    "New_br7=pd.DataFrame(br7, columns=ten_year)\n",
    "New_br7['2009']=New_br7[ten_2009].mean(axis=1)\n",
    "New_br7['2010']=New_br7[ten_2010].mean(axis=1)\n",
    "New_br7['2011']=New_br7[ten_2011].mean(axis=1)\n",
    "New_br7['2012']=New_br7[ten_2012].mean(axis=1)\n",
    "New_br7['2013']=New_br7[ten_2013].mean(axis=1)\n",
    "New_br7['2014']=New_br7[ten_2014].mean(axis=1)\n",
    "New_br7['2015']=New_br7[ten_2015].mean(axis=1)\n",
    "New_br7['2016']=New_br7[ten_2016].mean(axis=1)\n",
    "New_br7['2017']=New_br7[ten_2017].mean(axis=1)\n",
    "New_br7['2018']=New_br7[ten_2018].mean(axis=1)\n",
    "New_br7['2019']=New_br7[ten_2019].mean(axis=1)\n",
    "New_br7['Avg_Bottomtier']=New_br7[ten_year_avg].mean(axis=1)\n",
    "Bottom_tier=pd.DataFrame(New_br7, columns=['RegionName','2009','2010','2011','2012','2013','2014',\n",
    "                                       '2015','2016','2017','2018','2019','Avg_Bottomtier']).round(2)\n",
    "Bottom_tier.head()"
   ]
  },
  {
   "cell_type": "code",
   "execution_count": 21,
   "metadata": {},
   "outputs": [],
   "source": [
    "\n",
    "#Saving the final dataset\n",
    "Bottom_tier.to_csv(\"Bottomtier.csv\", index=True, header=True)"
   ]
  },
  {
   "cell_type": "code",
   "execution_count": 22,
   "metadata": {},
   "outputs": [
    {
     "data": {
      "text/html": [
       "<div>\n",
       "<style scoped>\n",
       "    .dataframe tbody tr th:only-of-type {\n",
       "        vertical-align: middle;\n",
       "    }\n",
       "\n",
       "    .dataframe tbody tr th {\n",
       "        vertical-align: top;\n",
       "    }\n",
       "\n",
       "    .dataframe thead th {\n",
       "        text-align: right;\n",
       "    }\n",
       "</style>\n",
       "<table border=\"1\" class=\"dataframe\">\n",
       "  <thead>\n",
       "    <tr style=\"text-align: right;\">\n",
       "      <th></th>\n",
       "      <th>RegionName</th>\n",
       "      <th>2009</th>\n",
       "      <th>2010</th>\n",
       "      <th>2011</th>\n",
       "      <th>2012</th>\n",
       "      <th>2013</th>\n",
       "      <th>2014</th>\n",
       "      <th>2015</th>\n",
       "      <th>2016</th>\n",
       "      <th>2017</th>\n",
       "      <th>2018</th>\n",
       "      <th>2019</th>\n",
       "      <th>Avg_toptier</th>\n",
       "    </tr>\n",
       "  </thead>\n",
       "  <tbody>\n",
       "    <tr>\n",
       "      <th>0</th>\n",
       "      <td>Alabama</td>\n",
       "      <td>211025.00</td>\n",
       "      <td>203441.67</td>\n",
       "      <td>196528.57</td>\n",
       "      <td>197808.33</td>\n",
       "      <td>214883.33</td>\n",
       "      <td>227441.67</td>\n",
       "      <td>229483.33</td>\n",
       "      <td>232016.67</td>\n",
       "      <td>235141.67</td>\n",
       "      <td>246141.67</td>\n",
       "      <td>255800.00</td>\n",
       "      <td>222701.08</td>\n",
       "    </tr>\n",
       "    <tr>\n",
       "      <th>1</th>\n",
       "      <td>Alaska</td>\n",
       "      <td>407675.00</td>\n",
       "      <td>408116.67</td>\n",
       "      <td>410471.43</td>\n",
       "      <td>416558.33</td>\n",
       "      <td>425541.67</td>\n",
       "      <td>429341.67</td>\n",
       "      <td>443016.67</td>\n",
       "      <td>454225.00</td>\n",
       "      <td>450725.00</td>\n",
       "      <td>457500.00</td>\n",
       "      <td>455633.33</td>\n",
       "      <td>432618.61</td>\n",
       "    </tr>\n",
       "    <tr>\n",
       "      <th>2</th>\n",
       "      <td>Arizona</td>\n",
       "      <td>305908.33</td>\n",
       "      <td>282266.67</td>\n",
       "      <td>263414.29</td>\n",
       "      <td>279166.67</td>\n",
       "      <td>313766.67</td>\n",
       "      <td>333108.33</td>\n",
       "      <td>345083.33</td>\n",
       "      <td>361500.00</td>\n",
       "      <td>379550.00</td>\n",
       "      <td>403700.00</td>\n",
       "      <td>419783.33</td>\n",
       "      <td>335204.33</td>\n",
       "    </tr>\n",
       "    <tr>\n",
       "      <th>3</th>\n",
       "      <td>Arkansas</td>\n",
       "      <td>181191.67</td>\n",
       "      <td>178366.67</td>\n",
       "      <td>176150.00</td>\n",
       "      <td>176766.67</td>\n",
       "      <td>181975.00</td>\n",
       "      <td>187100.00</td>\n",
       "      <td>192008.33</td>\n",
       "      <td>199950.00</td>\n",
       "      <td>207700.00</td>\n",
       "      <td>216033.33</td>\n",
       "      <td>224116.67</td>\n",
       "      <td>192850.76</td>\n",
       "    </tr>\n",
       "    <tr>\n",
       "      <th>4</th>\n",
       "      <td>California</td>\n",
       "      <td>650300.00</td>\n",
       "      <td>644875.00</td>\n",
       "      <td>609857.14</td>\n",
       "      <td>620866.67</td>\n",
       "      <td>717250.00</td>\n",
       "      <td>776375.00</td>\n",
       "      <td>835691.67</td>\n",
       "      <td>891633.33</td>\n",
       "      <td>947258.33</td>\n",
       "      <td>1043075.00</td>\n",
       "      <td>1060033.33</td>\n",
       "      <td>799746.86</td>\n",
       "    </tr>\n",
       "  </tbody>\n",
       "</table>\n",
       "</div>"
      ],
      "text/plain": [
       "   RegionName       2009       2010       2011       2012       2013  \\\n",
       "0     Alabama  211025.00  203441.67  196528.57  197808.33  214883.33   \n",
       "1      Alaska  407675.00  408116.67  410471.43  416558.33  425541.67   \n",
       "2     Arizona  305908.33  282266.67  263414.29  279166.67  313766.67   \n",
       "3    Arkansas  181191.67  178366.67  176150.00  176766.67  181975.00   \n",
       "4  California  650300.00  644875.00  609857.14  620866.67  717250.00   \n",
       "\n",
       "        2014       2015       2016       2017        2018        2019  \\\n",
       "0  227441.67  229483.33  232016.67  235141.67   246141.67   255800.00   \n",
       "1  429341.67  443016.67  454225.00  450725.00   457500.00   455633.33   \n",
       "2  333108.33  345083.33  361500.00  379550.00   403700.00   419783.33   \n",
       "3  187100.00  192008.33  199950.00  207700.00   216033.33   224116.67   \n",
       "4  776375.00  835691.67  891633.33  947258.33  1043075.00  1060033.33   \n",
       "\n",
       "   Avg_toptier  \n",
       "0    222701.08  \n",
       "1    432618.61  \n",
       "2    335204.33  \n",
       "3    192850.76  \n",
       "4    799746.86  "
      ]
     },
     "execution_count": 22,
     "metadata": {},
     "output_type": "execute_result"
    }
   ],
   "source": [
    "#Load, clean the Data from the CSV files for Top tier\n",
    "br8= pd.read_csv('State_Zhvi_toptier.csv')\n",
    "New_br8=pd.DataFrame(br8, columns=ten_year)\n",
    "New_br8['2009']=New_br8[ten_2009].mean(axis=1)\n",
    "New_br8['2010']=New_br8[ten_2010].mean(axis=1)\n",
    "New_br8['2011']=New_br8[ten_2011].mean(axis=1)\n",
    "New_br8['2012']=New_br8[ten_2012].mean(axis=1)\n",
    "New_br8['2013']=New_br8[ten_2013].mean(axis=1)\n",
    "New_br8['2014']=New_br8[ten_2014].mean(axis=1)\n",
    "New_br8['2015']=New_br8[ten_2015].mean(axis=1)\n",
    "New_br8['2016']=New_br8[ten_2016].mean(axis=1)\n",
    "New_br8['2017']=New_br8[ten_2017].mean(axis=1)\n",
    "New_br8['2018']=New_br8[ten_2018].mean(axis=1)\n",
    "New_br8['2019']=New_br8[ten_2019].mean(axis=1)\n",
    "New_br8['Avg_toptier']=New_br8[ten_year_avg].mean(axis=1)\n",
    "Top_tier=pd.DataFrame(New_br8, columns=['RegionName','2009','2010','2011','2012','2013','2014',\n",
    "                                       '2015','2016','2017','2018','2019','Avg_toptier']).round(2)\n",
    "Top_tier.head()"
   ]
  },
  {
   "cell_type": "code",
   "execution_count": 23,
   "metadata": {},
   "outputs": [],
   "source": [
    "#Saving the final dataset\n",
    "Top_tier.to_csv(\"toptier.csv\", index=True, header=True)"
   ]
  },
  {
   "cell_type": "code",
   "execution_count": 24,
   "metadata": {},
   "outputs": [
    {
     "data": {
      "text/html": [
       "<div>\n",
       "<style scoped>\n",
       "    .dataframe tbody tr th:only-of-type {\n",
       "        vertical-align: middle;\n",
       "    }\n",
       "\n",
       "    .dataframe tbody tr th {\n",
       "        vertical-align: top;\n",
       "    }\n",
       "\n",
       "    .dataframe thead th {\n",
       "        text-align: right;\n",
       "    }\n",
       "</style>\n",
       "<table border=\"1\" class=\"dataframe\">\n",
       "  <thead>\n",
       "    <tr style=\"text-align: right;\">\n",
       "      <th></th>\n",
       "      <th>RegionName</th>\n",
       "      <th>Avg_1br</th>\n",
       "      <th>Avg_2br</th>\n",
       "      <th>Avg_3br</th>\n",
       "      <th>Avg_4br</th>\n",
       "      <th>Avg_5br</th>\n",
       "      <th>Avg_Bottomtier</th>\n",
       "      <th>Avg_toptier</th>\n",
       "      <th>Avg_All_homes</th>\n",
       "    </tr>\n",
       "  </thead>\n",
       "  <tbody>\n",
       "    <tr>\n",
       "      <th>0</th>\n",
       "      <td>Alabama</td>\n",
       "      <td>85788.10</td>\n",
       "      <td>61854.76</td>\n",
       "      <td>116778.68</td>\n",
       "      <td>236401.19</td>\n",
       "      <td>351773.70</td>\n",
       "      <td>41552.49</td>\n",
       "      <td>222701.08</td>\n",
       "      <td>111609.85</td>\n",
       "    </tr>\n",
       "    <tr>\n",
       "      <th>1</th>\n",
       "      <td>Alaska</td>\n",
       "      <td>136861.11</td>\n",
       "      <td>201549.46</td>\n",
       "      <td>303362.66</td>\n",
       "      <td>401218.40</td>\n",
       "      <td>491433.87</td>\n",
       "      <td>191388.42</td>\n",
       "      <td>432618.61</td>\n",
       "      <td>291648.05</td>\n",
       "    </tr>\n",
       "    <tr>\n",
       "      <th>2</th>\n",
       "      <td>Arizona</td>\n",
       "      <td>87441.27</td>\n",
       "      <td>101962.12</td>\n",
       "      <td>132532.36</td>\n",
       "      <td>204174.24</td>\n",
       "      <td>150177.16</td>\n",
       "      <td>112514.72</td>\n",
       "      <td>335204.33</td>\n",
       "      <td>187369.70</td>\n",
       "    </tr>\n",
       "    <tr>\n",
       "      <th>3</th>\n",
       "      <td>Arkansas</td>\n",
       "      <td>82410.32</td>\n",
       "      <td>88425.65</td>\n",
       "      <td>135071.00</td>\n",
       "      <td>233809.31</td>\n",
       "      <td>339248.27</td>\n",
       "      <td>45207.14</td>\n",
       "      <td>192850.76</td>\n",
       "      <td>105376.84</td>\n",
       "    </tr>\n",
       "    <tr>\n",
       "      <th>4</th>\n",
       "      <td>California</td>\n",
       "      <td>267653.97</td>\n",
       "      <td>339362.88</td>\n",
       "      <td>393308.44</td>\n",
       "      <td>504654.00</td>\n",
       "      <td>682178.57</td>\n",
       "      <td>214574.24</td>\n",
       "      <td>799746.86</td>\n",
       "      <td>415063.10</td>\n",
       "    </tr>\n",
       "  </tbody>\n",
       "</table>\n",
       "</div>"
      ],
      "text/plain": [
       "   RegionName    Avg_1br    Avg_2br    Avg_3br    Avg_4br    Avg_5br  \\\n",
       "0     Alabama   85788.10   61854.76  116778.68  236401.19  351773.70   \n",
       "1      Alaska  136861.11  201549.46  303362.66  401218.40  491433.87   \n",
       "2     Arizona   87441.27  101962.12  132532.36  204174.24  150177.16   \n",
       "3    Arkansas   82410.32   88425.65  135071.00  233809.31  339248.27   \n",
       "4  California  267653.97  339362.88  393308.44  504654.00  682178.57   \n",
       "\n",
       "   Avg_Bottomtier  Avg_toptier  Avg_All_homes  \n",
       "0        41552.49    222701.08      111609.85  \n",
       "1       191388.42    432618.61      291648.05  \n",
       "2       112514.72    335204.33      187369.70  \n",
       "3        45207.14    192850.76      105376.84  \n",
       "4       214574.24    799746.86      415063.10  "
      ]
     },
     "execution_count": 24,
     "metadata": {},
     "output_type": "execute_result"
    }
   ],
   "source": [
    "#Creating a New dataframe with the average for each category per state\n",
    "Housing_df=pd.concat([All_Homes['RegionName'],Final_1br['Avg_1br'], Final_2br['Avg_2br'],\n",
    "                      Final_3br['Avg_3br'], Final_4br['Avg_4br'],Final_5br['Avg_5br'],\n",
    "                      Bottom_tier['Avg_Bottomtier'],Top_tier['Avg_toptier'],All_Homes['Avg_All_homes'],\n",
    "                      ], axis=1).round(2)\n",
    "Housing_df.head()"
   ]
  },
  {
   "cell_type": "code",
   "execution_count": 25,
   "metadata": {},
   "outputs": [
    {
     "data": {
      "text/html": [
       "<div>\n",
       "<style scoped>\n",
       "    .dataframe tbody tr th:only-of-type {\n",
       "        vertical-align: middle;\n",
       "    }\n",
       "\n",
       "    .dataframe tbody tr th {\n",
       "        vertical-align: top;\n",
       "    }\n",
       "\n",
       "    .dataframe thead th {\n",
       "        text-align: right;\n",
       "    }\n",
       "</style>\n",
       "<table border=\"1\" class=\"dataframe\">\n",
       "  <thead>\n",
       "    <tr style=\"text-align: right;\">\n",
       "      <th></th>\n",
       "      <th>RegionName</th>\n",
       "      <th>Avg_1br</th>\n",
       "      <th>Avg_2br</th>\n",
       "      <th>Avg_3br</th>\n",
       "      <th>Avg_4br</th>\n",
       "      <th>Avg_5br</th>\n",
       "      <th>Avg_Bottomtier</th>\n",
       "      <th>Avg_toptier</th>\n",
       "      <th>Avg_All_homes</th>\n",
       "    </tr>\n",
       "  </thead>\n",
       "  <tbody>\n",
       "    <tr>\n",
       "      <th>0</th>\n",
       "      <td>Alabama</td>\n",
       "      <td>85788.10</td>\n",
       "      <td>61854.76</td>\n",
       "      <td>116778.68</td>\n",
       "      <td>236401.19</td>\n",
       "      <td>351773.70</td>\n",
       "      <td>41552.49</td>\n",
       "      <td>222701.08</td>\n",
       "      <td>111609.85</td>\n",
       "    </tr>\n",
       "    <tr>\n",
       "      <th>1</th>\n",
       "      <td>Alaska</td>\n",
       "      <td>136861.11</td>\n",
       "      <td>201549.46</td>\n",
       "      <td>303362.66</td>\n",
       "      <td>401218.40</td>\n",
       "      <td>491433.87</td>\n",
       "      <td>191388.42</td>\n",
       "      <td>432618.61</td>\n",
       "      <td>291648.05</td>\n",
       "    </tr>\n",
       "    <tr>\n",
       "      <th>2</th>\n",
       "      <td>Arizona</td>\n",
       "      <td>87441.27</td>\n",
       "      <td>101962.12</td>\n",
       "      <td>132532.36</td>\n",
       "      <td>204174.24</td>\n",
       "      <td>150177.16</td>\n",
       "      <td>112514.72</td>\n",
       "      <td>335204.33</td>\n",
       "      <td>187369.70</td>\n",
       "    </tr>\n",
       "    <tr>\n",
       "      <th>3</th>\n",
       "      <td>Arkansas</td>\n",
       "      <td>82410.32</td>\n",
       "      <td>88425.65</td>\n",
       "      <td>135071.00</td>\n",
       "      <td>233809.31</td>\n",
       "      <td>339248.27</td>\n",
       "      <td>45207.14</td>\n",
       "      <td>192850.76</td>\n",
       "      <td>105376.84</td>\n",
       "    </tr>\n",
       "    <tr>\n",
       "      <th>4</th>\n",
       "      <td>California</td>\n",
       "      <td>267653.97</td>\n",
       "      <td>339362.88</td>\n",
       "      <td>393308.44</td>\n",
       "      <td>504654.00</td>\n",
       "      <td>682178.57</td>\n",
       "      <td>214574.24</td>\n",
       "      <td>799746.86</td>\n",
       "      <td>415063.10</td>\n",
       "    </tr>\n",
       "  </tbody>\n",
       "</table>\n",
       "</div>"
      ],
      "text/plain": [
       "   RegionName    Avg_1br    Avg_2br    Avg_3br    Avg_4br    Avg_5br  \\\n",
       "0     Alabama   85788.10   61854.76  116778.68  236401.19  351773.70   \n",
       "1      Alaska  136861.11  201549.46  303362.66  401218.40  491433.87   \n",
       "2     Arizona   87441.27  101962.12  132532.36  204174.24  150177.16   \n",
       "3    Arkansas   82410.32   88425.65  135071.00  233809.31  339248.27   \n",
       "4  California  267653.97  339362.88  393308.44  504654.00  682178.57   \n",
       "\n",
       "   Avg_Bottomtier  Avg_toptier  Avg_All_homes  \n",
       "0        41552.49    222701.08      111609.85  \n",
       "1       191388.42    432618.61      291648.05  \n",
       "2       112514.72    335204.33      187369.70  \n",
       "3        45207.14    192850.76      105376.84  \n",
       "4       214574.24    799746.86      415063.10  "
      ]
     },
     "execution_count": 25,
     "metadata": {},
     "output_type": "execute_result"
    }
   ],
   "source": [
    "#Filling all the NaN with 0\n",
    "Housing_data=Housing_df.fillna(0)\n",
    "Housing_data.head()"
   ]
  },
  {
   "cell_type": "code",
   "execution_count": 26,
   "metadata": {},
   "outputs": [],
   "source": [
    "#Saving the final dataset\n",
    "Housing_data.to_csv(\"Housing_data.csv\", index=True, header=True)"
   ]
  },
  {
   "cell_type": "code",
   "execution_count": 172,
   "metadata": {
    "scrolled": true
   },
   "outputs": [
    {
     "data": {
      "image/png": "[encoded data removed]",
      "text/plain": [
       "<Figure size 720x360 with 1 Axes>"
      ]
     },
     "metadata": {
      "needs_background": "light"
     },
     "output_type": "display_data"
    },
    {
     "name": "stdout",
     "output_type": "stream",
     "text": [
      "District of Columbia, Hawaii and California are the top 03 of the Category\n"
     ]
    },
    {
     "data": {
      "text/plain": [
       "<Figure size 432x288 with 0 Axes>"
      ]
     },
     "metadata": {},
     "output_type": "display_data"
    }
   ],
   "source": [
    "#Ploting 1 Bedroom Per state over 10 Years\n",
    "ax=plt.figure(figsize=(10,5))\n",
    "result = Housing_data.groupby([\"RegionName\"])['Avg_1br'].aggregate(np.median).reset_index().sort_values('Avg_1br')\n",
    "sns.barplot(y=Housing_data['Avg_1br'],x=Housing_data['RegionName'], data= Housing_data, order=result['RegionName'])\n",
    "plt.title('1 Bedroom from 2009-2019 years', fontsize=16)\n",
    "plt.xticks(rotation=90)\n",
    "plt.xlabel('States', fontsize=14)\n",
    "plt.ylabel('Price for 1 Bedroom',fontsize=14)\n",
    "plt.show()\n",
    "print('District of Columbia, Hawaii and California are the top 03 of the Category')\n",
    "plt.savefig('./images/1bed.png')\n"
   ]
  },
  {
   "cell_type": "code",
   "execution_count": 28,
   "metadata": {},
   "outputs": [
    {
     "data": {
      "image/png": "[encoded data removed]",
      "text/plain": [
       "<Figure size 720x360 with 1 Axes>"
      ]
     },
     "metadata": {
      "needs_background": "light"
     },
     "output_type": "display_data"
    },
    {
     "name": "stdout",
     "output_type": "stream",
     "text": [
      "District of Columbia, Hawaii and California are the top 03 of the Category\n"
     ]
    }
   ],
   "source": [
    "#Ploting 2 Bedroom Per state over 10 Years\n",
    "ax=plt.figure(figsize=(10,5))\n",
    "result = Housing_data.groupby([\"RegionName\"])['Avg_2br'].aggregate(np.median).reset_index().sort_values('Avg_2br')\n",
    "sns.barplot(y=Housing_data['Avg_2br'],x=Housing_data['RegionName'], data= Housing_data, order=result['RegionName'])\n",
    "plt.title('2 Bedrooms from 2009-2019 years', fontsize=16)\n",
    "plt.xticks(rotation=90)\n",
    "plt.xlabel('States', fontsize=14)\n",
    "plt.ylabel('Price for 2 Bedrooms',fontsize=14)\n",
    "plt.show()\n",
    "print('District of Columbia, Hawaii and California are the top 03 of the Category')\n",
    "plt.savefig('./images/2bed.png')\n"
   ]
  },
  {
   "cell_type": "code",
   "execution_count": 29,
   "metadata": {},
   "outputs": [
    {
     "data": {
      "image/png": "[encoded data removed]",
      "text/plain": [
       "<Figure size 720x360 with 1 Axes>"
      ]
     },
     "metadata": {
      "needs_background": "light"
     },
     "output_type": "display_data"
    },
    {
     "name": "stdout",
     "output_type": "stream",
     "text": [
      "Hawaii,District of Columbia, and California are the top 03 of the Category\n"
     ]
    }
   ],
   "source": [
    "#Ploting 3 Bedroom Per state over 10 Years\n",
    "ax=plt.figure(figsize=(10,5))\n",
    "result = Housing_data.groupby([\"RegionName\"])['Avg_3br'].aggregate(np.median).reset_index().sort_values('Avg_3br')\n",
    "sns.barplot(y=Housing_data['Avg_3br'],x=Housing_data['RegionName'], data= Housing_data, order=result['RegionName'])\n",
    "plt.title('3 Bedrooms from 2009-2019 years', fontsize=16)\n",
    "plt.xticks(rotation=90)\n",
    "plt.xlabel('States', fontsize=14)\n",
    "plt.ylabel('Price for 3 Bedrooms',fontsize=14)\n",
    "plt.show()\n",
    "print('Hawaii,District of Columbia, and California are the top 03 of the Category')\n",
    "plt.savefig('./images/3bed.png')\n"
   ]
  },
  {
   "cell_type": "code",
   "execution_count": 30,
   "metadata": {},
   "outputs": [
    {
     "data": {
      "image/png": "[encoded data removed]",
      "text/plain": [
       "<Figure size 720x360 with 1 Axes>"
      ]
     },
     "metadata": {
      "needs_background": "light"
     },
     "output_type": "display_data"
    },
    {
     "name": "stdout",
     "output_type": "stream",
     "text": [
      "Hawaii,District of Columbia, and California are the top 03 of the Category\n"
     ]
    }
   ],
   "source": [
    "#Ploting 4 Bedroom Per state over 10 Years\n",
    "ax=plt.figure(figsize=(10,5))\n",
    "result = Housing_data.groupby([\"RegionName\"])['Avg_4br'].aggregate(np.median).reset_index().sort_values('Avg_4br')\n",
    "sns.barplot(y=Housing_data['Avg_4br'],x=Housing_data['RegionName'], data= Housing_data, order=result['RegionName'])\n",
    "plt.title('4 Bedrooms from 2009-2019 years', fontsize=16)\n",
    "plt.xticks(rotation=90)\n",
    "plt.xlabel('States', fontsize=14)\n",
    "plt.ylabel('Price for 4 Bedrooms',fontsize=14)\n",
    "plt.show()\n",
    "print('Hawaii,District of Columbia, and California are the top 03 of the Category')\n",
    "plt.savefig('./images/4bed.png')\n"
   ]
  },
  {
   "cell_type": "code",
   "execution_count": 31,
   "metadata": {
    "scrolled": true
   },
   "outputs": [
    {
     "data": {
      "image/png": "[encoded data removed]",
      "text/plain": [
       "<Figure size 720x360 with 1 Axes>"
      ]
     },
     "metadata": {
      "needs_background": "light"
     },
     "output_type": "display_data"
    },
    {
     "name": "stdout",
     "output_type": "stream",
     "text": [
      "Hawaii,District of Columbia, and California are the top 03 of the Category\n"
     ]
    }
   ],
   "source": [
    "#Ploting 5 or more Bedrooms Per state over 10 Years\n",
    "ax=plt.figure(figsize=(10,5))\n",
    "result = Housing_data.groupby([\"RegionName\"])['Avg_5br'].aggregate(np.median).reset_index().sort_values('Avg_5br')\n",
    "sns.barplot(y=Housing_data['Avg_5br'],x=Housing_data['RegionName'], data= Housing_data, order=result['RegionName'])\n",
    "plt.title('5 Bedrooms from 2009-2019 years', fontsize=16)\n",
    "plt.xticks(rotation=90)\n",
    "plt.xlabel('States', fontsize=14)\n",
    "plt.ylabel('Price for 5 Bedrooms',fontsize=14)\n",
    "plt.show()\n",
    "print('Hawaii,District of Columbia, and California are the top 03 of the Category')\n",
    "plt.savefig('./images/5plus.png')"
   ]
  },
  {
   "cell_type": "code",
   "execution_count": 32,
   "metadata": {},
   "outputs": [
    {
     "data": {
      "image/png": "[encoded data removed]",
      "text/plain": [
       "<Figure size 720x360 with 1 Axes>"
      ]
     },
     "metadata": {
      "needs_background": "light"
     },
     "output_type": "display_data"
    },
    {
     "name": "stdout",
     "output_type": "stream",
     "text": [
      "Hawaii,District of Columbia, and California are the top 03 of the Category\n"
     ]
    }
   ],
   "source": [
    "#Ploting All Homes Per state over 10 Years\n",
    "ax=plt.figure(figsize=(10,5))\n",
    "result = Housing_data.groupby([\"RegionName\"])['Avg_All_homes'].aggregate(np.median).reset_index().sort_values('Avg_All_homes')\n",
    "sns.barplot(y=Housing_data['Avg_All_homes'],x=Housing_data['RegionName'], data= Housing_data, order=result['RegionName'])\n",
    "plt.title('All Homes from 2009-2019 years', fontsize=16)\n",
    "plt.xticks(rotation=90)\n",
    "plt.xlabel('States', fontsize=14)\n",
    "plt.ylabel('Price for All Homes',fontsize=14)\n",
    "plt.show()\n",
    "print('Hawaii,District of Columbia, and California are the top 03 of the Category')\n",
    "plt.savefig('./images/All_homes.png')"
   ]
  },
  {
   "cell_type": "code",
   "execution_count": 33,
   "metadata": {},
   "outputs": [
    {
     "data": {
      "image/png": "[encoded data removed]",
      "text/plain": [
       "<Figure size 720x360 with 1 Axes>"
      ]
     },
     "metadata": {
      "needs_background": "light"
     },
     "output_type": "display_data"
    },
    {
     "name": "stdout",
     "output_type": "stream",
     "text": [
      "Hawaii,District of Columbia, and California are the top 03 of the Category\n"
     ]
    }
   ],
   "source": [
    "#Ploting Bottom Tier Homes Per state over 10 Years\n",
    "ax=plt.figure(figsize=(10,5))\n",
    "result = Housing_data.groupby([\"RegionName\"])['Avg_Bottomtier'].aggregate(np.median).reset_index().sort_values('Avg_Bottomtier')\n",
    "sns.barplot(y=Housing_data['Avg_Bottomtier'],x=Housing_data['RegionName'], data= Housing_data, order=result['RegionName'])\n",
    "plt.title('Bottom Tier Homes from 2009-2019 years', fontsize=16)\n",
    "plt.xticks(rotation=90)\n",
    "plt.xlabel('States', fontsize=14)\n",
    "plt.ylabel('Price for Bottom Tier Homes',fontsize=14)\n",
    "plt.show()\n",
    "print('Hawaii,District of Columbia, and California are the top 03 of the Category')\n",
    "plt.savefig('./images/bottom.png')"
   ]
  },
  {
   "cell_type": "code",
   "execution_count": 34,
   "metadata": {},
   "outputs": [
    {
     "data": {
      "image/png": "[encoded data removed]",
      "text/plain": [
       "<Figure size 720x360 with 1 Axes>"
      ]
     },
     "metadata": {
      "needs_background": "light"
     },
     "output_type": "display_data"
    },
    {
     "name": "stdout",
     "output_type": "stream",
     "text": [
      "District of Columbia, Hawaii,and California are the top 03 of the Category\n"
     ]
    }
   ],
   "source": [
    "#Ploting Top Tier Homes Per state over 10 Years\n",
    "ax=plt.figure(figsize=(10,5))\n",
    "result = Housing_data.groupby([\"RegionName\"])['Avg_toptier'].aggregate(np.median).reset_index().sort_values('Avg_toptier')\n",
    "sns.barplot(y=Housing_data['Avg_toptier'],x=Housing_data['RegionName'], data= Housing_data, order=result['RegionName'])\n",
    "plt.title('Top Tier Homes from 2009-2019 years', fontsize=16)\n",
    "plt.xticks(rotation=90)\n",
    "plt.xlabel('States', fontsize=14)\n",
    "plt.ylabel('Price for Top Tier Homes',fontsize=14)\n",
    "plt.show()\n",
    "print('District of Columbia, Hawaii,and California are the top 03 of the Category')\n",
    "plt.savefig('./images/top.png')"
   ]
  },
  {
   "cell_type": "code",
   "execution_count": 35,
   "metadata": {},
   "outputs": [
    {
     "data": {
      "text/html": [
       "<div>\n",
       "<style scoped>\n",
       "    .dataframe tbody tr th:only-of-type {\n",
       "        vertical-align: middle;\n",
       "    }\n",
       "\n",
       "    .dataframe tbody tr th {\n",
       "        vertical-align: top;\n",
       "    }\n",
       "\n",
       "    .dataframe thead th {\n",
       "        text-align: right;\n",
       "    }\n",
       "</style>\n",
       "<table border=\"1\" class=\"dataframe\">\n",
       "  <thead>\n",
       "    <tr style=\"text-align: right;\">\n",
       "      <th></th>\n",
       "      <th>States</th>\n",
       "      <th>Counties</th>\n",
       "      <th>Median_home_value</th>\n",
       "      <th>Median monthly housing costs w/ mortgage ($)</th>\n",
       "      <th>Homes valued at $1 mil.+ (2017): (%)</th>\n",
       "      <th>Housing units built in 2000 or later(%)</th>\n",
       "      <th>Median household income</th>\n",
       "    </tr>\n",
       "  </thead>\n",
       "  <tbody>\n",
       "    <tr>\n",
       "      <th>0</th>\n",
       "      <td>Alabama</td>\n",
       "      <td>Shelby county (AL)</td>\n",
       "      <td>221847.0</td>\n",
       "      <td>1,413</td>\n",
       "      <td>0.9</td>\n",
       "      <td>33.9</td>\n",
       "      <td>74,063</td>\n",
       "    </tr>\n",
       "    <tr>\n",
       "      <th>1</th>\n",
       "      <td>Alaska</td>\n",
       "      <td>Sitka City and Borough (AK)</td>\n",
       "      <td>364381.0</td>\n",
       "      <td>2,096</td>\n",
       "      <td>0.2</td>\n",
       "      <td>25.0</td>\n",
       "      <td>70,765</td>\n",
       "    </tr>\n",
       "    <tr>\n",
       "      <th>2</th>\n",
       "      <td>Arizona</td>\n",
       "      <td>Coconino County (AZ)</td>\n",
       "      <td>297468.0</td>\n",
       "      <td>1,490</td>\n",
       "      <td>1.8</td>\n",
       "      <td>24.0</td>\n",
       "      <td>53,523</td>\n",
       "    </tr>\n",
       "    <tr>\n",
       "      <th>3</th>\n",
       "      <td>Arkansas</td>\n",
       "      <td>Benton County (AR)</td>\n",
       "      <td>193647.0</td>\n",
       "      <td>1,218</td>\n",
       "      <td>0.7</td>\n",
       "      <td>34.2</td>\n",
       "      <td>61,271</td>\n",
       "    </tr>\n",
       "    <tr>\n",
       "      <th>4</th>\n",
       "      <td>California</td>\n",
       "      <td>San Francisco County (CA)</td>\n",
       "      <td>1272168.0</td>\n",
       "      <td>3,332</td>\n",
       "      <td>42.8</td>\n",
       "      <td>8.6</td>\n",
       "      <td>96,265</td>\n",
       "    </tr>\n",
       "  </tbody>\n",
       "</table>\n",
       "</div>"
      ],
      "text/plain": [
       "       States                     Counties  Median_home_value  \\\n",
       "0     Alabama           Shelby county (AL)           221847.0   \n",
       "1      Alaska  Sitka City and Borough (AK)           364381.0   \n",
       "2     Arizona         Coconino County (AZ)           297468.0   \n",
       "3    Arkansas           Benton County (AR)           193647.0   \n",
       "4  California    San Francisco County (CA)          1272168.0   \n",
       "\n",
       "  Median monthly housing costs w/ mortgage ($)  \\\n",
       "0                                        1,413   \n",
       "1                                        2,096   \n",
       "2                                        1,490   \n",
       "3                                        1,218   \n",
       "4                                        3,332   \n",
       "\n",
       "   Homes valued at $1 mil.+ (2017): (%)  \\\n",
       "0                                   0.9   \n",
       "1                                   0.2   \n",
       "2                                   1.8   \n",
       "3                                   0.7   \n",
       "4                                  42.8   \n",
       "\n",
       "   Housing units built in 2000 or later(%) Median household income  \n",
       "0                                     33.9                  74,063  \n",
       "1                                     25.0                  70,765  \n",
       "2                                     24.0                  53,523  \n",
       "3                                     34.2                  61,271  \n",
       "4                                      8.6                  96,265  "
      ]
     },
     "execution_count": 35,
     "metadata": {},
     "output_type": "execute_result"
    }
   ],
   "source": [
    "Counties_states= pd.read_csv('Counties_Houses.csv')\n",
    "Counties_states.head()"
   ]
  },
  {
   "cell_type": "code",
   "execution_count": 36,
   "metadata": {},
   "outputs": [
    {
     "data": {
      "image/png": "[encoded data removed]",
      "text/plain": [
       "<Figure size 720x360 with 1 Axes>"
      ]
     },
     "metadata": {
      "needs_background": "light"
     },
     "output_type": "display_data"
    },
    {
     "name": "stdout",
     "output_type": "stream",
     "text": [
      "San Francisco (CA), Nantucket County (MA),New York County(NY) are the top 03 of the Category\n"
     ]
    }
   ],
   "source": [
    "#Plotting County/States Prices\n",
    "ax=plt.figure(figsize=(10,5))\n",
    "result = Counties_states.groupby([\"Counties\"])['Median_home_value'].aggregate(np.median).reset_index().sort_values('Median_home_value')\n",
    "sns.barplot(y=Counties_states['Median_home_value'],x=Counties_states['Counties'], data= Counties_states, order=result['Counties'])\n",
    "plt.title('Top County 2009-2019 years', fontsize=16)\n",
    "plt.xticks(rotation=90)\n",
    "plt.xlabel('Counties(State)', fontsize=14)\n",
    "plt.ylabel('Price for Top County',fontsize=14)\n",
    "plt.show()\n",
    "print('San Francisco (CA), Nantucket County (MA),New York County(NY) are the top 03 of the Category')\n",
    "plt.savefig('./images/TopCounty.png')"
   ]
  },
  {
   "cell_type": "code",
   "execution_count": 122,
   "metadata": {},
   "outputs": [
    {
     "data": {
      "text/html": [
       "<div>\n",
       "<style scoped>\n",
       "    .dataframe tbody tr th:only-of-type {\n",
       "        vertical-align: middle;\n",
       "    }\n",
       "\n",
       "    .dataframe tbody tr th {\n",
       "        vertical-align: top;\n",
       "    }\n",
       "\n",
       "    .dataframe thead th {\n",
       "        text-align: right;\n",
       "    }\n",
       "</style>\n",
       "<table border=\"1\" class=\"dataframe\">\n",
       "  <thead>\n",
       "    <tr style=\"text-align: right;\">\n",
       "      <th></th>\n",
       "      <th>report_year</th>\n",
       "      <th>agency_code</th>\n",
       "      <th>agency_jurisdiction</th>\n",
       "      <th>population</th>\n",
       "      <th>violent_crimes</th>\n",
       "      <th>homicides</th>\n",
       "      <th>rapes</th>\n",
       "      <th>assaults</th>\n",
       "      <th>robberies</th>\n",
       "      <th>months_reported</th>\n",
       "      <th>crimes_percapita</th>\n",
       "      <th>homicides_percapita</th>\n",
       "      <th>rapes_percapita</th>\n",
       "      <th>assaults_percapita</th>\n",
       "      <th>robberies_percapita</th>\n",
       "    </tr>\n",
       "  </thead>\n",
       "  <tbody>\n",
       "    <tr>\n",
       "      <th>0</th>\n",
       "      <td>1975</td>\n",
       "      <td>NM00101</td>\n",
       "      <td>Albuquerque, NM</td>\n",
       "      <td>286238.0</td>\n",
       "      <td>2383.0</td>\n",
       "      <td>30.0</td>\n",
       "      <td>181.0</td>\n",
       "      <td>1353.0</td>\n",
       "      <td>819.0</td>\n",
       "      <td>12.0</td>\n",
       "      <td>832.52</td>\n",
       "      <td>10.48</td>\n",
       "      <td>63.23</td>\n",
       "      <td>472.68</td>\n",
       "      <td>286.13</td>\n",
       "    </tr>\n",
       "    <tr>\n",
       "      <th>1</th>\n",
       "      <td>1975</td>\n",
       "      <td>TX22001</td>\n",
       "      <td>Arlington, TX</td>\n",
       "      <td>112478.0</td>\n",
       "      <td>278.0</td>\n",
       "      <td>5.0</td>\n",
       "      <td>28.0</td>\n",
       "      <td>132.0</td>\n",
       "      <td>113.0</td>\n",
       "      <td>12.0</td>\n",
       "      <td>247.16</td>\n",
       "      <td>4.45</td>\n",
       "      <td>24.89</td>\n",
       "      <td>117.36</td>\n",
       "      <td>100.46</td>\n",
       "    </tr>\n",
       "    <tr>\n",
       "      <th>2</th>\n",
       "      <td>1975</td>\n",
       "      <td>GAAPD00</td>\n",
       "      <td>Atlanta, GA</td>\n",
       "      <td>490584.0</td>\n",
       "      <td>8033.0</td>\n",
       "      <td>185.0</td>\n",
       "      <td>443.0</td>\n",
       "      <td>3518.0</td>\n",
       "      <td>3887.0</td>\n",
       "      <td>12.0</td>\n",
       "      <td>1637.44</td>\n",
       "      <td>37.71</td>\n",
       "      <td>90.30</td>\n",
       "      <td>717.10</td>\n",
       "      <td>792.32</td>\n",
       "    </tr>\n",
       "    <tr>\n",
       "      <th>3</th>\n",
       "      <td>1975</td>\n",
       "      <td>CO00101</td>\n",
       "      <td>Aurora, CO</td>\n",
       "      <td>116656.0</td>\n",
       "      <td>611.0</td>\n",
       "      <td>7.0</td>\n",
       "      <td>44.0</td>\n",
       "      <td>389.0</td>\n",
       "      <td>171.0</td>\n",
       "      <td>12.0</td>\n",
       "      <td>523.76</td>\n",
       "      <td>6.00</td>\n",
       "      <td>37.72</td>\n",
       "      <td>333.46</td>\n",
       "      <td>146.58</td>\n",
       "    </tr>\n",
       "    <tr>\n",
       "      <th>4</th>\n",
       "      <td>1975</td>\n",
       "      <td>TX22701</td>\n",
       "      <td>Austin, TX</td>\n",
       "      <td>300400.0</td>\n",
       "      <td>1215.0</td>\n",
       "      <td>33.0</td>\n",
       "      <td>190.0</td>\n",
       "      <td>463.0</td>\n",
       "      <td>529.0</td>\n",
       "      <td>12.0</td>\n",
       "      <td>404.46</td>\n",
       "      <td>10.99</td>\n",
       "      <td>63.25</td>\n",
       "      <td>154.13</td>\n",
       "      <td>176.10</td>\n",
       "    </tr>\n",
       "  </tbody>\n",
       "</table>\n",
       "</div>"
      ],
      "text/plain": [
       "   report_year agency_code agency_jurisdiction  population  violent_crimes  \\\n",
       "0         1975     NM00101     Albuquerque, NM    286238.0          2383.0   \n",
       "1         1975     TX22001       Arlington, TX    112478.0           278.0   \n",
       "2         1975     GAAPD00         Atlanta, GA    490584.0          8033.0   \n",
       "3         1975     CO00101          Aurora, CO    116656.0           611.0   \n",
       "4         1975     TX22701          Austin, TX    300400.0          1215.0   \n",
       "\n",
       "   homicides  rapes  assaults  robberies  months_reported  crimes_percapita  \\\n",
       "0       30.0  181.0    1353.0      819.0             12.0            832.52   \n",
       "1        5.0   28.0     132.0      113.0             12.0            247.16   \n",
       "2      185.0  443.0    3518.0     3887.0             12.0           1637.44   \n",
       "3        7.0   44.0     389.0      171.0             12.0            523.76   \n",
       "4       33.0  190.0     463.0      529.0             12.0            404.46   \n",
       "\n",
       "   homicides_percapita  rapes_percapita  assaults_percapita  \\\n",
       "0                10.48            63.23              472.68   \n",
       "1                 4.45            24.89              117.36   \n",
       "2                37.71            90.30              717.10   \n",
       "3                 6.00            37.72              333.46   \n",
       "4                10.99            63.25              154.13   \n",
       "\n",
       "   robberies_percapita  \n",
       "0               286.13  \n",
       "1               100.46  \n",
       "2               792.32  \n",
       "3               146.58  \n",
       "4               176.10  "
      ]
     },
     "execution_count": 122,
     "metadata": {},
     "output_type": "execute_result"
    }
   ],
   "source": [
    "crimes_df=pd.read_csv('./Crimes/report.csv')\n",
    "crimes_df.head()\n"
   ]
  },
  {
   "cell_type": "code",
   "execution_count": 135,
   "metadata": {},
   "outputs": [
    {
     "data": {
      "text/html": [
       "<div>\n",
       "<style scoped>\n",
       "    .dataframe tbody tr th:only-of-type {\n",
       "        vertical-align: middle;\n",
       "    }\n",
       "\n",
       "    .dataframe tbody tr th {\n",
       "        vertical-align: top;\n",
       "    }\n",
       "\n",
       "    .dataframe thead th {\n",
       "        text-align: right;\n",
       "    }\n",
       "</style>\n",
       "<table border=\"1\" class=\"dataframe\">\n",
       "  <thead>\n",
       "    <tr style=\"text-align: right;\">\n",
       "      <th></th>\n",
       "      <th>report_year</th>\n",
       "      <th>agency_code</th>\n",
       "      <th>agency_jurisdiction</th>\n",
       "      <th>population</th>\n",
       "      <th>violent_crimes</th>\n",
       "      <th>homicides</th>\n",
       "      <th>rapes</th>\n",
       "      <th>assaults</th>\n",
       "      <th>robberies</th>\n",
       "      <th>months_reported</th>\n",
       "      <th>crimes_percapita</th>\n",
       "      <th>homicides_percapita</th>\n",
       "      <th>rapes_percapita</th>\n",
       "      <th>assaults_percapita</th>\n",
       "      <th>robberies_percapita</th>\n",
       "      <th>Total Crimes</th>\n",
       "    </tr>\n",
       "  </thead>\n",
       "  <tbody>\n",
       "    <tr>\n",
       "      <th>2346</th>\n",
       "      <td>2009</td>\n",
       "      <td>NM00101</td>\n",
       "      <td>Albuquerque, NM</td>\n",
       "      <td>530636.0</td>\n",
       "      <td>4082.0</td>\n",
       "      <td>56.0</td>\n",
       "      <td>326.0</td>\n",
       "      <td>2597.0</td>\n",
       "      <td>1103.0</td>\n",
       "      <td>12.0</td>\n",
       "      <td>769.27</td>\n",
       "      <td>10.55</td>\n",
       "      <td>61.44</td>\n",
       "      <td>489.41</td>\n",
       "      <td>207.86</td>\n",
       "      <td>8164.0</td>\n",
       "    </tr>\n",
       "    <tr>\n",
       "      <th>2347</th>\n",
       "      <td>2009</td>\n",
       "      <td>TX22001</td>\n",
       "      <td>Arlington, TX</td>\n",
       "      <td>379104.0</td>\n",
       "      <td>2330.0</td>\n",
       "      <td>12.0</td>\n",
       "      <td>152.0</td>\n",
       "      <td>1494.0</td>\n",
       "      <td>672.0</td>\n",
       "      <td>12.0</td>\n",
       "      <td>614.61</td>\n",
       "      <td>3.17</td>\n",
       "      <td>40.09</td>\n",
       "      <td>394.09</td>\n",
       "      <td>177.26</td>\n",
       "      <td>4660.0</td>\n",
       "    </tr>\n",
       "    <tr>\n",
       "      <th>2348</th>\n",
       "      <td>2009</td>\n",
       "      <td>GAAPD00</td>\n",
       "      <td>Atlanta, GA</td>\n",
       "      <td>552901.0</td>\n",
       "      <td>6359.0</td>\n",
       "      <td>80.0</td>\n",
       "      <td>135.0</td>\n",
       "      <td>3419.0</td>\n",
       "      <td>2725.0</td>\n",
       "      <td>12.0</td>\n",
       "      <td>1150.12</td>\n",
       "      <td>14.47</td>\n",
       "      <td>24.42</td>\n",
       "      <td>618.37</td>\n",
       "      <td>492.85</td>\n",
       "      <td>12718.0</td>\n",
       "    </tr>\n",
       "    <tr>\n",
       "      <th>2349</th>\n",
       "      <td>2009</td>\n",
       "      <td>CO00101</td>\n",
       "      <td>Aurora, CO</td>\n",
       "      <td>324014.0</td>\n",
       "      <td>1520.0</td>\n",
       "      <td>19.0</td>\n",
       "      <td>214.0</td>\n",
       "      <td>734.0</td>\n",
       "      <td>553.0</td>\n",
       "      <td>12.0</td>\n",
       "      <td>469.12</td>\n",
       "      <td>5.86</td>\n",
       "      <td>66.05</td>\n",
       "      <td>226.53</td>\n",
       "      <td>170.67</td>\n",
       "      <td>3040.0</td>\n",
       "    </tr>\n",
       "    <tr>\n",
       "      <th>2350</th>\n",
       "      <td>2009</td>\n",
       "      <td>TX22701</td>\n",
       "      <td>Austin, TX</td>\n",
       "      <td>768970.0</td>\n",
       "      <td>4024.0</td>\n",
       "      <td>22.0</td>\n",
       "      <td>265.0</td>\n",
       "      <td>2322.0</td>\n",
       "      <td>1415.0</td>\n",
       "      <td>12.0</td>\n",
       "      <td>523.30</td>\n",
       "      <td>2.86</td>\n",
       "      <td>34.46</td>\n",
       "      <td>301.96</td>\n",
       "      <td>184.01</td>\n",
       "      <td>8048.0</td>\n",
       "    </tr>\n",
       "  </tbody>\n",
       "</table>\n",
       "</div>"
      ],
      "text/plain": [
       "      report_year agency_code agency_jurisdiction  population  violent_crimes  \\\n",
       "2346         2009     NM00101     Albuquerque, NM    530636.0          4082.0   \n",
       "2347         2009     TX22001       Arlington, TX    379104.0          2330.0   \n",
       "2348         2009     GAAPD00         Atlanta, GA    552901.0          6359.0   \n",
       "2349         2009     CO00101          Aurora, CO    324014.0          1520.0   \n",
       "2350         2009     TX22701          Austin, TX    768970.0          4024.0   \n",
       "\n",
       "      homicides  rapes  assaults  robberies  months_reported  \\\n",
       "2346       56.0  326.0    2597.0     1103.0             12.0   \n",
       "2347       12.0  152.0    1494.0      672.0             12.0   \n",
       "2348       80.0  135.0    3419.0     2725.0             12.0   \n",
       "2349       19.0  214.0     734.0      553.0             12.0   \n",
       "2350       22.0  265.0    2322.0     1415.0             12.0   \n",
       "\n",
       "      crimes_percapita  homicides_percapita  rapes_percapita  \\\n",
       "2346            769.27                10.55            61.44   \n",
       "2347            614.61                 3.17            40.09   \n",
       "2348           1150.12                14.47            24.42   \n",
       "2349            469.12                 5.86            66.05   \n",
       "2350            523.30                 2.86            34.46   \n",
       "\n",
       "      assaults_percapita  robberies_percapita  Total Crimes  \n",
       "2346              489.41               207.86        8164.0  \n",
       "2347              394.09               177.26        4660.0  \n",
       "2348              618.37               492.85       12718.0  \n",
       "2349              226.53               170.67        3040.0  \n",
       "2350              301.96               184.01        8048.0  "
      ]
     },
     "execution_count": 135,
     "metadata": {},
     "output_type": "execute_result"
    }
   ],
   "source": [
    "crimes1=crimes_df.loc[crimes_df['report_year']>2008]\n",
    "crimes1['Total Crimes']=crimes1[\"violent_crimes\"]+crimes1[\"homicides\"]+crimes1[\"rapes\"]+crimes1[\"assaults\"]+crimes1[\"robberies\"]\n",
    "#crimes1=crimes1.set_index('agency_jurisdiction')\n",
    "#crimes=crimes1.drop(['United States'])\n",
    "#crimes=crimes.set_index('report_year')\n",
    "crimes=crimes1.loc[crimes1['agency_code']!='']\n",
    "crimes.head()"
   ]
  },
  {
   "cell_type": "code",
   "execution_count": 176,
   "metadata": {},
   "outputs": [
    {
     "data": {
      "image/png": "[encoded data removed]",
      "text/plain": [
       "<Figure size 720x1584 with 1 Axes>"
      ]
     },
     "metadata": {
      "needs_background": "light"
     },
     "output_type": "display_data"
    }
   ],
   "source": [
    "ax=plt.figure(figsize=(10,22))\n",
    "result = crimes.groupby([\"agency_jurisdiction\"])['Total Crimes'].aggregate(np.median).reset_index().sort_values('Total Crimes')\n",
    "ax = sns.barplot(x=crimes[\"violent_crimes\"]+crimes[\"homicides\"]+\n",
    "                 crimes[\"rapes\"]+crimes[\"assaults\"]+crimes[\"robberies\"],                 \n",
    "                 y=crimes[\"agency_jurisdiction\"],estimator=sum ,ci=0, order=result['agency_jurisdiction'])\n",
    "ax.set(xlabel='Total number of crimes', ylabel='City')\n",
    "plt.title('Crimes Per State/City 2009-2015', fontsize=16)\n",
    "plt.savefig('./images/crimes.png')"
   ]
  },
  {
   "cell_type": "code",
   "execution_count": 178,
   "metadata": {
    "scrolled": true
   },
   "outputs": [
    {
     "data": {
      "application/vnd.plotly.v1+json": {
       "config": {
        "linkText": "Export to plot.ly",
        "plotlyServerURL": "https://plot.ly",
        "showLink": false
       },
       "data": [
        {
         "name": "San Antonio, TX",
         "opacity": 0.8,
         "type": "scatter",
         "x": [
          2009,
          2010,
          2011,
          2012,
          2013,
          2014,
          2015
         ],
         "y": [
          7844,
          8434,
          7038,
          6943,
          8828,
          7704,
          8594
         ]
        },
        {
         "name": "Louisville, KY",
         "opacity": 0.8,
         "type": "scatter",
         "x": [
          2009,
          2010,
          2011,
          2012,
          2013,
          2014,
          2015
         ],
         "y": [
          3769,
          3734,
          4086,
          3989,
          3644,
          4015,
          4300
         ]
        },
        {
         "name": "Suffolk County, NY",
         "opacity": 0.8,
         "type": "scatter",
         "x": [
          2009,
          2010,
          2011,
          2012,
          2013,
          2014,
          2015
         ],
         "y": [
          2267,
          2031,
          1862,
          1790,
          1599,
          1576,
          1675
         ]
        },
        {
         "name": "Miami-Dade County, FL",
         "opacity": 0.8,
         "type": "scatter",
         "x": [
          2009,
          2010,
          2011,
          2012,
          2013,
          2014,
          2015
         ],
         "y": [
          7815,
          6927,
          6913,
          6046,
          6057,
          6571,
          6179
         ]
        },
        {
         "name": "Nashville, TN",
         "opacity": 0.8,
         "type": "scatter",
         "x": [
          2009,
          2010,
          2011,
          2012,
          2013,
          2014,
          2015
         ],
         "y": [
          6959,
          6802,
          7253,
          7314,
          6667,
          7289,
          7245
         ]
        },
        {
         "name": "Nassau County, NY",
         "opacity": 0.8,
         "type": "scatter",
         "x": [
          2009,
          2010,
          2011,
          2012,
          2013,
          2014,
          2015
         ],
         "y": [
          1640,
          1496,
          1459,
          1654,
          1394,
          1329,
          1318
         ]
        },
        {
         "name": "Miami, FL",
         "opacity": 0.8,
         "type": "scatter",
         "x": [
          2009,
          2010,
          2011,
          2012,
          2013,
          2014,
          2015
         ],
         "y": [
          4983,
          4879,
          4849,
          4856,
          4945,
          4473,
          4473
         ]
        },
        {
         "name": "Denver, CO",
         "opacity": 0.8,
         "type": "scatter",
         "x": [
          2009,
          2010,
          2011,
          2012,
          2013,
          2014,
          2015
         ],
         "y": [
          3473,
          3387,
          3718,
          3885,
          4093,
          4002,
          4599
         ]
        },
        {
         "name": "Tucson, AZ",
         "opacity": 0.8,
         "type": "scatter",
         "x": [
          2009,
          2010,
          2011,
          2012,
          2013,
          2014,
          2015
         ],
         "y": [
          3560,
          3331,
          3440,
          3850,
          3368,
          3443,
          3472
         ]
        },
        {
         "name": "Salt Lake City, UT",
         "opacity": 0.8,
         "type": "scatter",
         "x": [
          2009,
          2010,
          2011,
          2012,
          2013,
          2014,
          2015
         ],
         "y": [
          1284,
          1294,
          1230,
          1302,
          1487,
          1452,
          1642
         ]
        },
        {
         "name": "San Francisco, CA",
         "opacity": 0.8,
         "type": "scatter",
         "x": [
          2009,
          2010,
          2011,
          2012,
          2013,
          2014,
          2015
         ],
         "y": [
          5957,
          5747,
          5374,
          5777,
          7064,
          6761,
          6710
         ]
        },
        {
         "name": "New York City, NY",
         "opacity": 0.8,
         "type": "scatter",
         "x": [
          2009,
          2010,
          2011,
          2012,
          2013,
          2014,
          2015
         ],
         "y": [
          46357,
          48489,
          51209,
          52993,
          52384,
          50564,
          50088
         ]
        },
        {
         "name": "Newark, NJ",
         "opacity": 0.8,
         "type": "scatter",
         "x": [
          2009,
          2010,
          2011,
          2012,
          2013,
          2014,
          2015
         ],
         "y": [
          2597,
          2885,
          3243,
          3220,
          3516,
          3009,
          3072
         ]
        },
        {
         "name": "Wichita, KS",
         "opacity": 0.8,
         "type": "scatter",
         "x": [
          2009,
          2010,
          2011,
          2012,
          2013,
          2014,
          2015
         ],
         "y": [
          3255,
          3038,
          2963,
          2896,
          3069,
          2939,
          3839
         ]
        },
        {
         "name": "Columbus, OH",
         "opacity": 0.8,
         "type": "scatter",
         "x": [
          2009,
          2010,
          2011,
          2012,
          2013,
          2014,
          2015
         ],
         "y": [
          5375,
          5472,
          5228,
          4808,
          4446,
          4640,
          4631
         ]
        },
        {
         "name": "Houston, TX",
         "opacity": 0.8,
         "type": "scatter",
         "x": [
          2009,
          2010,
          2011,
          2012,
          2013,
          2014,
          2015
         ],
         "y": [
          25593,
          22491,
          20892,
          21610,
          20993,
          22008,
          21994
         ]
        },
        {
         "name": "El Paso, TX",
         "opacity": 0.8,
         "type": "scatter",
         "x": [
          2009,
          2010,
          2011,
          2012,
          2013,
          2014,
          2015
         ],
         "y": [
          2830,
          2861,
          2858,
          2859,
          2522,
          2671,
          2515
         ]
        },
        {
         "name": "Buffalo, NY",
         "opacity": 0.8,
         "type": "scatter",
         "x": [
          2009,
          2010,
          2011,
          2012,
          2013,
          2014,
          2015
         ],
         "y": [
          3920,
          3599,
          3250,
          3382,
          3249,
          3173,
          2887
         ]
        },
        {
         "name": "New Orleans, LA",
         "opacity": 0.8,
         "type": "scatter",
         "x": [
          2009,
          2010,
          2011,
          2012,
          2013,
          2014,
          2015
         ],
         "y": [
          2614,
          2593,
          2748,
          2958,
          2965,
          3770,
          3736
         ]
        },
        {
         "name": "Chicago, IL",
         "opacity": 0.8,
         "type": "scatter",
         "x": [
          2009,
          2010,
          2011,
          2012,
          2013,
          2014,
          2015
         ],
         "y": [
          33501,
          29774,
          28273,
          27620,
          25688,
          24133,
          24663
         ]
        },
        {
         "name": "Dallas, TX",
         "opacity": 0.8,
         "type": "scatter",
         "x": [
          2009,
          2010,
          2011,
          2012,
          2013,
          2014,
          2015
         ],
         "y": [
          10221,
          9161,
          8330,
          8380,
          8330,
          8457,
          9038
         ]
        },
        {
         "name": "Prince George's County, MD",
         "opacity": 0.8,
         "type": "scatter",
         "x": [
          2009,
          2010,
          2011,
          2012,
          2013,
          2014,
          2015
         ],
         "y": [
          5338,
          4941,
          4075,
          3955,
          3502,
          3161,
          3256
         ]
        },
        {
         "name": "San Diego, CA",
         "opacity": 0.8,
         "type": "scatter",
         "x": [
          2009,
          2010,
          2011,
          2012,
          2013,
          2014,
          2015
         ],
         "y": [
          5931,
          5616,
          5104,
          5529,
          5303,
          5214,
          5582
         ]
        },
        {
         "name": "Long Beach, CA",
         "opacity": 0.8,
         "type": "scatter",
         "x": [
          2009,
          2010,
          2011,
          2012,
          2013,
          2014,
          2015
         ],
         "y": [
          3161,
          2720,
          2857,
          2705,
          2346,
          2304,
          2766
         ]
        },
        {
         "name": "Mesa, AZ",
         "opacity": 0.8,
         "type": "scatter",
         "x": [
          2009,
          2010,
          2011,
          2012,
          2013,
          2014,
          2015
         ],
         "y": [
          2000,
          1790,
          1837,
          1804,
          1807,
          2119,
          1972
         ]
        },
        {
         "name": "Raleigh, NC",
         "opacity": 0.8,
         "type": "scatter",
         "x": [
          2009,
          2010,
          2011,
          2012,
          2013,
          2014,
          2015
         ],
         "y": [
          2001,
          1740,
          1724,
          1780,
          1683,
          1730,
          1676
         ]
        },
        {
         "name": "Las Vegas, NV",
         "opacity": 0.8,
         "type": "scatter",
         "x": [
          2009,
          2010,
          2011,
          2012,
          2013,
          2014,
          2015
         ],
         "y": [
          13039,
          12648,
          10813,
          11598,
          11374,
          12876,
          14383
         ]
        },
        {
         "name": "Tampa, FL",
         "opacity": 0.8,
         "type": "scatter",
         "x": [
          2009,
          2010,
          2011,
          2012,
          2013,
          2014,
          2015
         ],
         "y": [
          2597,
          2170,
          2228,
          2162,
          2097,
          2080,
          2298
         ]
        },
        {
         "name": "Philadelphia, PA",
         "opacity": 0.8,
         "type": "scatter",
         "x": [
          2009,
          2010,
          2011,
          2012,
          2013,
          2014,
          2015
         ],
         "y": [
          19163,
          18535,
          18268,
          17853,
          17074,
          15925,
          16132
         ]
        },
        {
         "name": "Omaha, NE",
         "opacity": 0.8,
         "type": "scatter",
         "x": [
          2009,
          2010,
          2011,
          2012,
          2013,
          2014,
          2015
         ],
         "y": [
          2363,
          2274,
          2309,
          2485,
          2449,
          2458,
          2329
         ]
        },
        {
         "name": "Charlotte, NC",
         "opacity": 0.8,
         "type": "scatter",
         "x": [
          2009,
          2010,
          2011,
          2012,
          2013,
          2014,
          2015
         ],
         "y": [
          5625,
          4891,
          4787,
          5238,
          5093,
          5054,
          5948
         ]
        },
        {
         "name": "Seattle, WA",
         "opacity": 0.8,
         "type": "scatter",
         "x": [
          2009,
          2010,
          2011,
          2012,
          2013,
          2014,
          2015
         ],
         "y": [
          3861,
          3515,
          3664,
          3782,
          3760,
          4005,
          4093
         ]
        },
        {
         "name": "Cleveland, OH",
         "opacity": 0.8,
         "type": "scatter",
         "x": [
          2009,
          2010,
          2011,
          2012,
          2013,
          2014,
          2015
         ],
         "y": [
          5994,
          5529,
          5431,
          5469,
          5782,
          5205,
          null
         ]
        },
        {
         "name": "Los Angeles, CA",
         "opacity": 0.8,
         "type": "scatter",
         "x": [
          2009,
          2010,
          2011,
          2012,
          2013,
          2014,
          2015
         ],
         "y": [
          24070,
          21484,
          20045,
          18547,
          16524,
          19171,
          25156
         ]
        },
        {
         "name": "Fort Worth, TX",
         "opacity": 0.8,
         "type": "scatter",
         "x": [
          2009,
          2010,
          2011,
          2012,
          2013,
          2014,
          2015
         ],
         "y": [
          4245,
          4301,
          4579,
          4526,
          4440,
          4492,
          4359
         ]
        },
        {
         "name": "Jacksonville, FL",
         "opacity": 0.8,
         "type": "scatter",
         "x": [
          2009,
          2010,
          2011,
          2012,
          2013,
          2014,
          2015
         ],
         "y": [
          6772,
          5469,
          5182,
          5189,
          5246,
          5853,
          5622
         ]
        },
        {
         "name": "St. Louis, MO",
         "opacity": 0.8,
         "type": "scatter",
         "x": [
          2009,
          2010,
          2011,
          2012,
          2013,
          2014,
          2015
         ],
         "y": [
          7353,
          6205,
          5950,
          5661,
          5077,
          5348,
          5762
         ]
        },
        {
         "name": "Milwaukee, WI",
         "opacity": 0.8,
         "type": "scatter",
         "x": [
          2009,
          2010,
          2011,
          2012,
          2013,
          2014,
          2015
         ],
         "y": [
          6661,
          6336,
          6637,
          7932,
          8194,
          8914,
          9583
         ]
        },
        {
         "name": "Virginia Beach, VA",
         "opacity": 0.8,
         "type": "scatter",
         "x": [
          2009,
          2010,
          2011,
          2012,
          2013,
          2014,
          2015
         ],
         "y": [
          896,
          831,
          784,
          751,
          738,
          667,
          626
         ]
        },
        {
         "name": "Baltimore County, MD",
         "opacity": 0.8,
         "type": "scatter",
         "x": [
          2009,
          2010,
          2011,
          2012,
          2013,
          2014,
          2015
         ],
         "y": [
          4534,
          4305,
          4250,
          4145,
          4184,
          4024,
          null
         ]
        },
        {
         "name": "Indianapolis, IN",
         "opacity": 0.8,
         "type": "scatter",
         "x": [
          2009,
          2010,
          2011,
          2012,
          2013,
          2014,
          2015
         ],
         "y": [
          9759,
          9646,
          9170,
          9942,
          10479,
          10768,
          11124
         ]
        },
        {
         "name": "Los Angeles County, CA",
         "opacity": 0.8,
         "type": "scatter",
         "x": [
          2009,
          2010,
          2011,
          2012,
          2013,
          2014,
          2015
         ],
         "y": [
          6540,
          6497,
          5595,
          5458,
          5323,
          5091,
          5173
         ]
        },
        {
         "name": "Minneapolis, MN",
         "opacity": 0.8,
         "type": "scatter",
         "x": [
          2009,
          2010,
          2011,
          2012,
          2013,
          2014,
          2015
         ],
         "y": [
          4242,
          4064,
          3722,
          3872,
          4038,
          4093,
          4395
         ]
        },
        {
         "name": "Montgomery County, MD",
         "opacity": 0.8,
         "type": "scatter",
         "x": [
          2009,
          2010,
          2011,
          2012,
          2013,
          2014,
          2015
         ],
         "y": [
          2033,
          1699,
          1618,
          1795,
          1687,
          1648,
          1964
         ]
        },
        {
         "name": "Oklahoma City, OK",
         "opacity": 0.8,
         "type": "scatter",
         "x": [
          2009,
          2010,
          2011,
          2012,
          2013,
          2014,
          2015
         ],
         "y": [
          5181,
          5304,
          5108,
          5474,
          4998,
          4782,
          4828
         ]
        },
        {
         "name": "Boston, MA",
         "opacity": 0.8,
         "type": "scatter",
         "x": [
          2009,
          2010,
          2011,
          2012,
          2013,
          2014,
          2015
         ],
         "y": [
          6192,
          5819,
          5252,
          5266,
          5037,
          4749,
          4702
         ]
        },
        {
         "name": "Cincinnati, OH",
         "opacity": 0.8,
         "type": "scatter",
         "x": [
          2009,
          2010,
          2011,
          2012,
          2013,
          2014,
          2015
         ],
         "y": [
          3983,
          3615,
          3076,
          2903,
          2858,
          2719,
          2761
         ]
        },
        {
         "name": "Pittsburgh, PA",
         "opacity": 0.8,
         "type": "scatter",
         "x": [
          2009,
          2010,
          2011,
          2012,
          2013,
          2014,
          2015
         ],
         "y": [
          3087,
          2810,
          2476,
          2347,
          2259,
          2455,
          2167
         ]
        },
        {
         "name": "Arlington, TX",
         "opacity": 0.8,
         "type": "scatter",
         "x": [
          2009,
          2010,
          2011,
          2012,
          2013,
          2014,
          2015
         ],
         "y": [
          2330,
          1925,
          1874,
          1909,
          1837,
          1854,
          1946
         ]
        },
        {
         "name": "Phoenix, AZ",
         "opacity": 0.8,
         "type": "scatter",
         "x": [
          2009,
          2010,
          2011,
          2012,
          2013,
          2014,
          2015
         ],
         "y": [
          8730,
          8001,
          8089,
          9458,
          9492,
          8749,
          9261
         ]
        },
        {
         "name": "Atlanta, GA",
         "opacity": 0.8,
         "type": "scatter",
         "x": [
          2009,
          2010,
          2011,
          2012,
          2013,
          2014,
          2015
         ],
         "y": [
          6359,
          5749,
          6097,
          6027,
          5516,
          5577,
          5203
         ]
        }
       ],
       "layout": {
        "template": {
         "data": {
          "bar": [
           {
            "error_x": {
             "color": "#2a3f5f"
            },
            "error_y": {
             "color": "#2a3f5f"
            },
            "marker": {
             "line": {
              "color": "#E5ECF6",
              "width": 0.5
             }
            },
            "type": "bar"
           }
          ],
          "barpolar": [
           {
            "marker": {
             "line": {
              "color": "#E5ECF6",
              "width": 0.5
             }
            },
            "type": "barpolar"
           }
          ],
          "carpet": [
           {
            "aaxis": {
             "endlinecolor": "#2a3f5f",
             "gridcolor": "white",
             "linecolor": "white",
             "minorgridcolor": "white",
             "startlinecolor": "#2a3f5f"
            },
            "baxis": {
             "endlinecolor": "#2a3f5f",
             "gridcolor": "white",
             "linecolor": "white",
             "minorgridcolor": "white",
             "startlinecolor": "#2a3f5f"
            },
            "type": "carpet"
           }
          ],
          "choropleth": [
           {
            "colorbar": {
             "outlinewidth": 0,
             "ticks": ""
            },
            "type": "choropleth"
           }
          ],
          "contour": [
           {
            "colorbar": {
             "outlinewidth": 0,
             "ticks": ""
            },
            "colorscale": [
             [
              0,
              "#0d0887"
             ],
             [
              0.1111111111111111,
              "#46039f"
             ],
             [
              0.2222222222222222,
              "#7201a8"
             ],
             [
              0.3333333333333333,
              "#9c179e"
             ],
             [
              0.4444444444444444,
              "#bd3786"
             ],
             [
              0.5555555555555556,
              "#d8576b"
             ],
             [
              0.6666666666666666,
              "#ed7953"
             ],
             [
              0.7777777777777778,
              "#fb9f3a"
             ],
             [
              0.8888888888888888,
              "#fdca26"
             ],
             [
              1,
              "#f0f921"
             ]
            ],
            "type": "contour"
           }
          ],
          "contourcarpet": [
           {
            "colorbar": {
             "outlinewidth": 0,
             "ticks": ""
            },
            "type": "contourcarpet"
           }
          ],
          "heatmap": [
           {
            "colorbar": {
             "outlinewidth": 0,
             "ticks": ""
            },
            "colorscale": [
             [
              0,
              "#0d0887"
             ],
             [
              0.1111111111111111,
              "#46039f"
             ],
             [
              0.2222222222222222,
              "#7201a8"
             ],
             [
              0.3333333333333333,
              "#9c179e"
             ],
             [
              0.4444444444444444,
              "#bd3786"
             ],
             [
              0.5555555555555556,
              "#d8576b"
             ],
             [
              0.6666666666666666,
              "#ed7953"
             ],
             [
              0.7777777777777778,
              "#fb9f3a"
             ],
             [
              0.8888888888888888,
              "#fdca26"
             ],
             [
              1,
              "#f0f921"
             ]
            ],
            "type": "heatmap"
           }
          ],
          "heatmapgl": [
           {
            "colorbar": {
             "outlinewidth": 0,
             "ticks": ""
            },
            "colorscale": [
             [
              0,
              "#0d0887"
             ],
             [
              0.1111111111111111,
              "#46039f"
             ],
             [
              0.2222222222222222,
              "#7201a8"
             ],
             [
              0.3333333333333333,
              "#9c179e"
             ],
             [
              0.4444444444444444,
              "#bd3786"
             ],
             [
              0.5555555555555556,
              "#d8576b"
             ],
             [
              0.6666666666666666,
              "#ed7953"
             ],
             [
              0.7777777777777778,
              "#fb9f3a"
             ],
             [
              0.8888888888888888,
              "#fdca26"
             ],
             [
              1,
              "#f0f921"
             ]
            ],
            "type": "heatmapgl"
           }
          ],
          "histogram": [
           {
            "marker": {
             "colorbar": {
              "outlinewidth": 0,
              "ticks": ""
             }
            },
            "type": "histogram"
           }
          ],
          "histogram2d": [
           {
            "colorbar": {
             "outlinewidth": 0,
             "ticks": ""
            },
            "colorscale": [
             [
              0,
              "#0d0887"
             ],
             [
              0.1111111111111111,
              "#46039f"
             ],
             [
              0.2222222222222222,
              "#7201a8"
             ],
             [
              0.3333333333333333,
              "#9c179e"
             ],
             [
              0.4444444444444444,
              "#bd3786"
             ],
             [
              0.5555555555555556,
              "#d8576b"
             ],
             [
              0.6666666666666666,
              "#ed7953"
             ],
             [
              0.7777777777777778,
              "#fb9f3a"
             ],
             [
              0.8888888888888888,
              "#fdca26"
             ],
             [
              1,
              "#f0f921"
             ]
            ],
            "type": "histogram2d"
           }
          ],
          "histogram2dcontour": [
           {
            "colorbar": {
             "outlinewidth": 0,
             "ticks": ""
            },
            "colorscale": [
             [
              0,
              "#0d0887"
             ],
             [
              0.1111111111111111,
              "#46039f"
             ],
             [
              0.2222222222222222,
              "#7201a8"
             ],
             [
              0.3333333333333333,
              "#9c179e"
             ],
             [
              0.4444444444444444,
              "#bd3786"
             ],
             [
              0.5555555555555556,
              "#d8576b"
             ],
             [
              0.6666666666666666,
              "#ed7953"
             ],
             [
              0.7777777777777778,
              "#fb9f3a"
             ],
             [
              0.8888888888888888,
              "#fdca26"
             ],
             [
              1,
              "#f0f921"
             ]
            ],
            "type": "histogram2dcontour"
           }
          ],
          "mesh3d": [
           {
            "colorbar": {
             "outlinewidth": 0,
             "ticks": ""
            },
            "type": "mesh3d"
           }
          ],
          "parcoords": [
           {
            "line": {
             "colorbar": {
              "outlinewidth": 0,
              "ticks": ""
             }
            },
            "type": "parcoords"
           }
          ],
          "scatter": [
           {
            "marker": {
             "colorbar": {
              "outlinewidth": 0,
              "ticks": ""
             }
            },
            "type": "scatter"
           }
          ],
          "scatter3d": [
           {
            "line": {
             "colorbar": {
              "outlinewidth": 0,
              "ticks": ""
             }
            },
            "marker": {
             "colorbar": {
              "outlinewidth": 0,
              "ticks": ""
             }
            },
            "type": "scatter3d"
           }
          ],
          "scattercarpet": [
           {
            "marker": {
             "colorbar": {
              "outlinewidth": 0,
              "ticks": ""
             }
            },
            "type": "scattercarpet"
           }
          ],
          "scattergeo": [
           {
            "marker": {
             "colorbar": {
              "outlinewidth": 0,
              "ticks": ""
             }
            },
            "type": "scattergeo"
           }
          ],
          "scattergl": [
           {
            "marker": {
             "colorbar": {
              "outlinewidth": 0,
              "ticks": ""
             }
            },
            "type": "scattergl"
           }
          ],
          "scattermapbox": [
           {
            "marker": {
             "colorbar": {
              "outlinewidth": 0,
              "ticks": ""
             }
            },
            "type": "scattermapbox"
           }
          ],
          "scatterpolar": [
           {
            "marker": {
             "colorbar": {
              "outlinewidth": 0,
              "ticks": ""
             }
            },
            "type": "scatterpolar"
           }
          ],
          "scatterpolargl": [
           {
            "marker": {
             "colorbar": {
              "outlinewidth": 0,
              "ticks": ""
             }
            },
            "type": "scatterpolargl"
           }
          ],
          "scatterternary": [
           {
            "marker": {
             "colorbar": {
              "outlinewidth": 0,
              "ticks": ""
             }
            },
            "type": "scatterternary"
           }
          ],
          "surface": [
           {
            "colorbar": {
             "outlinewidth": 0,
             "ticks": ""
            },
            "colorscale": [
             [
              0,
              "#0d0887"
             ],
             [
              0.1111111111111111,
              "#46039f"
             ],
             [
              0.2222222222222222,
              "#7201a8"
             ],
             [
              0.3333333333333333,
              "#9c179e"
             ],
             [
              0.4444444444444444,
              "#bd3786"
             ],
             [
              0.5555555555555556,
              "#d8576b"
             ],
             [
              0.6666666666666666,
              "#ed7953"
             ],
             [
              0.7777777777777778,
              "#fb9f3a"
             ],
             [
              0.8888888888888888,
              "#fdca26"
             ],
             [
              1,
              "#f0f921"
             ]
            ],
            "type": "surface"
           }
          ],
          "table": [
           {
            "cells": {
             "fill": {
              "color": "#EBF0F8"
             },
             "line": {
              "color": "white"
             }
            },
            "header": {
             "fill": {
              "color": "#C8D4E3"
             },
             "line": {
              "color": "white"
             }
            },
            "type": "table"
           }
          ]
         },
         "layout": {
          "annotationdefaults": {
           "arrowcolor": "#2a3f5f",
           "arrowhead": 0,
           "arrowwidth": 1
          },
          "colorscale": {
           "diverging": [
            [
             0,
             "#8e0152"
            ],
            [
             0.1,
             "#c51b7d"
            ],
            [
             0.2,
             "#de77ae"
            ],
            [
             0.3,
             "#f1b6da"
            ],
            [
             0.4,
             "#fde0ef"
            ],
            [
             0.5,
             "#f7f7f7"
            ],
            [
             0.6,
             "#e6f5d0"
            ],
            [
             0.7,
             "#b8e186"
            ],
            [
             0.8,
             "#7fbc41"
            ],
            [
             0.9,
             "#4d9221"
            ],
            [
             1,
             "#276419"
            ]
           ],
           "sequential": [
            [
             0,
             "#0d0887"
            ],
            [
             0.1111111111111111,
             "#46039f"
            ],
            [
             0.2222222222222222,
             "#7201a8"
            ],
            [
             0.3333333333333333,
             "#9c179e"
            ],
            [
             0.4444444444444444,
             "#bd3786"
            ],
            [
             0.5555555555555556,
             "#d8576b"
            ],
            [
             0.6666666666666666,
             "#ed7953"
            ],
            [
             0.7777777777777778,
             "#fb9f3a"
            ],
            [
             0.8888888888888888,
             "#fdca26"
            ],
            [
             1,
             "#f0f921"
            ]
           ],
           "sequentialminus": [
            [
             0,
             "#0d0887"
            ],
            [
             0.1111111111111111,
             "#46039f"
            ],
            [
             0.2222222222222222,
             "#7201a8"
            ],
            [
             0.3333333333333333,
             "#9c179e"
            ],
            [
             0.4444444444444444,
             "#bd3786"
            ],
            [
             0.5555555555555556,
             "#d8576b"
            ],
            [
             0.6666666666666666,
             "#ed7953"
            ],
            [
             0.7777777777777778,
             "#fb9f3a"
            ],
            [
             0.8888888888888888,
             "#fdca26"
            ],
            [
             1,
             "#f0f921"
            ]
           ]
          },
          "colorway": [
           "#636efa",
           "#EF553B",
           "#00cc96",
           "#ab63fa",
           "#FFA15A",
           "#19d3f3",
           "#FF6692",
           "#B6E880",
           "#FF97FF",
           "#FECB52"
          ],
          "font": {
           "color": "#2a3f5f"
          },
          "geo": {
           "bgcolor": "white",
           "lakecolor": "white",
           "landcolor": "#E5ECF6",
           "showlakes": true,
           "showland": true,
           "subunitcolor": "white"
          },
          "hoverlabel": {
           "align": "left"
          },
          "hovermode": "closest",
          "mapbox": {
           "style": "light"
          },
          "paper_bgcolor": "white",
          "plot_bgcolor": "#E5ECF6",
          "polar": {
           "angularaxis": {
            "gridcolor": "white",
            "linecolor": "white",
            "ticks": ""
           },
           "bgcolor": "#E5ECF6",
           "radialaxis": {
            "gridcolor": "white",
            "linecolor": "white",
            "ticks": ""
           }
          },
          "scene": {
           "xaxis": {
            "backgroundcolor": "#E5ECF6",
            "gridcolor": "white",
            "gridwidth": 2,
            "linecolor": "white",
            "showbackground": true,
            "ticks": "",
            "zerolinecolor": "white"
           },
           "yaxis": {
            "backgroundcolor": "#E5ECF6",
            "gridcolor": "white",
            "gridwidth": 2,
            "linecolor": "white",
            "showbackground": true,
            "ticks": "",
            "zerolinecolor": "white"
           },
           "zaxis": {
            "backgroundcolor": "#E5ECF6",
            "gridcolor": "white",
            "gridwidth": 2,
            "linecolor": "white",
            "showbackground": true,
            "ticks": "",
            "zerolinecolor": "white"
           }
          },
          "shapedefaults": {
           "line": {
            "color": "#2a3f5f"
           }
          },
          "ternary": {
           "aaxis": {
            "gridcolor": "white",
            "linecolor": "white",
            "ticks": ""
           },
           "baxis": {
            "gridcolor": "white",
            "linecolor": "white",
            "ticks": ""
           },
           "bgcolor": "#E5ECF6",
           "caxis": {
            "gridcolor": "white",
            "linecolor": "white",
            "ticks": ""
           }
          },
          "title": {
           "x": 0.05
          },
          "xaxis": {
           "automargin": true,
           "gridcolor": "white",
           "linecolor": "white",
           "ticks": "",
           "zerolinecolor": "white",
           "zerolinewidth": 2
          },
          "yaxis": {
           "automargin": true,
           "gridcolor": "white",
           "linecolor": "white",
           "ticks": "",
           "zerolinecolor": "white",
           "zerolinewidth": 2
          }
         }
        },
        "title": {
         "text": "Total Crimes in US during (2009-2015)"
        },
        "xaxis": {
         "title": {
          "text": "Year"
         }
        },
        "yaxis": {
         "title": {
          "text": "Total Crimes"
         }
        }
       }
      },
      "text/html": [
       "<div>\n",
       "        \n",
       "        \n",
       "            <div id=\"28fedef3-f9c7-4e85-a036-c4e68e5b8f5c\" class=\"plotly-graph-div\" style=\"height:525px; width:100%;\"></div>\n",
       "            <script type=\"text/javascript\">\n",
       "                require([\"plotly\"], function(Plotly) {\n",
       "                    window.PLOTLYENV=window.PLOTLYENV || {};\n",
       "                    \n",
       "                if (document.getElementById(\"28fedef3-f9c7-4e85-a036-c4e68e5b8f5c\")) {\n",
       "                    Plotly.newPlot(\n",
       "                        '28fedef3-f9c7-4e85-a036-c4e68e5b8f5c',\n",
       "                        [{\"name\": \"San Antonio, TX\", \"opacity\": 0.8, \"type\": \"scatter\", \"x\": [2009, 2010, 2011, 2012, 2013, 2014, 2015], \"y\": [7844.0, 8434.0, 7038.0, 6943.0, 8828.0, 7704.0, 8594.0]}, {\"name\": \"Louisville, KY\", \"opacity\": 0.8, \"type\": \"scatter\", \"x\": [2009, 2010, 2011, 2012, 2013, 2014, 2015], \"y\": [3769.0, 3734.0, 4086.0, 3989.0, 3644.0, 4015.0, 4300.0]}, {\"name\": \"Suffolk County, NY\", \"opacity\": 0.8, \"type\": \"scatter\", \"x\": [2009, 2010, 2011, 2012, 2013, 2014, 2015], \"y\": [2267.0, 2031.0, 1862.0, 1790.0, 1599.0, 1576.0, 1675.0]}, {\"name\": \"Miami-Dade County, FL\", \"opacity\": 0.8, \"type\": \"scatter\", \"x\": [2009, 2010, 2011, 2012, 2013, 2014, 2015], \"y\": [7815.0, 6927.0, 6913.0, 6046.0, 6057.0, 6571.0, 6179.0]}, {\"name\": \"Nashville, TN\", \"opacity\": 0.8, \"type\": \"scatter\", \"x\": [2009, 2010, 2011, 2012, 2013, 2014, 2015], \"y\": [6959.0, 6802.0, 7253.0, 7314.0, 6667.0, 7289.0, 7245.0]}, {\"name\": \"Nassau County, NY\", \"opacity\": 0.8, \"type\": \"scatter\", \"x\": [2009, 2010, 2011, 2012, 2013, 2014, 2015], \"y\": [1640.0, 1496.0, 1459.0, 1654.0, 1394.0, 1329.0, 1318.0]}, {\"name\": \"Miami, FL\", \"opacity\": 0.8, \"type\": \"scatter\", \"x\": [2009, 2010, 2011, 2012, 2013, 2014, 2015], \"y\": [4983.0, 4879.0, 4849.0, 4856.0, 4945.0, 4473.0, 4473.0]}, {\"name\": \"Denver, CO\", \"opacity\": 0.8, \"type\": \"scatter\", \"x\": [2009, 2010, 2011, 2012, 2013, 2014, 2015], \"y\": [3473.0, 3387.0, 3718.0, 3885.0, 4093.0, 4002.0, 4599.0]}, {\"name\": \"Tucson, AZ\", \"opacity\": 0.8, \"type\": \"scatter\", \"x\": [2009, 2010, 2011, 2012, 2013, 2014, 2015], \"y\": [3560.0, 3331.0, 3440.0, 3850.0, 3368.0, 3443.0, 3472.0]}, {\"name\": \"Salt Lake City, UT\", \"opacity\": 0.8, \"type\": \"scatter\", \"x\": [2009, 2010, 2011, 2012, 2013, 2014, 2015], \"y\": [1284.0, 1294.0, 1230.0, 1302.0, 1487.0, 1452.0, 1642.0]}, {\"name\": \"San Francisco, CA\", \"opacity\": 0.8, \"type\": \"scatter\", \"x\": [2009, 2010, 2011, 2012, 2013, 2014, 2015], \"y\": [5957.0, 5747.0, 5374.0, 5777.0, 7064.0, 6761.0, 6710.0]}, {\"name\": \"New York City, NY\", \"opacity\": 0.8, \"type\": \"scatter\", \"x\": [2009, 2010, 2011, 2012, 2013, 2014, 2015], \"y\": [46357.0, 48489.0, 51209.0, 52993.0, 52384.0, 50564.0, 50088.0]}, {\"name\": \"Newark, NJ\", \"opacity\": 0.8, \"type\": \"scatter\", \"x\": [2009, 2010, 2011, 2012, 2013, 2014, 2015], \"y\": [2597.0, 2885.0, 3243.0, 3220.0, 3516.0, 3009.0, 3072.0]}, {\"name\": \"Wichita, KS\", \"opacity\": 0.8, \"type\": \"scatter\", \"x\": [2009, 2010, 2011, 2012, 2013, 2014, 2015], \"y\": [3255.0, 3038.0, 2963.0, 2896.0, 3069.0, 2939.0, 3839.0]}, {\"name\": \"Columbus, OH\", \"opacity\": 0.8, \"type\": \"scatter\", \"x\": [2009, 2010, 2011, 2012, 2013, 2014, 2015], \"y\": [5375.0, 5472.0, 5228.0, 4808.0, 4446.0, 4640.0, 4631.0]}, {\"name\": \"Houston, TX\", \"opacity\": 0.8, \"type\": \"scatter\", \"x\": [2009, 2010, 2011, 2012, 2013, 2014, 2015], \"y\": [25593.0, 22491.0, 20892.0, 21610.0, 20993.0, 22008.0, 21994.0]}, {\"name\": \"El Paso, TX\", \"opacity\": 0.8, \"type\": \"scatter\", \"x\": [2009, 2010, 2011, 2012, 2013, 2014, 2015], \"y\": [2830.0, 2861.0, 2858.0, 2859.0, 2522.0, 2671.0, 2515.0]}, {\"name\": \"Buffalo, NY\", \"opacity\": 0.8, \"type\": \"scatter\", \"x\": [2009, 2010, 2011, 2012, 2013, 2014, 2015], \"y\": [3920.0, 3599.0, 3250.0, 3382.0, 3249.0, 3173.0, 2887.0]}, {\"name\": \"New Orleans, LA\", \"opacity\": 0.8, \"type\": \"scatter\", \"x\": [2009, 2010, 2011, 2012, 2013, 2014, 2015], \"y\": [2614.0, 2593.0, 2748.0, 2958.0, 2965.0, 3770.0, 3736.0]}, {\"name\": \"Chicago, IL\", \"opacity\": 0.8, \"type\": \"scatter\", \"x\": [2009, 2010, 2011, 2012, 2013, 2014, 2015], \"y\": [33501.0, 29774.0, 28273.0, 27620.0, 25688.0, 24133.0, 24663.0]}, {\"name\": \"Dallas, TX\", \"opacity\": 0.8, \"type\": \"scatter\", \"x\": [2009, 2010, 2011, 2012, 2013, 2014, 2015], \"y\": [10221.0, 9161.0, 8330.0, 8380.0, 8330.0, 8457.0, 9038.0]}, {\"name\": \"Prince George's County, MD\", \"opacity\": 0.8, \"type\": \"scatter\", \"x\": [2009, 2010, 2011, 2012, 2013, 2014, 2015], \"y\": [5338.0, 4941.0, 4075.0, 3955.0, 3502.0, 3161.0, 3256.0]}, {\"name\": \"San Diego, CA\", \"opacity\": 0.8, \"type\": \"scatter\", \"x\": [2009, 2010, 2011, 2012, 2013, 2014, 2015], \"y\": [5931.0, 5616.0, 5104.0, 5529.0, 5303.0, 5214.0, 5582.0]}, {\"name\": \"Long Beach, CA\", \"opacity\": 0.8, \"type\": \"scatter\", \"x\": [2009, 2010, 2011, 2012, 2013, 2014, 2015], \"y\": [3161.0, 2720.0, 2857.0, 2705.0, 2346.0, 2304.0, 2766.0]}, {\"name\": \"Mesa, AZ\", \"opacity\": 0.8, \"type\": \"scatter\", \"x\": [2009, 2010, 2011, 2012, 2013, 2014, 2015], \"y\": [2000.0, 1790.0, 1837.0, 1804.0, 1807.0, 2119.0, 1972.0]}, {\"name\": \"Raleigh, NC\", \"opacity\": 0.8, \"type\": \"scatter\", \"x\": [2009, 2010, 2011, 2012, 2013, 2014, 2015], \"y\": [2001.0, 1740.0, 1724.0, 1780.0, 1683.0, 1730.0, 1676.0]}, {\"name\": \"Las Vegas, NV\", \"opacity\": 0.8, \"type\": \"scatter\", \"x\": [2009, 2010, 2011, 2012, 2013, 2014, 2015], \"y\": [13039.0, 12648.0, 10813.0, 11598.0, 11374.0, 12876.0, 14383.0]}, {\"name\": \"Tampa, FL\", \"opacity\": 0.8, \"type\": \"scatter\", \"x\": [2009, 2010, 2011, 2012, 2013, 2014, 2015], \"y\": [2597.0, 2170.0, 2228.0, 2162.0, 2097.0, 2080.0, 2298.0]}, {\"name\": \"Philadelphia, PA\", \"opacity\": 0.8, \"type\": \"scatter\", \"x\": [2009, 2010, 2011, 2012, 2013, 2014, 2015], \"y\": [19163.0, 18535.0, 18268.0, 17853.0, 17074.0, 15925.0, 16132.0]}, {\"name\": \"Omaha, NE\", \"opacity\": 0.8, \"type\": \"scatter\", \"x\": [2009, 2010, 2011, 2012, 2013, 2014, 2015], \"y\": [2363.0, 2274.0, 2309.0, 2485.0, 2449.0, 2458.0, 2329.0]}, {\"name\": \"Charlotte, NC\", \"opacity\": 0.8, \"type\": \"scatter\", \"x\": [2009, 2010, 2011, 2012, 2013, 2014, 2015], \"y\": [5625.0, 4891.0, 4787.0, 5238.0, 5093.0, 5054.0, 5948.0]}, {\"name\": \"Seattle, WA\", \"opacity\": 0.8, \"type\": \"scatter\", \"x\": [2009, 2010, 2011, 2012, 2013, 2014, 2015], \"y\": [3861.0, 3515.0, 3664.0, 3782.0, 3760.0, 4005.0, 4093.0]}, {\"name\": \"Cleveland, OH\", \"opacity\": 0.8, \"type\": \"scatter\", \"x\": [2009, 2010, 2011, 2012, 2013, 2014, 2015], \"y\": [5994.0, 5529.0, 5431.0, 5469.0, 5782.0, 5205.0, null]}, {\"name\": \"Los Angeles, CA\", \"opacity\": 0.8, \"type\": \"scatter\", \"x\": [2009, 2010, 2011, 2012, 2013, 2014, 2015], \"y\": [24070.0, 21484.0, 20045.0, 18547.0, 16524.0, 19171.0, 25156.0]}, {\"name\": \"Fort Worth, TX\", \"opacity\": 0.8, \"type\": \"scatter\", \"x\": [2009, 2010, 2011, 2012, 2013, 2014, 2015], \"y\": [4245.0, 4301.0, 4579.0, 4526.0, 4440.0, 4492.0, 4359.0]}, {\"name\": \"Jacksonville, FL\", \"opacity\": 0.8, \"type\": \"scatter\", \"x\": [2009, 2010, 2011, 2012, 2013, 2014, 2015], \"y\": [6772.0, 5469.0, 5182.0, 5189.0, 5246.0, 5853.0, 5622.0]}, {\"name\": \"St. Louis, MO\", \"opacity\": 0.8, \"type\": \"scatter\", \"x\": [2009, 2010, 2011, 2012, 2013, 2014, 2015], \"y\": [7353.0, 6205.0, 5950.0, 5661.0, 5077.0, 5348.0, 5762.0]}, {\"name\": \"Milwaukee, WI\", \"opacity\": 0.8, \"type\": \"scatter\", \"x\": [2009, 2010, 2011, 2012, 2013, 2014, 2015], \"y\": [6661.0, 6336.0, 6637.0, 7932.0, 8194.0, 8914.0, 9583.0]}, {\"name\": \"Virginia Beach, VA\", \"opacity\": 0.8, \"type\": \"scatter\", \"x\": [2009, 2010, 2011, 2012, 2013, 2014, 2015], \"y\": [896.0, 831.0, 784.0, 751.0, 738.0, 667.0, 626.0]}, {\"name\": \"Baltimore County, MD\", \"opacity\": 0.8, \"type\": \"scatter\", \"x\": [2009, 2010, 2011, 2012, 2013, 2014, 2015], \"y\": [4534.0, 4305.0, 4250.0, 4145.0, 4184.0, 4024.0, null]}, {\"name\": \"Indianapolis, IN\", \"opacity\": 0.8, \"type\": \"scatter\", \"x\": [2009, 2010, 2011, 2012, 2013, 2014, 2015], \"y\": [9759.0, 9646.0, 9170.0, 9942.0, 10479.0, 10768.0, 11124.0]}, {\"name\": \"Los Angeles County, CA\", \"opacity\": 0.8, \"type\": \"scatter\", \"x\": [2009, 2010, 2011, 2012, 2013, 2014, 2015], \"y\": [6540.0, 6497.0, 5595.0, 5458.0, 5323.0, 5091.0, 5173.0]}, {\"name\": \"Minneapolis, MN\", \"opacity\": 0.8, \"type\": \"scatter\", \"x\": [2009, 2010, 2011, 2012, 2013, 2014, 2015], \"y\": [4242.0, 4064.0, 3722.0, 3872.0, 4038.0, 4093.0, 4395.0]}, {\"name\": \"Montgomery County, MD\", \"opacity\": 0.8, \"type\": \"scatter\", \"x\": [2009, 2010, 2011, 2012, 2013, 2014, 2015], \"y\": [2033.0, 1699.0, 1618.0, 1795.0, 1687.0, 1648.0, 1964.0]}, {\"name\": \"Oklahoma City, OK\", \"opacity\": 0.8, \"type\": \"scatter\", \"x\": [2009, 2010, 2011, 2012, 2013, 2014, 2015], \"y\": [5181.0, 5304.0, 5108.0, 5474.0, 4998.0, 4782.0, 4828.0]}, {\"name\": \"Boston, MA\", \"opacity\": 0.8, \"type\": \"scatter\", \"x\": [2009, 2010, 2011, 2012, 2013, 2014, 2015], \"y\": [6192.0, 5819.0, 5252.0, 5266.0, 5037.0, 4749.0, 4702.0]}, {\"name\": \"Cincinnati, OH\", \"opacity\": 0.8, \"type\": \"scatter\", \"x\": [2009, 2010, 2011, 2012, 2013, 2014, 2015], \"y\": [3983.0, 3615.0, 3076.0, 2903.0, 2858.0, 2719.0, 2761.0]}, {\"name\": \"Pittsburgh, PA\", \"opacity\": 0.8, \"type\": \"scatter\", \"x\": [2009, 2010, 2011, 2012, 2013, 2014, 2015], \"y\": [3087.0, 2810.0, 2476.0, 2347.0, 2259.0, 2455.0, 2167.0]}, {\"name\": \"Arlington, TX\", \"opacity\": 0.8, \"type\": \"scatter\", \"x\": [2009, 2010, 2011, 2012, 2013, 2014, 2015], \"y\": [2330.0, 1925.0, 1874.0, 1909.0, 1837.0, 1854.0, 1946.0]}, {\"name\": \"Phoenix, AZ\", \"opacity\": 0.8, \"type\": \"scatter\", \"x\": [2009, 2010, 2011, 2012, 2013, 2014, 2015], \"y\": [8730.0, 8001.0, 8089.0, 9458.0, 9492.0, 8749.0, 9261.0]}, {\"name\": \"Atlanta, GA\", \"opacity\": 0.8, \"type\": \"scatter\", \"x\": [2009, 2010, 2011, 2012, 2013, 2014, 2015], \"y\": [6359.0, 5749.0, 6097.0, 6027.0, 5516.0, 5577.0, 5203.0]}],\n",
       "                        {\"template\": {\"data\": {\"bar\": [{\"error_x\": {\"color\": \"#2a3f5f\"}, \"error_y\": {\"color\": \"#2a3f5f\"}, \"marker\": {\"line\": {\"color\": \"#E5ECF6\", \"width\": 0.5}}, \"type\": \"bar\"}], \"barpolar\": [{\"marker\": {\"line\": {\"color\": \"#E5ECF6\", \"width\": 0.5}}, \"type\": \"barpolar\"}], \"carpet\": [{\"aaxis\": {\"endlinecolor\": \"#2a3f5f\", \"gridcolor\": \"white\", \"linecolor\": \"white\", \"minorgridcolor\": \"white\", \"startlinecolor\": \"#2a3f5f\"}, \"baxis\": {\"endlinecolor\": \"#2a3f5f\", \"gridcolor\": \"white\", \"linecolor\": \"white\", \"minorgridcolor\": \"white\", \"startlinecolor\": \"#2a3f5f\"}, \"type\": \"carpet\"}], \"choropleth\": [{\"colorbar\": {\"outlinewidth\": 0, \"ticks\": \"\"}, \"type\": \"choropleth\"}], \"contour\": [{\"colorbar\": {\"outlinewidth\": 0, \"ticks\": \"\"}, \"colorscale\": [[0.0, \"#0d0887\"], [0.1111111111111111, \"#46039f\"], [0.2222222222222222, \"#7201a8\"], [0.3333333333333333, \"#9c179e\"], [0.4444444444444444, \"#bd3786\"], [0.5555555555555556, \"#d8576b\"], [0.6666666666666666, \"#ed7953\"], [0.7777777777777778, \"#fb9f3a\"], [0.8888888888888888, \"#fdca26\"], [1.0, \"#f0f921\"]], \"type\": \"contour\"}], \"contourcarpet\": [{\"colorbar\": {\"outlinewidth\": 0, \"ticks\": \"\"}, \"type\": \"contourcarpet\"}], \"heatmap\": [{\"colorbar\": {\"outlinewidth\": 0, \"ticks\": \"\"}, \"colorscale\": [[0.0, \"#0d0887\"], [0.1111111111111111, \"#46039f\"], [0.2222222222222222, \"#7201a8\"], [0.3333333333333333, \"#9c179e\"], [0.4444444444444444, \"#bd3786\"], [0.5555555555555556, \"#d8576b\"], [0.6666666666666666, \"#ed7953\"], [0.7777777777777778, \"#fb9f3a\"], [0.8888888888888888, \"#fdca26\"], [1.0, \"#f0f921\"]], \"type\": \"heatmap\"}], \"heatmapgl\": [{\"colorbar\": {\"outlinewidth\": 0, \"ticks\": \"\"}, \"colorscale\": [[0.0, \"#0d0887\"], [0.1111111111111111, \"#46039f\"], [0.2222222222222222, \"#7201a8\"], [0.3333333333333333, \"#9c179e\"], [0.4444444444444444, \"#bd3786\"], [0.5555555555555556, \"#d8576b\"], [0.6666666666666666, \"#ed7953\"], [0.7777777777777778, \"#fb9f3a\"], [0.8888888888888888, \"#fdca26\"], [1.0, \"#f0f921\"]], \"type\": \"heatmapgl\"}], \"histogram\": [{\"marker\": {\"colorbar\": {\"outlinewidth\": 0, \"ticks\": \"\"}}, \"type\": \"histogram\"}], \"histogram2d\": [{\"colorbar\": {\"outlinewidth\": 0, \"ticks\": \"\"}, \"colorscale\": [[0.0, \"#0d0887\"], [0.1111111111111111, \"#46039f\"], [0.2222222222222222, \"#7201a8\"], [0.3333333333333333, \"#9c179e\"], [0.4444444444444444, \"#bd3786\"], [0.5555555555555556, \"#d8576b\"], [0.6666666666666666, \"#ed7953\"], [0.7777777777777778, \"#fb9f3a\"], [0.8888888888888888, \"#fdca26\"], [1.0, \"#f0f921\"]], \"type\": \"histogram2d\"}], \"histogram2dcontour\": [{\"colorbar\": {\"outlinewidth\": 0, \"ticks\": \"\"}, \"colorscale\": [[0.0, \"#0d0887\"], [0.1111111111111111, \"#46039f\"], [0.2222222222222222, \"#7201a8\"], [0.3333333333333333, \"#9c179e\"], [0.4444444444444444, \"#bd3786\"], [0.5555555555555556, \"#d8576b\"], [0.6666666666666666, \"#ed7953\"], [0.7777777777777778, \"#fb9f3a\"], [0.8888888888888888, \"#fdca26\"], [1.0, \"#f0f921\"]], \"type\": \"histogram2dcontour\"}], \"mesh3d\": [{\"colorbar\": {\"outlinewidth\": 0, \"ticks\": \"\"}, \"type\": \"mesh3d\"}], \"parcoords\": [{\"line\": {\"colorbar\": {\"outlinewidth\": 0, \"ticks\": \"\"}}, \"type\": \"parcoords\"}], \"scatter\": [{\"marker\": {\"colorbar\": {\"outlinewidth\": 0, \"ticks\": \"\"}}, \"type\": \"scatter\"}], \"scatter3d\": [{\"line\": {\"colorbar\": {\"outlinewidth\": 0, \"ticks\": \"\"}}, \"marker\": {\"colorbar\": {\"outlinewidth\": 0, \"ticks\": \"\"}}, \"type\": \"scatter3d\"}], \"scattercarpet\": [{\"marker\": {\"colorbar\": {\"outlinewidth\": 0, \"ticks\": \"\"}}, \"type\": \"scattercarpet\"}], \"scattergeo\": [{\"marker\": {\"colorbar\": {\"outlinewidth\": 0, \"ticks\": \"\"}}, \"type\": \"scattergeo\"}], \"scattergl\": [{\"marker\": {\"colorbar\": {\"outlinewidth\": 0, \"ticks\": \"\"}}, \"type\": \"scattergl\"}], \"scattermapbox\": [{\"marker\": {\"colorbar\": {\"outlinewidth\": 0, \"ticks\": \"\"}}, \"type\": \"scattermapbox\"}], \"scatterpolar\": [{\"marker\": {\"colorbar\": {\"outlinewidth\": 0, \"ticks\": \"\"}}, \"type\": \"scatterpolar\"}], \"scatterpolargl\": [{\"marker\": {\"colorbar\": {\"outlinewidth\": 0, \"ticks\": \"\"}}, \"type\": \"scatterpolargl\"}], \"scatterternary\": [{\"marker\": {\"colorbar\": {\"outlinewidth\": 0, \"ticks\": \"\"}}, \"type\": \"scatterternary\"}], \"surface\": [{\"colorbar\": {\"outlinewidth\": 0, \"ticks\": \"\"}, \"colorscale\": [[0.0, \"#0d0887\"], [0.1111111111111111, \"#46039f\"], [0.2222222222222222, \"#7201a8\"], [0.3333333333333333, \"#9c179e\"], [0.4444444444444444, \"#bd3786\"], [0.5555555555555556, \"#d8576b\"], [0.6666666666666666, \"#ed7953\"], [0.7777777777777778, \"#fb9f3a\"], [0.8888888888888888, \"#fdca26\"], [1.0, \"#f0f921\"]], \"type\": \"surface\"}], \"table\": [{\"cells\": {\"fill\": {\"color\": \"#EBF0F8\"}, \"line\": {\"color\": \"white\"}}, \"header\": {\"fill\": {\"color\": \"#C8D4E3\"}, \"line\": {\"color\": \"white\"}}, \"type\": \"table\"}]}, \"layout\": {\"annotationdefaults\": {\"arrowcolor\": \"#2a3f5f\", \"arrowhead\": 0, \"arrowwidth\": 1}, \"colorscale\": {\"diverging\": [[0, \"#8e0152\"], [0.1, \"#c51b7d\"], [0.2, \"#de77ae\"], [0.3, \"#f1b6da\"], [0.4, \"#fde0ef\"], [0.5, \"#f7f7f7\"], [0.6, \"#e6f5d0\"], [0.7, \"#b8e186\"], [0.8, \"#7fbc41\"], [0.9, \"#4d9221\"], [1, \"#276419\"]], \"sequential\": [[0.0, \"#0d0887\"], [0.1111111111111111, \"#46039f\"], [0.2222222222222222, \"#7201a8\"], [0.3333333333333333, \"#9c179e\"], [0.4444444444444444, \"#bd3786\"], [0.5555555555555556, \"#d8576b\"], [0.6666666666666666, \"#ed7953\"], [0.7777777777777778, \"#fb9f3a\"], [0.8888888888888888, \"#fdca26\"], [1.0, \"#f0f921\"]], \"sequentialminus\": [[0.0, \"#0d0887\"], [0.1111111111111111, \"#46039f\"], [0.2222222222222222, \"#7201a8\"], [0.3333333333333333, \"#9c179e\"], [0.4444444444444444, \"#bd3786\"], [0.5555555555555556, \"#d8576b\"], [0.6666666666666666, \"#ed7953\"], [0.7777777777777778, \"#fb9f3a\"], [0.8888888888888888, \"#fdca26\"], [1.0, \"#f0f921\"]]}, \"colorway\": [\"#636efa\", \"#EF553B\", \"#00cc96\", \"#ab63fa\", \"#FFA15A\", \"#19d3f3\", \"#FF6692\", \"#B6E880\", \"#FF97FF\", \"#FECB52\"], \"font\": {\"color\": \"#2a3f5f\"}, \"geo\": {\"bgcolor\": \"white\", \"lakecolor\": \"white\", \"landcolor\": \"#E5ECF6\", \"showlakes\": true, \"showland\": true, \"subunitcolor\": \"white\"}, \"hoverlabel\": {\"align\": \"left\"}, \"hovermode\": \"closest\", \"mapbox\": {\"style\": \"light\"}, \"paper_bgcolor\": \"white\", \"plot_bgcolor\": \"#E5ECF6\", \"polar\": {\"angularaxis\": {\"gridcolor\": \"white\", \"linecolor\": \"white\", \"ticks\": \"\"}, \"bgcolor\": \"#E5ECF6\", \"radialaxis\": {\"gridcolor\": \"white\", \"linecolor\": \"white\", \"ticks\": \"\"}}, \"scene\": {\"xaxis\": {\"backgroundcolor\": \"#E5ECF6\", \"gridcolor\": \"white\", \"gridwidth\": 2, \"linecolor\": \"white\", \"showbackground\": true, \"ticks\": \"\", \"zerolinecolor\": \"white\"}, \"yaxis\": {\"backgroundcolor\": \"#E5ECF6\", \"gridcolor\": \"white\", \"gridwidth\": 2, \"linecolor\": \"white\", \"showbackground\": true, \"ticks\": \"\", \"zerolinecolor\": \"white\"}, \"zaxis\": {\"backgroundcolor\": \"#E5ECF6\", \"gridcolor\": \"white\", \"gridwidth\": 2, \"linecolor\": \"white\", \"showbackground\": true, \"ticks\": \"\", \"zerolinecolor\": \"white\"}}, \"shapedefaults\": {\"line\": {\"color\": \"#2a3f5f\"}}, \"ternary\": {\"aaxis\": {\"gridcolor\": \"white\", \"linecolor\": \"white\", \"ticks\": \"\"}, \"baxis\": {\"gridcolor\": \"white\", \"linecolor\": \"white\", \"ticks\": \"\"}, \"bgcolor\": \"#E5ECF6\", \"caxis\": {\"gridcolor\": \"white\", \"linecolor\": \"white\", \"ticks\": \"\"}}, \"title\": {\"x\": 0.05}, \"xaxis\": {\"automargin\": true, \"gridcolor\": \"white\", \"linecolor\": \"white\", \"ticks\": \"\", \"zerolinecolor\": \"white\", \"zerolinewidth\": 2}, \"yaxis\": {\"automargin\": true, \"gridcolor\": \"white\", \"linecolor\": \"white\", \"ticks\": \"\", \"zerolinecolor\": \"white\", \"zerolinewidth\": 2}}}, \"title\": {\"text\": \"Total Crimes in US during (2009-2015)\"}, \"xaxis\": {\"title\": {\"text\": \"Year\"}}, \"yaxis\": {\"title\": {\"text\": \"Total Crimes\"}}},\n",
       "                        {\"responsive\": true}\n",
       "                    ).then(function(){\n",
       "                            \n",
       "var gd = document.getElementById('28fedef3-f9c7-4e85-a036-c4e68e5b8f5c');\n",
       "var x = new MutationObserver(function (mutations, observer) {{\n",
       "        var display = window.getComputedStyle(gd).display;\n",
       "        if (!display || display === 'none') {{\n",
       "            console.log([gd, 'removed!']);\n",
       "            Plotly.purge(gd);\n",
       "            observer.disconnect();\n",
       "        }}\n",
       "}});\n",
       "\n",
       "// Listen for the removal of the full notebook cells\n",
       "var notebookContainer = gd.closest('#notebook-container');\n",
       "if (notebookContainer) {{\n",
       "    x.observe(notebookContainer, {childList: true});\n",
       "}}\n",
       "\n",
       "// Listen for the clearing of the current output cell\n",
       "var outputEl = gd.closest('.output');\n",
       "if (outputEl) {{\n",
       "    x.observe(outputEl, {childList: true});\n",
       "}}\n",
       "\n",
       "                        })\n",
       "                };\n",
       "                });\n",
       "            </script>\n",
       "        </div>"
      ]
     },
     "metadata": {},
     "output_type": "display_data"
    },
    {
     "data": {
      "text/plain": [
       "<Figure size 432x288 with 0 Axes>"
      ]
     },
     "metadata": {},
     "output_type": "display_data"
    }
   ],
   "source": [
    "a = set(crimes[\"agency_jurisdiction\"])\n",
    "a = list(a)\n",
    "\n",
    "doubles = dict()\n",
    "for i in range(0,len(a)):\n",
    "    doubles[i] = crimes[crimes['agency_jurisdiction'].str.contains(a[i])]\n",
    "\n",
    "trace = dict()\n",
    "for i in range(0,len(a)):\n",
    "    trace[i] = go.Scatter(x = doubles[i]['report_year'],y=doubles[i]['violent_crimes'],name = a[i],opacity = 0.8)\n",
    "\n",
    "data = [trace[0],trace[1],trace[2],trace[3],trace[4],trace[5],trace[6],trace[7],trace[8],trace[9],\n",
    "        trace[10],trace[11],trace[12],trace[13],trace[14],trace[15],trace[16],trace[17],trace[18],trace[19],\n",
    "         trace[20],trace[21],trace[22],trace[23],trace[24],trace[26],trace[27],trace[28],trace[29],\n",
    "          trace[30],trace[31],trace[32],trace[33],trace[34],trace[35],trace[36],trace[37],trace[38],trace[39],\n",
    "           trace[40],trace[41],trace[42],trace[43],trace[44],trace[45],trace[46],trace[47],trace[48],trace[49],\n",
    "            trace[50],trace[51]]\n",
    "\n",
    "layout = dict(title = \"Total Crimes in US during (2009-2015)\",\n",
    "              xaxis = dict(title = 'Year'),\n",
    "              yaxis = dict(title = 'Total Crimes'),)\n",
    "\n",
    "fig = dict(data=data, layout=layout)\n",
    "py.iplot(fig)\n",
    "plt.savefig('./images/crimeslines.png')"
   ]
  },
  {
   "cell_type": "code",
   "execution_count": null,
   "metadata": {},
   "outputs": [],
   "source": [
    "minimum_df=pd.read_csv('Minimum_Wage_Data.csv',header=0,encoding = 'unicode_escape')\n",
    "minimum_df.head()"
   ]
  },
  {
   "cell_type": "code",
   "execution_count": null,
   "metadata": {},
   "outputs": [],
   "source": [
    "All_Homes_f=pd.read_csv('All_homes_year.csv')\n",
    "All_Homes_f.rename(columns={'RegionName':'State'}, inplace=True)\n",
    "All_Homes_f.head()"
   ]
  },
  {
   "cell_type": "code",
   "execution_count": null,
   "metadata": {},
   "outputs": [],
   "source": [
    "#Setting the index\n",
    "minimum_df=minimum_df.set_index(['Year']).sort_index()\n",
    "minimum_df.head()"
   ]
  },
  {
   "cell_type": "code",
   "execution_count": null,
   "metadata": {},
   "outputs": [],
   "source": [
    "#Selecting just last 10 years\n",
    "minimum_df=minimum_df.loc['2009':'2019']\n",
    "minimum_df.head()"
   ]
  },
  {
   "cell_type": "code",
   "execution_count": 47,
   "metadata": {
    "scrolled": true
   },
   "outputs": [
    {
     "data": {
      "text/html": [
       "<div>\n",
       "<style scoped>\n",
       "    .dataframe tbody tr th:only-of-type {\n",
       "        vertical-align: middle;\n",
       "    }\n",
       "\n",
       "    .dataframe tbody tr th {\n",
       "        vertical-align: top;\n",
       "    }\n",
       "\n",
       "    .dataframe thead th {\n",
       "        text-align: right;\n",
       "    }\n",
       "</style>\n",
       "<table border=\"1\" class=\"dataframe\">\n",
       "  <thead>\n",
       "    <tr style=\"text-align: right;\">\n",
       "      <th></th>\n",
       "      <th>State</th>\n",
       "      <th>Table_Data</th>\n",
       "      <th>Footnote</th>\n",
       "      <th>High.Value</th>\n",
       "      <th>Low.Value</th>\n",
       "      <th>CPI.Average</th>\n",
       "      <th>High.2018</th>\n",
       "      <th>Low.2018</th>\n",
       "      <th>Price_Housing</th>\n",
       "    </tr>\n",
       "    <tr>\n",
       "      <th>Year</th>\n",
       "      <th></th>\n",
       "      <th></th>\n",
       "      <th></th>\n",
       "      <th></th>\n",
       "      <th></th>\n",
       "      <th></th>\n",
       "      <th></th>\n",
       "      <th></th>\n",
       "      <th></th>\n",
       "    </tr>\n",
       "  </thead>\n",
       "  <tbody>\n",
       "    <tr>\n",
       "      <th>2009</th>\n",
       "      <td>Alabama</td>\n",
       "      <td>...</td>\n",
       "      <td>NaN</td>\n",
       "      <td>0.0</td>\n",
       "      <td>0.0</td>\n",
       "      <td>214.537</td>\n",
       "      <td>0.0</td>\n",
       "      <td>0.0</td>\n",
       "      <td>105666.67</td>\n",
       "    </tr>\n",
       "    <tr>\n",
       "      <th>2010</th>\n",
       "      <td>Alabama</td>\n",
       "      <td>...</td>\n",
       "      <td>NaN</td>\n",
       "      <td>0.0</td>\n",
       "      <td>0.0</td>\n",
       "      <td>214.537</td>\n",
       "      <td>0.0</td>\n",
       "      <td>0.0</td>\n",
       "      <td>101700.00</td>\n",
       "    </tr>\n",
       "    <tr>\n",
       "      <th>2011</th>\n",
       "      <td>Alabama</td>\n",
       "      <td>...</td>\n",
       "      <td>NaN</td>\n",
       "      <td>0.0</td>\n",
       "      <td>0.0</td>\n",
       "      <td>214.537</td>\n",
       "      <td>0.0</td>\n",
       "      <td>0.0</td>\n",
       "      <td>97250.00</td>\n",
       "    </tr>\n",
       "    <tr>\n",
       "      <th>2012</th>\n",
       "      <td>Alabama</td>\n",
       "      <td>...</td>\n",
       "      <td>NaN</td>\n",
       "      <td>0.0</td>\n",
       "      <td>0.0</td>\n",
       "      <td>214.537</td>\n",
       "      <td>0.0</td>\n",
       "      <td>0.0</td>\n",
       "      <td>97266.67</td>\n",
       "    </tr>\n",
       "    <tr>\n",
       "      <th>2013</th>\n",
       "      <td>Alabama</td>\n",
       "      <td>...</td>\n",
       "      <td>NaN</td>\n",
       "      <td>0.0</td>\n",
       "      <td>0.0</td>\n",
       "      <td>214.537</td>\n",
       "      <td>0.0</td>\n",
       "      <td>0.0</td>\n",
       "      <td>106500.00</td>\n",
       "    </tr>\n",
       "  </tbody>\n",
       "</table>\n",
       "</div>"
      ],
      "text/plain": [
       "        State Table_Data Footnote  High.Value  Low.Value  CPI.Average  \\\n",
       "Year                                                                    \n",
       "2009  Alabama        ...      NaN         0.0        0.0      214.537   \n",
       "2010  Alabama        ...      NaN         0.0        0.0      214.537   \n",
       "2011  Alabama        ...      NaN         0.0        0.0      214.537   \n",
       "2012  Alabama        ...      NaN         0.0        0.0      214.537   \n",
       "2013  Alabama        ...      NaN         0.0        0.0      214.537   \n",
       "\n",
       "      High.2018  Low.2018  Price_Housing  \n",
       "Year                                      \n",
       "2009        0.0       0.0      105666.67  \n",
       "2010        0.0       0.0      101700.00  \n",
       "2011        0.0       0.0       97250.00  \n",
       "2012        0.0       0.0       97266.67  \n",
       "2013        0.0       0.0      106500.00  "
      ]
     },
     "execution_count": 47,
     "metadata": {},
     "output_type": "execute_result"
    }
   ],
   "source": [
    "merge=minimum_df.merge(All_Homes_f, on='State')\n",
    "merge.drop(('Table_Data'),axis=1)\n",
    "merge_df=merge.set_index(['Year'])\n",
    "merge_df.head()"
   ]
  },
  {
   "cell_type": "code",
   "execution_count": 48,
   "metadata": {},
   "outputs": [],
   "source": [
    "#Saving the final dataset\n",
    "merge_df.to_csv(\"merge_df.csv\", index=True, header=True)"
   ]
  },
  {
   "cell_type": "code",
   "execution_count": 150,
   "metadata": {},
   "outputs": [
    {
     "data": {
      "text/html": [
       "<div>\n",
       "<style scoped>\n",
       "    .dataframe tbody tr th:only-of-type {\n",
       "        vertical-align: middle;\n",
       "    }\n",
       "\n",
       "    .dataframe tbody tr th {\n",
       "        vertical-align: top;\n",
       "    }\n",
       "\n",
       "    .dataframe thead th {\n",
       "        text-align: right;\n",
       "    }\n",
       "</style>\n",
       "<table border=\"1\" class=\"dataframe\">\n",
       "  <thead>\n",
       "    <tr style=\"text-align: right;\">\n",
       "      <th></th>\n",
       "      <th>Region</th>\n",
       "      <th>Year</th>\n",
       "      <th>Population</th>\n",
       "    </tr>\n",
       "  </thead>\n",
       "  <tbody>\n",
       "    <tr>\n",
       "      <th>0</th>\n",
       "      <td>Alabama</td>\n",
       "      <td>2010</td>\n",
       "      <td>4,785,448</td>\n",
       "    </tr>\n",
       "    <tr>\n",
       "      <th>1</th>\n",
       "      <td>Alaska</td>\n",
       "      <td>2010</td>\n",
       "      <td>713,906</td>\n",
       "    </tr>\n",
       "    <tr>\n",
       "      <th>2</th>\n",
       "      <td>Arizona</td>\n",
       "      <td>2010</td>\n",
       "      <td>6,407,774</td>\n",
       "    </tr>\n",
       "    <tr>\n",
       "      <th>3</th>\n",
       "      <td>Arkansas</td>\n",
       "      <td>2010</td>\n",
       "      <td>2,921,978</td>\n",
       "    </tr>\n",
       "    <tr>\n",
       "      <th>4</th>\n",
       "      <td>California</td>\n",
       "      <td>2010</td>\n",
       "      <td>37,320,903</td>\n",
       "    </tr>\n",
       "  </tbody>\n",
       "</table>\n",
       "</div>"
      ],
      "text/plain": [
       "       Region  Year  Population\n",
       "0     Alabama  2010   4,785,448\n",
       "1      Alaska  2010     713,906\n",
       "2     Arizona  2010   6,407,774\n",
       "3    Arkansas  2010   2,921,978\n",
       "4  California  2010  37,320,903"
      ]
     },
     "execution_count": 150,
     "metadata": {},
     "output_type": "execute_result"
    }
   ],
   "source": [
    "#Dataset on Population\n",
    "Population_df=pd.read_csv('./US_Population_final.csv')\n",
    "Population_df.head()"
   ]
  },
  {
   "cell_type": "code",
   "execution_count": 179,
   "metadata": {
    "scrolled": true
   },
   "outputs": [
    {
     "data": {
      "application/vnd.plotly.v1+json": {
       "config": {
        "linkText": "Export to plot.ly",
        "plotlyServerURL": "https://plot.ly",
        "showLink": false
       },
       "data": [
        {
         "name": "New York",
         "opacity": 0.8,
         "type": "scatter",
         "x": [
          2010,
          2011,
          2012,
          2013,
          2014,
          2015,
          2016,
          2017,
          2018
         ],
         "y": [
          "19,400,080",
          "19,498,514",
          "19,574,549",
          "19,628,043",
          "19,656,330",
          "19,661,411",
          "19,641,589",
          "19,590,719",
          "19,542,209"
         ]
        },
        {
         "name": "Wyoming",
         "opacity": 0.8,
         "type": "scatter",
         "x": [
          2010,
          2011,
          2012,
          2013,
          2014,
          2015,
          2016,
          2017,
          2018
         ],
         "y": [
          "564,483",
          "567,224",
          "576,270",
          "582,123",
          "582,548",
          "585,668",
          "584,290",
          "578,934",
          "577,737"
         ]
        },
        {
         "name": "Puerto Rico",
         "opacity": 0.8,
         "type": "scatter",
         "x": [
          2010,
          2011,
          2012,
          2013,
          2014,
          2015,
          2016,
          2017,
          2018
         ],
         "y": [
          "3,721,525",
          "3,678,732",
          "3,634,488",
          "3,593,077",
          "3,534,874",
          "3,473,166",
          "3,406,495",
          "3,325,001",
          "3,195,153"
         ]
        },
        {
         "name": "Delaware",
         "opacity": 0.8,
         "type": "scatter",
         "x": [
          2010,
          2011,
          2012,
          2013,
          2014,
          2015,
          2016,
          2017,
          2018
         ],
         "y": [
          "899,595",
          "907,316",
          "915,188",
          "923,638",
          "932,596",
          "941,413",
          "949,216",
          "957,078",
          "967,171"
         ]
        },
        {
         "name": "South Dakota",
         "opacity": 0.8,
         "type": "scatter",
         "x": [
          2010,
          2011,
          2012,
          2013,
          2014,
          2015,
          2016,
          2017,
          2018
         ],
         "y": [
          "816,165",
          "823,484",
          "833,496",
          "842,270",
          "849,088",
          "853,933",
          "862,890",
          "873,286",
          "882,235"
         ]
        },
        {
         "name": "Florida",
         "opacity": 0.8,
         "type": "scatter",
         "x": [
          2010,
          2011,
          2012,
          2013,
          2014,
          2015,
          2016,
          2017,
          2018
         ],
         "y": [
          "18,845,785",
          "19,093,352",
          "19,326,230",
          "19,563,166",
          "19,860,330",
          "20,224,249",
          "20,629,982",
          "20,976,812",
          "21,299,325"
         ]
        },
        {
         "name": "Mississippi",
         "opacity": 0.8,
         "type": "scatter",
         "x": [
          2010,
          2011,
          2012,
          2013,
          2014,
          2015,
          2016,
          2017,
          2018
         ],
         "y": [
          "2,970,536",
          "2,978,470",
          "2,983,767",
          "2,988,797",
          "2,990,623",
          "2,988,693",
          "2,988,298",
          "2,989,663",
          "2,986,530"
         ]
        },
        {
         "name": "Oregon",
         "opacity": 0.8,
         "type": "scatter",
         "x": [
          2010,
          2011,
          2012,
          2013,
          2014,
          2015,
          2016,
          2017,
          2018
         ],
         "y": [
          "3,837,532",
          "3,871,728",
          "3,899,118",
          "3,922,908",
          "3,964,106",
          "4,016,918",
          "4,091,404",
          "4,146,592",
          "4,190,713"
         ]
        },
        {
         "name": "Washington",
         "opacity": 0.8,
         "type": "scatter",
         "x": [
          2010,
          2011,
          2012,
          2013,
          2014,
          2015,
          2016,
          2017,
          2018
         ],
         "y": [
          "6,742,902",
          "6,821,655",
          "6,892,876",
          "6,962,906",
          "7,052,439",
          "7,163,543",
          "7,294,680",
          "7,425,432",
          "7,535,591"
         ]
        },
        {
         "name": "Maine",
         "opacity": 0.8,
         "type": "scatter",
         "x": [
          2010,
          2011,
          2012,
          2013,
          2014,
          2015,
          2016,
          2017,
          2018
         ],
         "y": [
          "1,327,632",
          "1,328,150",
          "1,327,691",
          "1,328,196",
          "1,330,760",
          "1,328,484",
          "1,331,370",
          "1,335,063",
          "1,338,404"
         ]
        },
        {
         "name": "Arizona",
         "opacity": 0.8,
         "type": "scatter",
         "x": [
          2010,
          2011,
          2012,
          2013,
          2014,
          2015,
          2016,
          2017,
          2018
         ],
         "y": [
          "6,407,774",
          "6,473,497",
          "6,556,629",
          "6,634,999",
          "6,733,840",
          "6,833,596",
          "6,945,452",
          "7,048,876",
          "7,171,646"
         ]
        },
        {
         "name": "Maryland",
         "opacity": 0.8,
         "type": "scatter",
         "x": [
          2010,
          2011,
          2012,
          2013,
          2014,
          2015,
          2016,
          2017,
          2018
         ],
         "y": [
          "5,788,642",
          "5,838,991",
          "5,887,072",
          "5,923,704",
          "5,958,165",
          "5,986,717",
          "6,004,692",
          "6,024,891",
          "6,042,718"
         ]
        },
        {
         "name": "New Mexico",
         "opacity": 0.8,
         "type": "scatter",
         "x": [
          2010,
          2011,
          2012,
          2013,
          2014,
          2015,
          2016,
          2017,
          2018
         ],
         "y": [
          "2,064,588",
          "2,080,395",
          "2,087,549",
          "2,092,792",
          "2,090,342",
          "2,090,211",
          "2,092,789",
          "2,093,395",
          "2,095,428"
         ]
        },
        {
         "name": "Montana",
         "opacity": 0.8,
         "type": "scatter",
         "x": [
          2010,
          2011,
          2012,
          2013,
          2014,
          2015,
          2016,
          2017,
          2018
         ],
         "y": [
          "990,722",
          "997,221",
          "1,003,754",
          "1,013,564",
          "1,021,891",
          "1,030,503",
          "1,040,863",
          "1,053,090",
          "1,062,305"
         ]
        },
        {
         "name": "Pennsylvania",
         "opacity": 0.8,
         "type": "scatter",
         "x": [
          2010,
          2011,
          2012,
          2013,
          2014,
          2015,
          2016,
          2017,
          2018
         ],
         "y": [
          "12,711,158",
          "12,744,583",
          "12,766,827",
          "12,776,621",
          "12,789,101",
          "12,785,759",
          "12,783,538",
          "12,790,447",
          "12,807,060"
         ]
        },
        {
         "name": "Rhode Island",
         "opacity": 0.8,
         "type": "scatter",
         "x": [
          2010,
          2011,
          2012,
          2013,
          2014,
          2015,
          2016,
          2017,
          2018
         ],
         "y": [
          "1,053,938",
          "1,053,536",
          "1,054,601",
          "1,055,122",
          "1,056,017",
          "1,056,173",
          "1,057,063",
          "1,056,486",
          "1,057,315"
         ]
        },
        {
         "name": "Vermont",
         "opacity": 0.8,
         "type": "scatter",
         "x": [
          2010,
          2011,
          2012,
          2013,
          2014,
          2015,
          2016,
          2017,
          2018
         ],
         "y": [
          "625,880",
          "626,979",
          "626,063",
          "626,212",
          "625,218",
          "625,197",
          "623,644",
          "624,525",
          "626,299"
         ]
        },
        {
         "name": "Indiana",
         "opacity": 0.8,
         "type": "scatter",
         "x": [
          2010,
          2011,
          2012,
          2013,
          2014,
          2015,
          2016,
          2017,
          2018
         ],
         "y": [
          "6,490,436",
          "6,516,045",
          "6,537,640",
          "6,568,367",
          "6,593,533",
          "6,608,296",
          "6,633,344",
          "6,660,082",
          "6,691,878"
         ]
        },
        {
         "name": "Minnesota",
         "opacity": 0.8,
         "type": "scatter",
         "x": [
          2010,
          2011,
          2012,
          2013,
          2014,
          2015,
          2016,
          2017,
          2018
         ],
         "y": [
          "5,310,843",
          "5,345,668",
          "5,376,550",
          "5,413,693",
          "5,451,522",
          "5,482,503",
          "5,523,409",
          "5,568,155",
          "5,611,179"
         ]
        },
        {
         "name": "New Jersey",
         "opacity": 0.8,
         "type": "scatter",
         "x": [
          2010,
          2011,
          2012,
          2013,
          2014,
          2015,
          2016,
          2017,
          2018
         ],
         "y": [
          "8,799,624",
          "8,827,783",
          "8,845,483",
          "8,858,362",
          "8,866,780",
          "8,870,869",
          "8,874,516",
          "8,888,543",
          "8,908,520"
         ]
        },
        {
         "name": "Hawaii",
         "opacity": 0.8,
         "type": "scatter",
         "x": [
          2010,
          2011,
          2012,
          2013,
          2014,
          2015,
          2016,
          2017,
          2018
         ],
         "y": [
          "1,363,963",
          "1,379,252",
          "1,394,905",
          "1,408,453",
          "1,414,862",
          "1,422,484",
          "1,428,105",
          "1,424,203",
          "1,420,491"
         ]
        },
        {
         "name": "Oklahoma",
         "opacity": 0.8,
         "type": "scatter",
         "x": [
          2010,
          2011,
          2012,
          2013,
          2014,
          2015,
          2016,
          2017,
          2018
         ],
         "y": [
          "3,759,632",
          "3,787,821",
          "3,818,600",
          "3,853,205",
          "3,878,367",
          "3,909,831",
          "3,926,769",
          "3,932,640",
          "3,943,079"
         ]
        },
        {
         "name": "Idaho",
         "opacity": 0.8,
         "type": "scatter",
         "x": [
          2010,
          2011,
          2012,
          2013,
          2014,
          2015,
          2016,
          2017,
          2018
         ],
         "y": [
          "1,570,773",
          "1,583,828",
          "1,595,441",
          "1,611,530",
          "1,631,479",
          "1,651,523",
          "1,682,930",
          "1,718,904",
          "1,754,208"
         ]
        },
        {
         "name": "New Hampshire",
         "opacity": 0.8,
         "type": "scatter",
         "x": [
          2010,
          2011,
          2012,
          2013,
          2014,
          2015,
          2016,
          2017,
          2018
         ],
         "y": [
          "1,316,777",
          "1,319,815",
          "1,323,962",
          "1,326,408",
          "1,333,223",
          "1,336,294",
          "1,342,373",
          "1,349,767",
          "1,356,458"
         ]
        },
        {
         "name": "South Carolina",
         "opacity": 0.8,
         "type": "scatter",
         "x": [
          2010,
          2011,
          2012,
          2013,
          2014,
          2015,
          2016,
          2017,
          2018
         ],
         "y": [
          "4,635,656",
          "4,671,422",
          "4,717,112",
          "4,764,153",
          "4,823,793",
          "4,892,253",
          "4,958,235",
          "5,021,219",
          "5,084,127"
         ]
        },
        {
         "name": "Nevada",
         "opacity": 0.8,
         "type": "scatter",
         "x": [
          2010,
          2011,
          2012,
          2013,
          2014,
          2015,
          2016,
          2017,
          2018
         ],
         "y": [
          "2,702,464",
          "2,712,799",
          "2,744,566",
          "2,776,972",
          "2,819,012",
          "2,868,666",
          "2,919,772",
          "2,972,405",
          "3,034,392"
         ]
        },
        {
         "name": "Colorado",
         "opacity": 0.8,
         "type": "scatter",
         "x": [
          2010,
          2011,
          2012,
          2013,
          2014,
          2015,
          2016,
          2017,
          2018
         ],
         "y": [
          "5,048,281",
          "5,121,771",
          "5,193,721",
          "5,270,482",
          "5,351,218",
          "5,452,107",
          "5,540,921",
          "5,615,902",
          "5,695,564"
         ]
        },
        {
         "name": "District of Columbia",
         "opacity": 0.8,
         "type": "scatter",
         "x": [
          2010,
          2011,
          2012,
          2013,
          2014,
          2015,
          2016,
          2017,
          2018
         ],
         "y": [
          "605,085",
          "619,602",
          "634,725",
          "650,431",
          "662,513",
          "675,254",
          "686,575",
          "695,691",
          "702,455"
         ]
        },
        {
         "name": "Michigan",
         "opacity": 0.8,
         "type": "scatter",
         "x": [
          2010,
          2011,
          2012,
          2013,
          2014,
          2015,
          2016,
          2017,
          2018
         ],
         "y": [
          "9,877,535",
          "9,881,521",
          "9,896,930",
          "9,913,349",
          "9,930,589",
          "9,932,573",
          "9,951,890",
          "9,976,447",
          "9,995,915"
         ]
        },
        {
         "name": "Kansas",
         "opacity": 0.8,
         "type": "scatter",
         "x": [
          2010,
          2011,
          2012,
          2013,
          2014,
          2015,
          2016,
          2017,
          2018
         ],
         "y": [
          "2,858,213",
          "2,869,035",
          "2,885,361",
          "2,893,510",
          "2,900,896",
          "2,909,502",
          "2,911,263",
          "2,910,689",
          "2,911,505"
         ]
        },
        {
         "name": "Illinois",
         "opacity": 0.8,
         "type": "scatter",
         "x": [
          2010,
          2011,
          2012,
          2013,
          2014,
          2015,
          2016,
          2017,
          2018
         ],
         "y": [
          "12,840,762",
          "12,867,291",
          "12,884,119",
          "12,898,269",
          "12,888,962",
          "12,864,342",
          "12,826,895",
          "12,786,196",
          "12,741,080"
         ]
        },
        {
         "name": "Nebraska",
         "opacity": 0.8,
         "type": "scatter",
         "x": [
          2010,
          2011,
          2012,
          2013,
          2014,
          2015,
          2016,
          2017,
          2018
         ],
         "y": [
          "1,829,536",
          "1,840,538",
          "1,853,323",
          "1,865,414",
          "1,879,522",
          "1,891,507",
          "1,905,924",
          "1,917,575",
          "1,929,268"
         ]
        },
        {
         "name": "Virginia",
         "opacity": 0.8,
         "type": "scatter",
         "x": [
          2010,
          2010,
          2011,
          2011,
          2012,
          2012,
          2013,
          2013,
          2014,
          2014,
          2015,
          2015,
          2016,
          2016,
          2017,
          2017,
          2018,
          2018
         ],
         "y": [
          "8,023,680",
          "1,854,214",
          "8,100,469",
          "1,856,074",
          "8,185,229",
          "1,856,764",
          "8,253,053",
          "1,853,873",
          "8,312,076",
          "1,849,467",
          "8,362,907",
          "1,841,996",
          "8,410,946",
          "1,830,929",
          "8,465,207",
          "1,817,048",
          "8,517,685",
          "1,805,832"
         ]
        },
        {
         "name": "Missouri",
         "opacity": 0.8,
         "type": "scatter",
         "x": [
          2010,
          2011,
          2012,
          2013,
          2014,
          2015,
          2016,
          2017,
          2018
         ],
         "y": [
          "5,995,976",
          "6,009,641",
          "6,024,081",
          "6,040,658",
          "6,056,293",
          "6,071,745",
          "6,087,203",
          "6,108,612",
          "6,126,452"
         ]
        },
        {
         "name": "Georgia",
         "opacity": 0.8,
         "type": "scatter",
         "x": [
          2010,
          2011,
          2012,
          2013,
          2014,
          2015,
          2016,
          2017,
          2018
         ],
         "y": [
          "9,711,810",
          "9,801,578",
          "9,901,496",
          "9,973,326",
          "10,069,001",
          "10,181,111",
          "10,304,763",
          "10,413,055",
          "10,519,475"
         ]
        },
        {
         "name": "Kentucky",
         "opacity": 0.8,
         "type": "scatter",
         "x": [
          2010,
          2011,
          2012,
          2013,
          2014,
          2015,
          2016,
          2017,
          2018
         ],
         "y": [
          "4,348,200",
          "4,369,488",
          "4,386,381",
          "4,404,817",
          "4,414,483",
          "4,425,999",
          "4,438,229",
          "4,453,874",
          "4,468,402"
         ]
        },
        {
         "name": "Tennessee",
         "opacity": 0.8,
         "type": "scatter",
         "x": [
          2010,
          2011,
          2012,
          2013,
          2014,
          2015,
          2016,
          2017,
          2018
         ],
         "y": [
          "6,355,301",
          "6,397,410",
          "6,451,281",
          "6,493,432",
          "6,540,826",
          "6,590,808",
          "6,645,011",
          "6,708,794",
          "6,770,010"
         ]
        },
        {
         "name": "North Carolina",
         "opacity": 0.8,
         "type": "scatter",
         "x": [
          2010,
          2011,
          2012,
          2013,
          2014,
          2015,
          2016,
          2017,
          2018
         ],
         "y": [
          "9,574,293",
          "9,656,754",
          "9,749,123",
          "9,843,599",
          "9,933,944",
          "10,033,079",
          "10,156,679",
          "10,270,800",
          "10,383,620"
         ]
        },
        {
         "name": "California",
         "opacity": 0.8,
         "type": "scatter",
         "x": [
          2010,
          2011,
          2012,
          2013,
          2014,
          2015,
          2016,
          2017,
          2018
         ],
         "y": [
          "37,320,903",
          "37,641,823",
          "37,960,782",
          "38,280,824",
          "38,625,139",
          "38,953,142",
          "39,209,127",
          "39,399,349",
          "39,557,045"
         ]
        },
        {
         "name": "Alabama",
         "opacity": 0.8,
         "type": "scatter",
         "x": [
          2010,
          2011,
          2012,
          2013,
          2014,
          2015,
          2016,
          2017,
          2018
         ],
         "y": [
          "4,785,448",
          "4,798,834",
          "4,815,564",
          "4,830,460",
          "4,842,481",
          "4,853,160",
          "4,864,745",
          "4,875,120",
          "4,887,871"
         ]
        },
        {
         "name": "Utah",
         "opacity": 0.8,
         "type": "scatter",
         "x": [
          2010,
          2011,
          2012,
          2013,
          2014,
          2015,
          2016,
          2017,
          2018
         ],
         "y": [
          "2,775,334",
          "2,814,216",
          "2,853,467",
          "2,897,927",
          "2,937,399",
          "2,982,497",
          "3,042,613",
          "3,103,118",
          "3,161,105"
         ]
        },
        {
         "name": "North Dakota",
         "opacity": 0.8,
         "type": "scatter",
         "x": [
          2010,
          2011,
          2012,
          2013,
          2014,
          2015,
          2016,
          2017,
          2018
         ],
         "y": [
          "674,710",
          "685,136",
          "701,116",
          "721,999",
          "737,382",
          "754,022",
          "754,353",
          "755,176",
          "760,077"
         ]
        },
        {
         "name": "Ohio",
         "opacity": 0.8,
         "type": "scatter",
         "x": [
          2010,
          2011,
          2012,
          2013,
          2014,
          2015,
          2016,
          2017,
          2018
         ],
         "y": [
          "11,539,327",
          "11,543,463",
          "11,548,369",
          "11,576,576",
          "11,602,973",
          "11,617,850",
          "11,635,003",
          "11,664,129",
          "11,689,442"
         ]
        },
        {
         "name": "Massachusetts",
         "opacity": 0.8,
         "type": "scatter",
         "x": [
          2010,
          2011,
          2012,
          2013,
          2014,
          2015,
          2016,
          2017,
          2018
         ],
         "y": [
          "6,566,431",
          "6,613,149",
          "6,663,158",
          "6,713,944",
          "6,763,652",
          "6,795,891",
          "6,826,022",
          "6,863,246",
          "6,902,149"
         ]
        },
        {
         "name": "Iowa",
         "opacity": 0.8,
         "type": "scatter",
         "x": [
          2010,
          2011,
          2012,
          2013,
          2014,
          2015,
          2016,
          2017,
          2018
         ],
         "y": [
          "3,050,767",
          "3,066,054",
          "3,076,097",
          "3,093,078",
          "3,109,504",
          "3,121,460",
          "3,131,785",
          "3,143,637",
          "3,156,145"
         ]
        },
        {
         "name": "Wisconsin",
         "opacity": 0.8,
         "type": "scatter",
         "x": [
          2010,
          2011,
          2012,
          2013,
          2014,
          2015,
          2016,
          2017,
          2018
         ],
         "y": [
          "5,690,479",
          "5,704,755",
          "5,719,855",
          "5,736,952",
          "5,751,974",
          "5,761,406",
          "5,772,958",
          "5,792,051",
          "5,813,568"
         ]
        },
        {
         "name": "Louisiana",
         "opacity": 0.8,
         "type": "scatter",
         "x": [
          2010,
          2011,
          2012,
          2013,
          2014,
          2015,
          2016,
          2017,
          2018
         ],
         "y": [
          "4,544,532",
          "4,575,184",
          "4,600,814",
          "4,624,577",
          "4,644,204",
          "4,664,851",
          "4,678,215",
          "4,670,818",
          "4,659,978"
         ]
        },
        {
         "name": "Alaska",
         "opacity": 0.8,
         "type": "scatter",
         "x": [
          2010,
          2011,
          2012,
          2013,
          2014,
          2015,
          2016,
          2017,
          2018
         ],
         "y": [
          "713,906",
          "722,038",
          "730,399",
          "737,045",
          "736,307",
          "737,547",
          "741,504",
          "739,786",
          "737,438"
         ]
        },
        {
         "name": "West Virginia",
         "opacity": 0.8,
         "type": "scatter",
         "x": [
          2010,
          2011,
          2012,
          2013,
          2014,
          2015,
          2016,
          2017,
          2018
         ],
         "y": [
          "1,854,214",
          "1,856,074",
          "1,856,764",
          "1,853,873",
          "1,849,467",
          "1,841,996",
          "1,830,929",
          "1,817,048",
          "1,805,832"
         ]
        },
        {
         "name": "Connecticut",
         "opacity": 0.8,
         "type": "scatter",
         "x": [
          2010,
          2011,
          2012,
          2013,
          2014,
          2015,
          2016,
          2017,
          2018
         ],
         "y": [
          "3,579,125",
          "3,588,023",
          "3,594,395",
          "3,594,915",
          "3,594,783",
          "3,587,509",
          "3,578,674",
          "3,573,880",
          "3,572,665"
         ]
        },
        {
         "name": "Texas",
         "opacity": 0.8,
         "type": "scatter",
         "x": [
          2010,
          2011,
          2012,
          2013,
          2014,
          2015,
          2016,
          2017,
          2018
         ],
         "y": [
          "25,242,679",
          "25,646,227",
          "26,089,620",
          "26,489,464",
          "26,977,142",
          "27,486,814",
          "27,937,492",
          "28,322,717",
          "28,701,845"
         ]
        },
        {
         "name": "Arkansas",
         "opacity": 0.8,
         "type": "scatter",
         "x": [
          2010,
          2011,
          2012,
          2013,
          2014,
          2015,
          2016,
          2017,
          2018
         ],
         "y": [
          "2,921,978",
          "2,940,407",
          "2,952,109",
          "2,959,549",
          "2,967,726",
          "2,978,407",
          "2,990,410",
          "3,002,997",
          "3,013,825"
         ]
        }
       ],
       "layout": {
        "template": {
         "data": {
          "bar": [
           {
            "error_x": {
             "color": "#2a3f5f"
            },
            "error_y": {
             "color": "#2a3f5f"
            },
            "marker": {
             "line": {
              "color": "#E5ECF6",
              "width": 0.5
             }
            },
            "type": "bar"
           }
          ],
          "barpolar": [
           {
            "marker": {
             "line": {
              "color": "#E5ECF6",
              "width": 0.5
             }
            },
            "type": "barpolar"
           }
          ],
          "carpet": [
           {
            "aaxis": {
             "endlinecolor": "#2a3f5f",
             "gridcolor": "white",
             "linecolor": "white",
             "minorgridcolor": "white",
             "startlinecolor": "#2a3f5f"
            },
            "baxis": {
             "endlinecolor": "#2a3f5f",
             "gridcolor": "white",
             "linecolor": "white",
             "minorgridcolor": "white",
             "startlinecolor": "#2a3f5f"
            },
            "type": "carpet"
           }
          ],
          "choropleth": [
           {
            "colorbar": {
             "outlinewidth": 0,
             "ticks": ""
            },
            "type": "choropleth"
           }
          ],
          "contour": [
           {
            "colorbar": {
             "outlinewidth": 0,
             "ticks": ""
            },
            "colorscale": [
             [
              0,
              "#0d0887"
             ],
             [
              0.1111111111111111,
              "#46039f"
             ],
             [
              0.2222222222222222,
              "#7201a8"
             ],
             [
              0.3333333333333333,
              "#9c179e"
             ],
             [
              0.4444444444444444,
              "#bd3786"
             ],
             [
              0.5555555555555556,
              "#d8576b"
             ],
             [
              0.6666666666666666,
              "#ed7953"
             ],
             [
              0.7777777777777778,
              "#fb9f3a"
             ],
             [
              0.8888888888888888,
              "#fdca26"
             ],
             [
              1,
              "#f0f921"
             ]
            ],
            "type": "contour"
           }
          ],
          "contourcarpet": [
           {
            "colorbar": {
             "outlinewidth": 0,
             "ticks": ""
            },
            "type": "contourcarpet"
           }
          ],
          "heatmap": [
           {
            "colorbar": {
             "outlinewidth": 0,
             "ticks": ""
            },
            "colorscale": [
             [
              0,
              "#0d0887"
             ],
             [
              0.1111111111111111,
              "#46039f"
             ],
             [
              0.2222222222222222,
              "#7201a8"
             ],
             [
              0.3333333333333333,
              "#9c179e"
             ],
             [
              0.4444444444444444,
              "#bd3786"
             ],
             [
              0.5555555555555556,
              "#d8576b"
             ],
             [
              0.6666666666666666,
              "#ed7953"
             ],
             [
              0.7777777777777778,
              "#fb9f3a"
             ],
             [
              0.8888888888888888,
              "#fdca26"
             ],
             [
              1,
              "#f0f921"
             ]
            ],
            "type": "heatmap"
           }
          ],
          "heatmapgl": [
           {
            "colorbar": {
             "outlinewidth": 0,
             "ticks": ""
            },
            "colorscale": [
             [
              0,
              "#0d0887"
             ],
             [
              0.1111111111111111,
              "#46039f"
             ],
             [
              0.2222222222222222,
              "#7201a8"
             ],
             [
              0.3333333333333333,
              "#9c179e"
             ],
             [
              0.4444444444444444,
              "#bd3786"
             ],
             [
              0.5555555555555556,
              "#d8576b"
             ],
             [
              0.6666666666666666,
              "#ed7953"
             ],
             [
              0.7777777777777778,
              "#fb9f3a"
             ],
             [
              0.8888888888888888,
              "#fdca26"
             ],
             [
              1,
              "#f0f921"
             ]
            ],
            "type": "heatmapgl"
           }
          ],
          "histogram": [
           {
            "marker": {
             "colorbar": {
              "outlinewidth": 0,
              "ticks": ""
             }
            },
            "type": "histogram"
           }
          ],
          "histogram2d": [
           {
            "colorbar": {
             "outlinewidth": 0,
             "ticks": ""
            },
            "colorscale": [
             [
              0,
              "#0d0887"
             ],
             [
              0.1111111111111111,
              "#46039f"
             ],
             [
              0.2222222222222222,
              "#7201a8"
             ],
             [
              0.3333333333333333,
              "#9c179e"
             ],
             [
              0.4444444444444444,
              "#bd3786"
             ],
             [
              0.5555555555555556,
              "#d8576b"
             ],
             [
              0.6666666666666666,
              "#ed7953"
             ],
             [
              0.7777777777777778,
              "#fb9f3a"
             ],
             [
              0.8888888888888888,
              "#fdca26"
             ],
             [
              1,
              "#f0f921"
             ]
            ],
            "type": "histogram2d"
           }
          ],
          "histogram2dcontour": [
           {
            "colorbar": {
             "outlinewidth": 0,
             "ticks": ""
            },
            "colorscale": [
             [
              0,
              "#0d0887"
             ],
             [
              0.1111111111111111,
              "#46039f"
             ],
             [
              0.2222222222222222,
              "#7201a8"
             ],
             [
              0.3333333333333333,
              "#9c179e"
             ],
             [
              0.4444444444444444,
              "#bd3786"
             ],
             [
              0.5555555555555556,
              "#d8576b"
             ],
             [
              0.6666666666666666,
              "#ed7953"
             ],
             [
              0.7777777777777778,
              "#fb9f3a"
             ],
             [
              0.8888888888888888,
              "#fdca26"
             ],
             [
              1,
              "#f0f921"
             ]
            ],
            "type": "histogram2dcontour"
           }
          ],
          "mesh3d": [
           {
            "colorbar": {
             "outlinewidth": 0,
             "ticks": ""
            },
            "type": "mesh3d"
           }
          ],
          "parcoords": [
           {
            "line": {
             "colorbar": {
              "outlinewidth": 0,
              "ticks": ""
             }
            },
            "type": "parcoords"
           }
          ],
          "scatter": [
           {
            "marker": {
             "colorbar": {
              "outlinewidth": 0,
              "ticks": ""
             }
            },
            "type": "scatter"
           }
          ],
          "scatter3d": [
           {
            "line": {
             "colorbar": {
              "outlinewidth": 0,
              "ticks": ""
             }
            },
            "marker": {
             "colorbar": {
              "outlinewidth": 0,
              "ticks": ""
             }
            },
            "type": "scatter3d"
           }
          ],
          "scattercarpet": [
           {
            "marker": {
             "colorbar": {
              "outlinewidth": 0,
              "ticks": ""
             }
            },
            "type": "scattercarpet"
           }
          ],
          "scattergeo": [
           {
            "marker": {
             "colorbar": {
              "outlinewidth": 0,
              "ticks": ""
             }
            },
            "type": "scattergeo"
           }
          ],
          "scattergl": [
           {
            "marker": {
             "colorbar": {
              "outlinewidth": 0,
              "ticks": ""
             }
            },
            "type": "scattergl"
           }
          ],
          "scattermapbox": [
           {
            "marker": {
             "colorbar": {
              "outlinewidth": 0,
              "ticks": ""
             }
            },
            "type": "scattermapbox"
           }
          ],
          "scatterpolar": [
           {
            "marker": {
             "colorbar": {
              "outlinewidth": 0,
              "ticks": ""
             }
            },
            "type": "scatterpolar"
           }
          ],
          "scatterpolargl": [
           {
            "marker": {
             "colorbar": {
              "outlinewidth": 0,
              "ticks": ""
             }
            },
            "type": "scatterpolargl"
           }
          ],
          "scatterternary": [
           {
            "marker": {
             "colorbar": {
              "outlinewidth": 0,
              "ticks": ""
             }
            },
            "type": "scatterternary"
           }
          ],
          "surface": [
           {
            "colorbar": {
             "outlinewidth": 0,
             "ticks": ""
            },
            "colorscale": [
             [
              0,
              "#0d0887"
             ],
             [
              0.1111111111111111,
              "#46039f"
             ],
             [
              0.2222222222222222,
              "#7201a8"
             ],
             [
              0.3333333333333333,
              "#9c179e"
             ],
             [
              0.4444444444444444,
              "#bd3786"
             ],
             [
              0.5555555555555556,
              "#d8576b"
             ],
             [
              0.6666666666666666,
              "#ed7953"
             ],
             [
              0.7777777777777778,
              "#fb9f3a"
             ],
             [
              0.8888888888888888,
              "#fdca26"
             ],
             [
              1,
              "#f0f921"
             ]
            ],
            "type": "surface"
           }
          ],
          "table": [
           {
            "cells": {
             "fill": {
              "color": "#EBF0F8"
             },
             "line": {
              "color": "white"
             }
            },
            "header": {
             "fill": {
              "color": "#C8D4E3"
             },
             "line": {
              "color": "white"
             }
            },
            "type": "table"
           }
          ]
         },
         "layout": {
          "annotationdefaults": {
           "arrowcolor": "#2a3f5f",
           "arrowhead": 0,
           "arrowwidth": 1
          },
          "colorscale": {
           "diverging": [
            [
             0,
             "#8e0152"
            ],
            [
             0.1,
             "#c51b7d"
            ],
            [
             0.2,
             "#de77ae"
            ],
            [
             0.3,
             "#f1b6da"
            ],
            [
             0.4,
             "#fde0ef"
            ],
            [
             0.5,
             "#f7f7f7"
            ],
            [
             0.6,
             "#e6f5d0"
            ],
            [
             0.7,
             "#b8e186"
            ],
            [
             0.8,
             "#7fbc41"
            ],
            [
             0.9,
             "#4d9221"
            ],
            [
             1,
             "#276419"
            ]
           ],
           "sequential": [
            [
             0,
             "#0d0887"
            ],
            [
             0.1111111111111111,
             "#46039f"
            ],
            [
             0.2222222222222222,
             "#7201a8"
            ],
            [
             0.3333333333333333,
             "#9c179e"
            ],
            [
             0.4444444444444444,
             "#bd3786"
            ],
            [
             0.5555555555555556,
             "#d8576b"
            ],
            [
             0.6666666666666666,
             "#ed7953"
            ],
            [
             0.7777777777777778,
             "#fb9f3a"
            ],
            [
             0.8888888888888888,
             "#fdca26"
            ],
            [
             1,
             "#f0f921"
            ]
           ],
           "sequentialminus": [
            [
             0,
             "#0d0887"
            ],
            [
             0.1111111111111111,
             "#46039f"
            ],
            [
             0.2222222222222222,
             "#7201a8"
            ],
            [
             0.3333333333333333,
             "#9c179e"
            ],
            [
             0.4444444444444444,
             "#bd3786"
            ],
            [
             0.5555555555555556,
             "#d8576b"
            ],
            [
             0.6666666666666666,
             "#ed7953"
            ],
            [
             0.7777777777777778,
             "#fb9f3a"
            ],
            [
             0.8888888888888888,
             "#fdca26"
            ],
            [
             1,
             "#f0f921"
            ]
           ]
          },
          "colorway": [
           "#636efa",
           "#EF553B",
           "#00cc96",
           "#ab63fa",
           "#FFA15A",
           "#19d3f3",
           "#FF6692",
           "#B6E880",
           "#FF97FF",
           "#FECB52"
          ],
          "font": {
           "color": "#2a3f5f"
          },
          "geo": {
           "bgcolor": "white",
           "lakecolor": "white",
           "landcolor": "#E5ECF6",
           "showlakes": true,
           "showland": true,
           "subunitcolor": "white"
          },
          "hoverlabel": {
           "align": "left"
          },
          "hovermode": "closest",
          "mapbox": {
           "style": "light"
          },
          "paper_bgcolor": "white",
          "plot_bgcolor": "#E5ECF6",
          "polar": {
           "angularaxis": {
            "gridcolor": "white",
            "linecolor": "white",
            "ticks": ""
           },
           "bgcolor": "#E5ECF6",
           "radialaxis": {
            "gridcolor": "white",
            "linecolor": "white",
            "ticks": ""
           }
          },
          "scene": {
           "xaxis": {
            "backgroundcolor": "#E5ECF6",
            "gridcolor": "white",
            "gridwidth": 2,
            "linecolor": "white",
            "showbackground": true,
            "ticks": "",
            "zerolinecolor": "white"
           },
           "yaxis": {
            "backgroundcolor": "#E5ECF6",
            "gridcolor": "white",
            "gridwidth": 2,
            "linecolor": "white",
            "showbackground": true,
            "ticks": "",
            "zerolinecolor": "white"
           },
           "zaxis": {
            "backgroundcolor": "#E5ECF6",
            "gridcolor": "white",
            "gridwidth": 2,
            "linecolor": "white",
            "showbackground": true,
            "ticks": "",
            "zerolinecolor": "white"
           }
          },
          "shapedefaults": {
           "line": {
            "color": "#2a3f5f"
           }
          },
          "ternary": {
           "aaxis": {
            "gridcolor": "white",
            "linecolor": "white",
            "ticks": ""
           },
           "baxis": {
            "gridcolor": "white",
            "linecolor": "white",
            "ticks": ""
           },
           "bgcolor": "#E5ECF6",
           "caxis": {
            "gridcolor": "white",
            "linecolor": "white",
            "ticks": ""
           }
          },
          "title": {
           "x": 0.05
          },
          "xaxis": {
           "automargin": true,
           "gridcolor": "white",
           "linecolor": "white",
           "ticks": "",
           "zerolinecolor": "white",
           "zerolinewidth": 2
          },
          "yaxis": {
           "automargin": true,
           "gridcolor": "white",
           "linecolor": "white",
           "ticks": "",
           "zerolinecolor": "white",
           "zerolinewidth": 2
          }
         }
        },
        "title": {
         "text": "US POPULATION (2010-2018)"
        },
        "xaxis": {
         "title": {
          "text": "Year"
         }
        },
        "yaxis": {
         "title": {
          "text": "Population"
         }
        }
       }
      },
      "text/html": [
       "<div>\n",
       "        \n",
       "        \n",
       "            <div id=\"325324c6-728d-45a7-9e65-d08d445ea831\" class=\"plotly-graph-div\" style=\"height:525px; width:100%;\"></div>\n",
       "            <script type=\"text/javascript\">\n",
       "                require([\"plotly\"], function(Plotly) {\n",
       "                    window.PLOTLYENV=window.PLOTLYENV || {};\n",
       "                    \n",
       "                if (document.getElementById(\"325324c6-728d-45a7-9e65-d08d445ea831\")) {\n",
       "                    Plotly.newPlot(\n",
       "                        '325324c6-728d-45a7-9e65-d08d445ea831',\n",
       "                        [{\"name\": \"New York\", \"opacity\": 0.8, \"type\": \"scatter\", \"x\": [2010, 2011, 2012, 2013, 2014, 2015, 2016, 2017, 2018], \"y\": [\"19,400,080\", \"19,498,514\", \"19,574,549\", \"19,628,043\", \"19,656,330\", \"19,661,411\", \"19,641,589\", \"19,590,719\", \"19,542,209\"]}, {\"name\": \"Wyoming\", \"opacity\": 0.8, \"type\": \"scatter\", \"x\": [2010, 2011, 2012, 2013, 2014, 2015, 2016, 2017, 2018], \"y\": [\"564,483\", \"567,224\", \"576,270\", \"582,123\", \"582,548\", \"585,668\", \"584,290\", \"578,934\", \"577,737\"]}, {\"name\": \"Puerto Rico\", \"opacity\": 0.8, \"type\": \"scatter\", \"x\": [2010, 2011, 2012, 2013, 2014, 2015, 2016, 2017, 2018], \"y\": [\"3,721,525\", \"3,678,732\", \"3,634,488\", \"3,593,077\", \"3,534,874\", \"3,473,166\", \"3,406,495\", \"3,325,001\", \"3,195,153\"]}, {\"name\": \"Delaware\", \"opacity\": 0.8, \"type\": \"scatter\", \"x\": [2010, 2011, 2012, 2013, 2014, 2015, 2016, 2017, 2018], \"y\": [\"899,595\", \"907,316\", \"915,188\", \"923,638\", \"932,596\", \"941,413\", \"949,216\", \"957,078\", \"967,171\"]}, {\"name\": \"South Dakota\", \"opacity\": 0.8, \"type\": \"scatter\", \"x\": [2010, 2011, 2012, 2013, 2014, 2015, 2016, 2017, 2018], \"y\": [\"816,165\", \"823,484\", \"833,496\", \"842,270\", \"849,088\", \"853,933\", \"862,890\", \"873,286\", \"882,235\"]}, {\"name\": \"Florida\", \"opacity\": 0.8, \"type\": \"scatter\", \"x\": [2010, 2011, 2012, 2013, 2014, 2015, 2016, 2017, 2018], \"y\": [\"18,845,785\", \"19,093,352\", \"19,326,230\", \"19,563,166\", \"19,860,330\", \"20,224,249\", \"20,629,982\", \"20,976,812\", \"21,299,325\"]}, {\"name\": \"Mississippi\", \"opacity\": 0.8, \"type\": \"scatter\", \"x\": [2010, 2011, 2012, 2013, 2014, 2015, 2016, 2017, 2018], \"y\": [\"2,970,536\", \"2,978,470\", \"2,983,767\", \"2,988,797\", \"2,990,623\", \"2,988,693\", \"2,988,298\", \"2,989,663\", \"2,986,530\"]}, {\"name\": \"Oregon\", \"opacity\": 0.8, \"type\": \"scatter\", \"x\": [2010, 2011, 2012, 2013, 2014, 2015, 2016, 2017, 2018], \"y\": [\"3,837,532\", \"3,871,728\", \"3,899,118\", \"3,922,908\", \"3,964,106\", \"4,016,918\", \"4,091,404\", \"4,146,592\", \"4,190,713\"]}, {\"name\": \"Washington\", \"opacity\": 0.8, \"type\": \"scatter\", \"x\": [2010, 2011, 2012, 2013, 2014, 2015, 2016, 2017, 2018], \"y\": [\"6,742,902\", \"6,821,655\", \"6,892,876\", \"6,962,906\", \"7,052,439\", \"7,163,543\", \"7,294,680\", \"7,425,432\", \"7,535,591\"]}, {\"name\": \"Maine\", \"opacity\": 0.8, \"type\": \"scatter\", \"x\": [2010, 2011, 2012, 2013, 2014, 2015, 2016, 2017, 2018], \"y\": [\"1,327,632\", \"1,328,150\", \"1,327,691\", \"1,328,196\", \"1,330,760\", \"1,328,484\", \"1,331,370\", \"1,335,063\", \"1,338,404\"]}, {\"name\": \"Arizona\", \"opacity\": 0.8, \"type\": \"scatter\", \"x\": [2010, 2011, 2012, 2013, 2014, 2015, 2016, 2017, 2018], \"y\": [\"6,407,774\", \"6,473,497\", \"6,556,629\", \"6,634,999\", \"6,733,840\", \"6,833,596\", \"6,945,452\", \"7,048,876\", \"7,171,646\"]}, {\"name\": \"Maryland\", \"opacity\": 0.8, \"type\": \"scatter\", \"x\": [2010, 2011, 2012, 2013, 2014, 2015, 2016, 2017, 2018], \"y\": [\"5,788,642\", \"5,838,991\", \"5,887,072\", \"5,923,704\", \"5,958,165\", \"5,986,717\", \"6,004,692\", \"6,024,891\", \"6,042,718\"]}, {\"name\": \"New Mexico\", \"opacity\": 0.8, \"type\": \"scatter\", \"x\": [2010, 2011, 2012, 2013, 2014, 2015, 2016, 2017, 2018], \"y\": [\"2,064,588\", \"2,080,395\", \"2,087,549\", \"2,092,792\", \"2,090,342\", \"2,090,211\", \"2,092,789\", \"2,093,395\", \"2,095,428\"]}, {\"name\": \"Montana\", \"opacity\": 0.8, \"type\": \"scatter\", \"x\": [2010, 2011, 2012, 2013, 2014, 2015, 2016, 2017, 2018], \"y\": [\"990,722\", \"997,221\", \"1,003,754\", \"1,013,564\", \"1,021,891\", \"1,030,503\", \"1,040,863\", \"1,053,090\", \"1,062,305\"]}, {\"name\": \"Pennsylvania\", \"opacity\": 0.8, \"type\": \"scatter\", \"x\": [2010, 2011, 2012, 2013, 2014, 2015, 2016, 2017, 2018], \"y\": [\"12,711,158\", \"12,744,583\", \"12,766,827\", \"12,776,621\", \"12,789,101\", \"12,785,759\", \"12,783,538\", \"12,790,447\", \"12,807,060\"]}, {\"name\": \"Rhode Island\", \"opacity\": 0.8, \"type\": \"scatter\", \"x\": [2010, 2011, 2012, 2013, 2014, 2015, 2016, 2017, 2018], \"y\": [\"1,053,938\", \"1,053,536\", \"1,054,601\", \"1,055,122\", \"1,056,017\", \"1,056,173\", \"1,057,063\", \"1,056,486\", \"1,057,315\"]}, {\"name\": \"Vermont\", \"opacity\": 0.8, \"type\": \"scatter\", \"x\": [2010, 2011, 2012, 2013, 2014, 2015, 2016, 2017, 2018], \"y\": [\"625,880\", \"626,979\", \"626,063\", \"626,212\", \"625,218\", \"625,197\", \"623,644\", \"624,525\", \"626,299\"]}, {\"name\": \"Indiana\", \"opacity\": 0.8, \"type\": \"scatter\", \"x\": [2010, 2011, 2012, 2013, 2014, 2015, 2016, 2017, 2018], \"y\": [\"6,490,436\", \"6,516,045\", \"6,537,640\", \"6,568,367\", \"6,593,533\", \"6,608,296\", \"6,633,344\", \"6,660,082\", \"6,691,878\"]}, {\"name\": \"Minnesota\", \"opacity\": 0.8, \"type\": \"scatter\", \"x\": [2010, 2011, 2012, 2013, 2014, 2015, 2016, 2017, 2018], \"y\": [\"5,310,843\", \"5,345,668\", \"5,376,550\", \"5,413,693\", \"5,451,522\", \"5,482,503\", \"5,523,409\", \"5,568,155\", \"5,611,179\"]}, {\"name\": \"New Jersey\", \"opacity\": 0.8, \"type\": \"scatter\", \"x\": [2010, 2011, 2012, 2013, 2014, 2015, 2016, 2017, 2018], \"y\": [\"8,799,624\", \"8,827,783\", \"8,845,483\", \"8,858,362\", \"8,866,780\", \"8,870,869\", \"8,874,516\", \"8,888,543\", \"8,908,520\"]}, {\"name\": \"Hawaii\", \"opacity\": 0.8, \"type\": \"scatter\", \"x\": [2010, 2011, 2012, 2013, 2014, 2015, 2016, 2017, 2018], \"y\": [\"1,363,963\", \"1,379,252\", \"1,394,905\", \"1,408,453\", \"1,414,862\", \"1,422,484\", \"1,428,105\", \"1,424,203\", \"1,420,491\"]}, {\"name\": \"Oklahoma\", \"opacity\": 0.8, \"type\": \"scatter\", \"x\": [2010, 2011, 2012, 2013, 2014, 2015, 2016, 2017, 2018], \"y\": [\"3,759,632\", \"3,787,821\", \"3,818,600\", \"3,853,205\", \"3,878,367\", \"3,909,831\", \"3,926,769\", \"3,932,640\", \"3,943,079\"]}, {\"name\": \"Idaho\", \"opacity\": 0.8, \"type\": \"scatter\", \"x\": [2010, 2011, 2012, 2013, 2014, 2015, 2016, 2017, 2018], \"y\": [\"1,570,773\", \"1,583,828\", \"1,595,441\", \"1,611,530\", \"1,631,479\", \"1,651,523\", \"1,682,930\", \"1,718,904\", \"1,754,208\"]}, {\"name\": \"New Hampshire\", \"opacity\": 0.8, \"type\": \"scatter\", \"x\": [2010, 2011, 2012, 2013, 2014, 2015, 2016, 2017, 2018], \"y\": [\"1,316,777\", \"1,319,815\", \"1,323,962\", \"1,326,408\", \"1,333,223\", \"1,336,294\", \"1,342,373\", \"1,349,767\", \"1,356,458\"]}, {\"name\": \"South Carolina\", \"opacity\": 0.8, \"type\": \"scatter\", \"x\": [2010, 2011, 2012, 2013, 2014, 2015, 2016, 2017, 2018], \"y\": [\"4,635,656\", \"4,671,422\", \"4,717,112\", \"4,764,153\", \"4,823,793\", \"4,892,253\", \"4,958,235\", \"5,021,219\", \"5,084,127\"]}, {\"name\": \"Nevada\", \"opacity\": 0.8, \"type\": \"scatter\", \"x\": [2010, 2011, 2012, 2013, 2014, 2015, 2016, 2017, 2018], \"y\": [\"2,702,464\", \"2,712,799\", \"2,744,566\", \"2,776,972\", \"2,819,012\", \"2,868,666\", \"2,919,772\", \"2,972,405\", \"3,034,392\"]}, {\"name\": \"Colorado\", \"opacity\": 0.8, \"type\": \"scatter\", \"x\": [2010, 2011, 2012, 2013, 2014, 2015, 2016, 2017, 2018], \"y\": [\"5,048,281\", \"5,121,771\", \"5,193,721\", \"5,270,482\", \"5,351,218\", \"5,452,107\", \"5,540,921\", \"5,615,902\", \"5,695,564\"]}, {\"name\": \"District of Columbia\", \"opacity\": 0.8, \"type\": \"scatter\", \"x\": [2010, 2011, 2012, 2013, 2014, 2015, 2016, 2017, 2018], \"y\": [\"605,085\", \"619,602\", \"634,725\", \"650,431\", \"662,513\", \"675,254\", \"686,575\", \"695,691\", \"702,455\"]}, {\"name\": \"Michigan\", \"opacity\": 0.8, \"type\": \"scatter\", \"x\": [2010, 2011, 2012, 2013, 2014, 2015, 2016, 2017, 2018], \"y\": [\"9,877,535\", \"9,881,521\", \"9,896,930\", \"9,913,349\", \"9,930,589\", \"9,932,573\", \"9,951,890\", \"9,976,447\", \"9,995,915\"]}, {\"name\": \"Kansas\", \"opacity\": 0.8, \"type\": \"scatter\", \"x\": [2010, 2011, 2012, 2013, 2014, 2015, 2016, 2017, 2018], \"y\": [\"2,858,213\", \"2,869,035\", \"2,885,361\", \"2,893,510\", \"2,900,896\", \"2,909,502\", \"2,911,263\", \"2,910,689\", \"2,911,505\"]}, {\"name\": \"Illinois\", \"opacity\": 0.8, \"type\": \"scatter\", \"x\": [2010, 2011, 2012, 2013, 2014, 2015, 2016, 2017, 2018], \"y\": [\"12,840,762\", \"12,867,291\", \"12,884,119\", \"12,898,269\", \"12,888,962\", \"12,864,342\", \"12,826,895\", \"12,786,196\", \"12,741,080\"]}, {\"name\": \"Nebraska\", \"opacity\": 0.8, \"type\": \"scatter\", \"x\": [2010, 2011, 2012, 2013, 2014, 2015, 2016, 2017, 2018], \"y\": [\"1,829,536\", \"1,840,538\", \"1,853,323\", \"1,865,414\", \"1,879,522\", \"1,891,507\", \"1,905,924\", \"1,917,575\", \"1,929,268\"]}, {\"name\": \"Virginia\", \"opacity\": 0.8, \"type\": \"scatter\", \"x\": [2010, 2010, 2011, 2011, 2012, 2012, 2013, 2013, 2014, 2014, 2015, 2015, 2016, 2016, 2017, 2017, 2018, 2018], \"y\": [\"8,023,680\", \"1,854,214\", \"8,100,469\", \"1,856,074\", \"8,185,229\", \"1,856,764\", \"8,253,053\", \"1,853,873\", \"8,312,076\", \"1,849,467\", \"8,362,907\", \"1,841,996\", \"8,410,946\", \"1,830,929\", \"8,465,207\", \"1,817,048\", \"8,517,685\", \"1,805,832\"]}, {\"name\": \"Missouri\", \"opacity\": 0.8, \"type\": \"scatter\", \"x\": [2010, 2011, 2012, 2013, 2014, 2015, 2016, 2017, 2018], \"y\": [\"5,995,976\", \"6,009,641\", \"6,024,081\", \"6,040,658\", \"6,056,293\", \"6,071,745\", \"6,087,203\", \"6,108,612\", \"6,126,452\"]}, {\"name\": \"Georgia\", \"opacity\": 0.8, \"type\": \"scatter\", \"x\": [2010, 2011, 2012, 2013, 2014, 2015, 2016, 2017, 2018], \"y\": [\"9,711,810\", \"9,801,578\", \"9,901,496\", \"9,973,326\", \"10,069,001\", \"10,181,111\", \"10,304,763\", \"10,413,055\", \"10,519,475\"]}, {\"name\": \"Kentucky\", \"opacity\": 0.8, \"type\": \"scatter\", \"x\": [2010, 2011, 2012, 2013, 2014, 2015, 2016, 2017, 2018], \"y\": [\"4,348,200\", \"4,369,488\", \"4,386,381\", \"4,404,817\", \"4,414,483\", \"4,425,999\", \"4,438,229\", \"4,453,874\", \"4,468,402\"]}, {\"name\": \"Tennessee\", \"opacity\": 0.8, \"type\": \"scatter\", \"x\": [2010, 2011, 2012, 2013, 2014, 2015, 2016, 2017, 2018], \"y\": [\"6,355,301\", \"6,397,410\", \"6,451,281\", \"6,493,432\", \"6,540,826\", \"6,590,808\", \"6,645,011\", \"6,708,794\", \"6,770,010\"]}, {\"name\": \"North Carolina\", \"opacity\": 0.8, \"type\": \"scatter\", \"x\": [2010, 2011, 2012, 2013, 2014, 2015, 2016, 2017, 2018], \"y\": [\"9,574,293\", \"9,656,754\", \"9,749,123\", \"9,843,599\", \"9,933,944\", \"10,033,079\", \"10,156,679\", \"10,270,800\", \"10,383,620\"]}, {\"name\": \"California\", \"opacity\": 0.8, \"type\": \"scatter\", \"x\": [2010, 2011, 2012, 2013, 2014, 2015, 2016, 2017, 2018], \"y\": [\"37,320,903\", \"37,641,823\", \"37,960,782\", \"38,280,824\", \"38,625,139\", \"38,953,142\", \"39,209,127\", \"39,399,349\", \"39,557,045\"]}, {\"name\": \"Alabama\", \"opacity\": 0.8, \"type\": \"scatter\", \"x\": [2010, 2011, 2012, 2013, 2014, 2015, 2016, 2017, 2018], \"y\": [\"4,785,448\", \"4,798,834\", \"4,815,564\", \"4,830,460\", \"4,842,481\", \"4,853,160\", \"4,864,745\", \"4,875,120\", \"4,887,871\"]}, {\"name\": \"Utah\", \"opacity\": 0.8, \"type\": \"scatter\", \"x\": [2010, 2011, 2012, 2013, 2014, 2015, 2016, 2017, 2018], \"y\": [\"2,775,334\", \"2,814,216\", \"2,853,467\", \"2,897,927\", \"2,937,399\", \"2,982,497\", \"3,042,613\", \"3,103,118\", \"3,161,105\"]}, {\"name\": \"North Dakota\", \"opacity\": 0.8, \"type\": \"scatter\", \"x\": [2010, 2011, 2012, 2013, 2014, 2015, 2016, 2017, 2018], \"y\": [\"674,710\", \"685,136\", \"701,116\", \"721,999\", \"737,382\", \"754,022\", \"754,353\", \"755,176\", \"760,077\"]}, {\"name\": \"Ohio\", \"opacity\": 0.8, \"type\": \"scatter\", \"x\": [2010, 2011, 2012, 2013, 2014, 2015, 2016, 2017, 2018], \"y\": [\"11,539,327\", \"11,543,463\", \"11,548,369\", \"11,576,576\", \"11,602,973\", \"11,617,850\", \"11,635,003\", \"11,664,129\", \"11,689,442\"]}, {\"name\": \"Massachusetts\", \"opacity\": 0.8, \"type\": \"scatter\", \"x\": [2010, 2011, 2012, 2013, 2014, 2015, 2016, 2017, 2018], \"y\": [\"6,566,431\", \"6,613,149\", \"6,663,158\", \"6,713,944\", \"6,763,652\", \"6,795,891\", \"6,826,022\", \"6,863,246\", \"6,902,149\"]}, {\"name\": \"Iowa\", \"opacity\": 0.8, \"type\": \"scatter\", \"x\": [2010, 2011, 2012, 2013, 2014, 2015, 2016, 2017, 2018], \"y\": [\"3,050,767\", \"3,066,054\", \"3,076,097\", \"3,093,078\", \"3,109,504\", \"3,121,460\", \"3,131,785\", \"3,143,637\", \"3,156,145\"]}, {\"name\": \"Wisconsin\", \"opacity\": 0.8, \"type\": \"scatter\", \"x\": [2010, 2011, 2012, 2013, 2014, 2015, 2016, 2017, 2018], \"y\": [\"5,690,479\", \"5,704,755\", \"5,719,855\", \"5,736,952\", \"5,751,974\", \"5,761,406\", \"5,772,958\", \"5,792,051\", \"5,813,568\"]}, {\"name\": \"Louisiana\", \"opacity\": 0.8, \"type\": \"scatter\", \"x\": [2010, 2011, 2012, 2013, 2014, 2015, 2016, 2017, 2018], \"y\": [\"4,544,532\", \"4,575,184\", \"4,600,814\", \"4,624,577\", \"4,644,204\", \"4,664,851\", \"4,678,215\", \"4,670,818\", \"4,659,978\"]}, {\"name\": \"Alaska\", \"opacity\": 0.8, \"type\": \"scatter\", \"x\": [2010, 2011, 2012, 2013, 2014, 2015, 2016, 2017, 2018], \"y\": [\"713,906\", \"722,038\", \"730,399\", \"737,045\", \"736,307\", \"737,547\", \"741,504\", \"739,786\", \"737,438\"]}, {\"name\": \"West Virginia\", \"opacity\": 0.8, \"type\": \"scatter\", \"x\": [2010, 2011, 2012, 2013, 2014, 2015, 2016, 2017, 2018], \"y\": [\"1,854,214\", \"1,856,074\", \"1,856,764\", \"1,853,873\", \"1,849,467\", \"1,841,996\", \"1,830,929\", \"1,817,048\", \"1,805,832\"]}, {\"name\": \"Connecticut\", \"opacity\": 0.8, \"type\": \"scatter\", \"x\": [2010, 2011, 2012, 2013, 2014, 2015, 2016, 2017, 2018], \"y\": [\"3,579,125\", \"3,588,023\", \"3,594,395\", \"3,594,915\", \"3,594,783\", \"3,587,509\", \"3,578,674\", \"3,573,880\", \"3,572,665\"]}, {\"name\": \"Texas\", \"opacity\": 0.8, \"type\": \"scatter\", \"x\": [2010, 2011, 2012, 2013, 2014, 2015, 2016, 2017, 2018], \"y\": [\"25,242,679\", \"25,646,227\", \"26,089,620\", \"26,489,464\", \"26,977,142\", \"27,486,814\", \"27,937,492\", \"28,322,717\", \"28,701,845\"]}, {\"name\": \"Arkansas\", \"opacity\": 0.8, \"type\": \"scatter\", \"x\": [2010, 2011, 2012, 2013, 2014, 2015, 2016, 2017, 2018], \"y\": [\"2,921,978\", \"2,940,407\", \"2,952,109\", \"2,959,549\", \"2,967,726\", \"2,978,407\", \"2,990,410\", \"3,002,997\", \"3,013,825\"]}],\n",
       "                        {\"template\": {\"data\": {\"bar\": [{\"error_x\": {\"color\": \"#2a3f5f\"}, \"error_y\": {\"color\": \"#2a3f5f\"}, \"marker\": {\"line\": {\"color\": \"#E5ECF6\", \"width\": 0.5}}, \"type\": \"bar\"}], \"barpolar\": [{\"marker\": {\"line\": {\"color\": \"#E5ECF6\", \"width\": 0.5}}, \"type\": \"barpolar\"}], \"carpet\": [{\"aaxis\": {\"endlinecolor\": \"#2a3f5f\", \"gridcolor\": \"white\", \"linecolor\": \"white\", \"minorgridcolor\": \"white\", \"startlinecolor\": \"#2a3f5f\"}, \"baxis\": {\"endlinecolor\": \"#2a3f5f\", \"gridcolor\": \"white\", \"linecolor\": \"white\", \"minorgridcolor\": \"white\", \"startlinecolor\": \"#2a3f5f\"}, \"type\": \"carpet\"}], \"choropleth\": [{\"colorbar\": {\"outlinewidth\": 0, \"ticks\": \"\"}, \"type\": \"choropleth\"}], \"contour\": [{\"colorbar\": {\"outlinewidth\": 0, \"ticks\": \"\"}, \"colorscale\": [[0.0, \"#0d0887\"], [0.1111111111111111, \"#46039f\"], [0.2222222222222222, \"#7201a8\"], [0.3333333333333333, \"#9c179e\"], [0.4444444444444444, \"#bd3786\"], [0.5555555555555556, \"#d8576b\"], [0.6666666666666666, \"#ed7953\"], [0.7777777777777778, \"#fb9f3a\"], [0.8888888888888888, \"#fdca26\"], [1.0, \"#f0f921\"]], \"type\": \"contour\"}], \"contourcarpet\": [{\"colorbar\": {\"outlinewidth\": 0, \"ticks\": \"\"}, \"type\": \"contourcarpet\"}], \"heatmap\": [{\"colorbar\": {\"outlinewidth\": 0, \"ticks\": \"\"}, \"colorscale\": [[0.0, \"#0d0887\"], [0.1111111111111111, \"#46039f\"], [0.2222222222222222, \"#7201a8\"], [0.3333333333333333, \"#9c179e\"], [0.4444444444444444, \"#bd3786\"], [0.5555555555555556, \"#d8576b\"], [0.6666666666666666, \"#ed7953\"], [0.7777777777777778, \"#fb9f3a\"], [0.8888888888888888, \"#fdca26\"], [1.0, \"#f0f921\"]], \"type\": \"heatmap\"}], \"heatmapgl\": [{\"colorbar\": {\"outlinewidth\": 0, \"ticks\": \"\"}, \"colorscale\": [[0.0, \"#0d0887\"], [0.1111111111111111, \"#46039f\"], [0.2222222222222222, \"#7201a8\"], [0.3333333333333333, \"#9c179e\"], [0.4444444444444444, \"#bd3786\"], [0.5555555555555556, \"#d8576b\"], [0.6666666666666666, \"#ed7953\"], [0.7777777777777778, \"#fb9f3a\"], [0.8888888888888888, \"#fdca26\"], [1.0, \"#f0f921\"]], \"type\": \"heatmapgl\"}], \"histogram\": [{\"marker\": {\"colorbar\": {\"outlinewidth\": 0, \"ticks\": \"\"}}, \"type\": \"histogram\"}], \"histogram2d\": [{\"colorbar\": {\"outlinewidth\": 0, \"ticks\": \"\"}, \"colorscale\": [[0.0, \"#0d0887\"], [0.1111111111111111, \"#46039f\"], [0.2222222222222222, \"#7201a8\"], [0.3333333333333333, \"#9c179e\"], [0.4444444444444444, \"#bd3786\"], [0.5555555555555556, \"#d8576b\"], [0.6666666666666666, \"#ed7953\"], [0.7777777777777778, \"#fb9f3a\"], [0.8888888888888888, \"#fdca26\"], [1.0, \"#f0f921\"]], \"type\": \"histogram2d\"}], \"histogram2dcontour\": [{\"colorbar\": {\"outlinewidth\": 0, \"ticks\": \"\"}, \"colorscale\": [[0.0, \"#0d0887\"], [0.1111111111111111, \"#46039f\"], [0.2222222222222222, \"#7201a8\"], [0.3333333333333333, \"#9c179e\"], [0.4444444444444444, \"#bd3786\"], [0.5555555555555556, \"#d8576b\"], [0.6666666666666666, \"#ed7953\"], [0.7777777777777778, \"#fb9f3a\"], [0.8888888888888888, \"#fdca26\"], [1.0, \"#f0f921\"]], \"type\": \"histogram2dcontour\"}], \"mesh3d\": [{\"colorbar\": {\"outlinewidth\": 0, \"ticks\": \"\"}, \"type\": \"mesh3d\"}], \"parcoords\": [{\"line\": {\"colorbar\": {\"outlinewidth\": 0, \"ticks\": \"\"}}, \"type\": \"parcoords\"}], \"scatter\": [{\"marker\": {\"colorbar\": {\"outlinewidth\": 0, \"ticks\": \"\"}}, \"type\": \"scatter\"}], \"scatter3d\": [{\"line\": {\"colorbar\": {\"outlinewidth\": 0, \"ticks\": \"\"}}, \"marker\": {\"colorbar\": {\"outlinewidth\": 0, \"ticks\": \"\"}}, \"type\": \"scatter3d\"}], \"scattercarpet\": [{\"marker\": {\"colorbar\": {\"outlinewidth\": 0, \"ticks\": \"\"}}, \"type\": \"scattercarpet\"}], \"scattergeo\": [{\"marker\": {\"colorbar\": {\"outlinewidth\": 0, \"ticks\": \"\"}}, \"type\": \"scattergeo\"}], \"scattergl\": [{\"marker\": {\"colorbar\": {\"outlinewidth\": 0, \"ticks\": \"\"}}, \"type\": \"scattergl\"}], \"scattermapbox\": [{\"marker\": {\"colorbar\": {\"outlinewidth\": 0, \"ticks\": \"\"}}, \"type\": \"scattermapbox\"}], \"scatterpolar\": [{\"marker\": {\"colorbar\": {\"outlinewidth\": 0, \"ticks\": \"\"}}, \"type\": \"scatterpolar\"}], \"scatterpolargl\": [{\"marker\": {\"colorbar\": {\"outlinewidth\": 0, \"ticks\": \"\"}}, \"type\": \"scatterpolargl\"}], \"scatterternary\": [{\"marker\": {\"colorbar\": {\"outlinewidth\": 0, \"ticks\": \"\"}}, \"type\": \"scatterternary\"}], \"surface\": [{\"colorbar\": {\"outlinewidth\": 0, \"ticks\": \"\"}, \"colorscale\": [[0.0, \"#0d0887\"], [0.1111111111111111, \"#46039f\"], [0.2222222222222222, \"#7201a8\"], [0.3333333333333333, \"#9c179e\"], [0.4444444444444444, \"#bd3786\"], [0.5555555555555556, \"#d8576b\"], [0.6666666666666666, \"#ed7953\"], [0.7777777777777778, \"#fb9f3a\"], [0.8888888888888888, \"#fdca26\"], [1.0, \"#f0f921\"]], \"type\": \"surface\"}], \"table\": [{\"cells\": {\"fill\": {\"color\": \"#EBF0F8\"}, \"line\": {\"color\": \"white\"}}, \"header\": {\"fill\": {\"color\": \"#C8D4E3\"}, \"line\": {\"color\": \"white\"}}, \"type\": \"table\"}]}, \"layout\": {\"annotationdefaults\": {\"arrowcolor\": \"#2a3f5f\", \"arrowhead\": 0, \"arrowwidth\": 1}, \"colorscale\": {\"diverging\": [[0, \"#8e0152\"], [0.1, \"#c51b7d\"], [0.2, \"#de77ae\"], [0.3, \"#f1b6da\"], [0.4, \"#fde0ef\"], [0.5, \"#f7f7f7\"], [0.6, \"#e6f5d0\"], [0.7, \"#b8e186\"], [0.8, \"#7fbc41\"], [0.9, \"#4d9221\"], [1, \"#276419\"]], \"sequential\": [[0.0, \"#0d0887\"], [0.1111111111111111, \"#46039f\"], [0.2222222222222222, \"#7201a8\"], [0.3333333333333333, \"#9c179e\"], [0.4444444444444444, \"#bd3786\"], [0.5555555555555556, \"#d8576b\"], [0.6666666666666666, \"#ed7953\"], [0.7777777777777778, \"#fb9f3a\"], [0.8888888888888888, \"#fdca26\"], [1.0, \"#f0f921\"]], \"sequentialminus\": [[0.0, \"#0d0887\"], [0.1111111111111111, \"#46039f\"], [0.2222222222222222, \"#7201a8\"], [0.3333333333333333, \"#9c179e\"], [0.4444444444444444, \"#bd3786\"], [0.5555555555555556, \"#d8576b\"], [0.6666666666666666, \"#ed7953\"], [0.7777777777777778, \"#fb9f3a\"], [0.8888888888888888, \"#fdca26\"], [1.0, \"#f0f921\"]]}, \"colorway\": [\"#636efa\", \"#EF553B\", \"#00cc96\", \"#ab63fa\", \"#FFA15A\", \"#19d3f3\", \"#FF6692\", \"#B6E880\", \"#FF97FF\", \"#FECB52\"], \"font\": {\"color\": \"#2a3f5f\"}, \"geo\": {\"bgcolor\": \"white\", \"lakecolor\": \"white\", \"landcolor\": \"#E5ECF6\", \"showlakes\": true, \"showland\": true, \"subunitcolor\": \"white\"}, \"hoverlabel\": {\"align\": \"left\"}, \"hovermode\": \"closest\", \"mapbox\": {\"style\": \"light\"}, \"paper_bgcolor\": \"white\", \"plot_bgcolor\": \"#E5ECF6\", \"polar\": {\"angularaxis\": {\"gridcolor\": \"white\", \"linecolor\": \"white\", \"ticks\": \"\"}, \"bgcolor\": \"#E5ECF6\", \"radialaxis\": {\"gridcolor\": \"white\", \"linecolor\": \"white\", \"ticks\": \"\"}}, \"scene\": {\"xaxis\": {\"backgroundcolor\": \"#E5ECF6\", \"gridcolor\": \"white\", \"gridwidth\": 2, \"linecolor\": \"white\", \"showbackground\": true, \"ticks\": \"\", \"zerolinecolor\": \"white\"}, \"yaxis\": {\"backgroundcolor\": \"#E5ECF6\", \"gridcolor\": \"white\", \"gridwidth\": 2, \"linecolor\": \"white\", \"showbackground\": true, \"ticks\": \"\", \"zerolinecolor\": \"white\"}, \"zaxis\": {\"backgroundcolor\": \"#E5ECF6\", \"gridcolor\": \"white\", \"gridwidth\": 2, \"linecolor\": \"white\", \"showbackground\": true, \"ticks\": \"\", \"zerolinecolor\": \"white\"}}, \"shapedefaults\": {\"line\": {\"color\": \"#2a3f5f\"}}, \"ternary\": {\"aaxis\": {\"gridcolor\": \"white\", \"linecolor\": \"white\", \"ticks\": \"\"}, \"baxis\": {\"gridcolor\": \"white\", \"linecolor\": \"white\", \"ticks\": \"\"}, \"bgcolor\": \"#E5ECF6\", \"caxis\": {\"gridcolor\": \"white\", \"linecolor\": \"white\", \"ticks\": \"\"}}, \"title\": {\"x\": 0.05}, \"xaxis\": {\"automargin\": true, \"gridcolor\": \"white\", \"linecolor\": \"white\", \"ticks\": \"\", \"zerolinecolor\": \"white\", \"zerolinewidth\": 2}, \"yaxis\": {\"automargin\": true, \"gridcolor\": \"white\", \"linecolor\": \"white\", \"ticks\": \"\", \"zerolinecolor\": \"white\", \"zerolinewidth\": 2}}}, \"title\": {\"text\": \"US POPULATION (2010-2018)\"}, \"xaxis\": {\"title\": {\"text\": \"Year\"}}, \"yaxis\": {\"title\": {\"text\": \"Population\"}}},\n",
       "                        {\"responsive\": true}\n",
       "                    ).then(function(){\n",
       "                            \n",
       "var gd = document.getElementById('325324c6-728d-45a7-9e65-d08d445ea831');\n",
       "var x = new MutationObserver(function (mutations, observer) {{\n",
       "        var display = window.getComputedStyle(gd).display;\n",
       "        if (!display || display === 'none') {{\n",
       "            console.log([gd, 'removed!']);\n",
       "            Plotly.purge(gd);\n",
       "            observer.disconnect();\n",
       "        }}\n",
       "}});\n",
       "\n",
       "// Listen for the removal of the full notebook cells\n",
       "var notebookContainer = gd.closest('#notebook-container');\n",
       "if (notebookContainer) {{\n",
       "    x.observe(notebookContainer, {childList: true});\n",
       "}}\n",
       "\n",
       "// Listen for the clearing of the current output cell\n",
       "var outputEl = gd.closest('.output');\n",
       "if (outputEl) {{\n",
       "    x.observe(outputEl, {childList: true});\n",
       "}}\n",
       "\n",
       "                        })\n",
       "                };\n",
       "                });\n",
       "            </script>\n",
       "        </div>"
      ]
     },
     "metadata": {},
     "output_type": "display_data"
    },
    {
     "data": {
      "text/plain": [
       "<Figure size 432x288 with 0 Axes>"
      ]
     },
     "metadata": {},
     "output_type": "display_data"
    }
   ],
   "source": [
    "a = set(Population_df[\"Region\"])\n",
    "a = list(a)\n",
    "\n",
    "doubles = dict()\n",
    "for i in range(0,len(a)):\n",
    "    doubles[i] = Population_df[Population_df['Region'].str.contains(a[i])]\n",
    "\n",
    "trace = dict()\n",
    "for i in range(0,len(a)):\n",
    "    trace[i] = go.Scatter(x = doubles[i]['Year'],y=doubles[i]['Population'],name = a[i],opacity = 0.8)\n",
    "\n",
    "data = [trace[0],trace[1],trace[2],trace[3],trace[4],trace[5],trace[6],trace[7],trace[8],trace[9],\n",
    "        trace[10],trace[11],trace[12],trace[13],trace[14],trace[15],trace[16],trace[17],trace[18],trace[19],\n",
    "         trace[20],trace[21],trace[22],trace[23],trace[24],trace[25],trace[26],trace[27],trace[28],trace[29],\n",
    "          trace[30],trace[31],trace[32],trace[33],trace[34],trace[35],trace[36],trace[37],trace[38],trace[39],\n",
    "           trace[40],trace[41],trace[42],trace[43],trace[44],trace[45],trace[46],trace[47],trace[48],trace[49],\n",
    "            trace[50],trace[51]]\n",
    "\n",
    "layout = dict(title = \"US POPULATION (2010-2018)\",\n",
    "              xaxis = dict(title = 'Year'),\n",
    "              yaxis = dict(title = 'Population'),)\n",
    "\n",
    "fig = dict(data=data, layout=layout)\n",
    "py.iplot(fig)\n",
    "plt.savefig('./images/population.png')"
   ]
  },
  {
   "cell_type": "code",
   "execution_count": 158,
   "metadata": {},
   "outputs": [
    {
     "data": {
      "text/html": [
       "<div>\n",
       "<style scoped>\n",
       "    .dataframe tbody tr th:only-of-type {\n",
       "        vertical-align: middle;\n",
       "    }\n",
       "\n",
       "    .dataframe tbody tr th {\n",
       "        vertical-align: top;\n",
       "    }\n",
       "\n",
       "    .dataframe thead th {\n",
       "        text-align: right;\n",
       "    }\n",
       "</style>\n",
       "<table border=\"1\" class=\"dataframe\">\n",
       "  <thead>\n",
       "    <tr style=\"text-align: right;\">\n",
       "      <th></th>\n",
       "      <th>RegionName</th>\n",
       "      <th>Avg_1br</th>\n",
       "      <th>Avg_2br</th>\n",
       "      <th>Avg_3br</th>\n",
       "      <th>Avg_4br</th>\n",
       "      <th>Avg_5br</th>\n",
       "      <th>Avg_Bottomtier</th>\n",
       "      <th>Avg_toptier</th>\n",
       "      <th>Avg_All_homes</th>\n",
       "    </tr>\n",
       "  </thead>\n",
       "  <tbody>\n",
       "    <tr>\n",
       "      <th>0</th>\n",
       "      <td>Alabama</td>\n",
       "      <td>85788.10</td>\n",
       "      <td>61854.76</td>\n",
       "      <td>116778.68</td>\n",
       "      <td>236401.19</td>\n",
       "      <td>351773.70</td>\n",
       "      <td>41552.49</td>\n",
       "      <td>222701.08</td>\n",
       "      <td>111609.85</td>\n",
       "    </tr>\n",
       "    <tr>\n",
       "      <th>1</th>\n",
       "      <td>Alaska</td>\n",
       "      <td>136861.11</td>\n",
       "      <td>201549.46</td>\n",
       "      <td>303362.66</td>\n",
       "      <td>401218.40</td>\n",
       "      <td>491433.87</td>\n",
       "      <td>191388.42</td>\n",
       "      <td>432618.61</td>\n",
       "      <td>291648.05</td>\n",
       "    </tr>\n",
       "    <tr>\n",
       "      <th>2</th>\n",
       "      <td>Arizona</td>\n",
       "      <td>87441.27</td>\n",
       "      <td>101962.12</td>\n",
       "      <td>132532.36</td>\n",
       "      <td>204174.24</td>\n",
       "      <td>150177.16</td>\n",
       "      <td>112514.72</td>\n",
       "      <td>335204.33</td>\n",
       "      <td>187369.70</td>\n",
       "    </tr>\n",
       "    <tr>\n",
       "      <th>3</th>\n",
       "      <td>Arkansas</td>\n",
       "      <td>82410.32</td>\n",
       "      <td>88425.65</td>\n",
       "      <td>135071.00</td>\n",
       "      <td>233809.31</td>\n",
       "      <td>339248.27</td>\n",
       "      <td>45207.14</td>\n",
       "      <td>192850.76</td>\n",
       "      <td>105376.84</td>\n",
       "    </tr>\n",
       "    <tr>\n",
       "      <th>4</th>\n",
       "      <td>California</td>\n",
       "      <td>267653.97</td>\n",
       "      <td>339362.88</td>\n",
       "      <td>393308.44</td>\n",
       "      <td>504654.00</td>\n",
       "      <td>682178.57</td>\n",
       "      <td>214574.24</td>\n",
       "      <td>799746.86</td>\n",
       "      <td>415063.10</td>\n",
       "    </tr>\n",
       "  </tbody>\n",
       "</table>\n",
       "</div>"
      ],
      "text/plain": [
       "   RegionName    Avg_1br    Avg_2br    Avg_3br    Avg_4br    Avg_5br  \\\n",
       "0     Alabama   85788.10   61854.76  116778.68  236401.19  351773.70   \n",
       "1      Alaska  136861.11  201549.46  303362.66  401218.40  491433.87   \n",
       "2     Arizona   87441.27  101962.12  132532.36  204174.24  150177.16   \n",
       "3    Arkansas   82410.32   88425.65  135071.00  233809.31  339248.27   \n",
       "4  California  267653.97  339362.88  393308.44  504654.00  682178.57   \n",
       "\n",
       "   Avg_Bottomtier  Avg_toptier  Avg_All_homes  \n",
       "0        41552.49    222701.08      111609.85  \n",
       "1       191388.42    432618.61      291648.05  \n",
       "2       112514.72    335204.33      187369.70  \n",
       "3        45207.14    192850.76      105376.84  \n",
       "4       214574.24    799746.86      415063.10  "
      ]
     },
     "execution_count": 158,
     "metadata": {},
     "output_type": "execute_result"
    }
   ],
   "source": [
    "# Importing the dataset\n",
    "df = pd.read_csv('./Housing_data.csv')\n",
    "Us_housing_df=df.drop(columns=['Unnamed: 0'])\n",
    "Us_housing_df.head()"
   ]
  },
  {
   "cell_type": "code",
   "execution_count": 180,
   "metadata": {},
   "outputs": [
    {
     "data": {
      "image/png": "[encoded data removed]",
      "text/plain": [
       "<Figure size 432x288 with 2 Axes>"
      ]
     },
     "metadata": {
      "needs_background": "light"
     },
     "output_type": "display_data"
    }
   ],
   "source": [
    "correlation_matrix = Us_housing_df.corr().round(2)\n",
    "# annot = True to print the values inside the square\n",
    "sns.heatmap(data=correlation_matrix, annot=True)\n",
    "plt.savefig('./images/histhomes.png')"
   ]
  },
  {
   "cell_type": "code",
   "execution_count": null,
   "metadata": {},
   "outputs": [],
   "source": []
  }
 ],
 "metadata": {
  "kernelspec": {
   "display_name": "Python 3",
   "language": "python",
   "name": "python3"
  },
  "language_info": {
   "codemirror_mode": {
    "name": "ipython",
    "version": 3
   },
   "file_extension": ".py",
   "mimetype": "text/x-python",
   "name": "python",
   "nbconvert_exporter": "python",
   "pygments_lexer": "ipython3",
   "version": "3.7.1"
  }
 },
 "nbformat": 4,
 "nbformat_minor": 2
}
