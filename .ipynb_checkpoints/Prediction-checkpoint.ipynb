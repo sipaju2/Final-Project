{
 "cells": [
  {
   "cell_type": "code",
   "execution_count": 185,
   "metadata": {},
   "outputs": [],
   "source": [
    "# Linear Regression\n",
    "\n",
    "'''\n",
    "This model predicts the Housing Price based year using linear regression model.\n",
    "'''\n",
    "\n",
    "# Importing the libraries\n",
    "import numpy as np\n",
    "import matplotlib.pyplot as plt\n",
    "import pandas as pd\n",
    "import pickle\n",
    "import requests\n",
    "import json\n"
   ]
  },
  {
   "cell_type": "code",
   "execution_count": 186,
   "metadata": {},
   "outputs": [
    {
     "data": {
      "text/html": [
       "<div>\n",
       "<style scoped>\n",
       "    .dataframe tbody tr th:only-of-type {\n",
       "        vertical-align: middle;\n",
       "    }\n",
       "\n",
       "    .dataframe tbody tr th {\n",
       "        vertical-align: top;\n",
       "    }\n",
       "\n",
       "    .dataframe thead th {\n",
       "        text-align: right;\n",
       "    }\n",
       "</style>\n",
       "<table border=\"1\" class=\"dataframe\">\n",
       "  <thead>\n",
       "    <tr style=\"text-align: right;\">\n",
       "      <th></th>\n",
       "      <th>RegionName</th>\n",
       "      <th>2009</th>\n",
       "      <th>2010</th>\n",
       "      <th>2011</th>\n",
       "      <th>2012</th>\n",
       "      <th>2013</th>\n",
       "      <th>2014</th>\n",
       "      <th>2015</th>\n",
       "      <th>2016</th>\n",
       "      <th>2017</th>\n",
       "      <th>2018</th>\n",
       "      <th>2019</th>\n",
       "      <th>Avg_All_homes</th>\n",
       "    </tr>\n",
       "  </thead>\n",
       "  <tbody>\n",
       "    <tr>\n",
       "      <th>0</th>\n",
       "      <td>Alabama</td>\n",
       "      <td>105666.67</td>\n",
       "      <td>101700.00</td>\n",
       "      <td>97250.00</td>\n",
       "      <td>97266.67</td>\n",
       "      <td>106500.00</td>\n",
       "      <td>110666.67</td>\n",
       "      <td>113200.00</td>\n",
       "      <td>117066.67</td>\n",
       "      <td>120333.33</td>\n",
       "      <td>126608.33</td>\n",
       "      <td>131450.00</td>\n",
       "      <td>111609.85</td>\n",
       "    </tr>\n",
       "    <tr>\n",
       "      <th>1</th>\n",
       "      <td>Alaska</td>\n",
       "      <td>275641.67</td>\n",
       "      <td>277816.67</td>\n",
       "      <td>278478.57</td>\n",
       "      <td>277408.33</td>\n",
       "      <td>281925.00</td>\n",
       "      <td>287891.67</td>\n",
       "      <td>300550.00</td>\n",
       "      <td>303491.67</td>\n",
       "      <td>305766.67</td>\n",
       "      <td>309141.67</td>\n",
       "      <td>310016.67</td>\n",
       "      <td>291648.05</td>\n",
       "    </tr>\n",
       "    <tr>\n",
       "      <th>2</th>\n",
       "      <td>Arizona</td>\n",
       "      <td>167816.67</td>\n",
       "      <td>150333.33</td>\n",
       "      <td>136100.00</td>\n",
       "      <td>144241.67</td>\n",
       "      <td>166925.00</td>\n",
       "      <td>179875.00</td>\n",
       "      <td>190583.33</td>\n",
       "      <td>206758.33</td>\n",
       "      <td>223658.33</td>\n",
       "      <td>241525.00</td>\n",
       "      <td>253250.00</td>\n",
       "      <td>187369.70</td>\n",
       "    </tr>\n",
       "    <tr>\n",
       "      <th>3</th>\n",
       "      <td>Arkansas</td>\n",
       "      <td>99025.00</td>\n",
       "      <td>97391.67</td>\n",
       "      <td>94678.57</td>\n",
       "      <td>94041.67</td>\n",
       "      <td>97141.67</td>\n",
       "      <td>99958.33</td>\n",
       "      <td>103533.33</td>\n",
       "      <td>109483.33</td>\n",
       "      <td>115558.33</td>\n",
       "      <td>121600.00</td>\n",
       "      <td>126733.33</td>\n",
       "      <td>105376.84</td>\n",
       "    </tr>\n",
       "    <tr>\n",
       "      <th>4</th>\n",
       "      <td>California</td>\n",
       "      <td>342408.33</td>\n",
       "      <td>332483.33</td>\n",
       "      <td>312535.71</td>\n",
       "      <td>310858.33</td>\n",
       "      <td>363791.67</td>\n",
       "      <td>407491.67</td>\n",
       "      <td>435458.33</td>\n",
       "      <td>466533.33</td>\n",
       "      <td>504300.00</td>\n",
       "      <td>540650.00</td>\n",
       "      <td>549183.33</td>\n",
       "      <td>415063.10</td>\n",
       "    </tr>\n",
       "  </tbody>\n",
       "</table>\n",
       "</div>"
      ],
      "text/plain": [
       "   RegionName       2009       2010       2011       2012       2013  \\\n",
       "0     Alabama  105666.67  101700.00   97250.00   97266.67  106500.00   \n",
       "1      Alaska  275641.67  277816.67  278478.57  277408.33  281925.00   \n",
       "2     Arizona  167816.67  150333.33  136100.00  144241.67  166925.00   \n",
       "3    Arkansas   99025.00   97391.67   94678.57   94041.67   97141.67   \n",
       "4  California  342408.33  332483.33  312535.71  310858.33  363791.67   \n",
       "\n",
       "        2014       2015       2016       2017       2018       2019  \\\n",
       "0  110666.67  113200.00  117066.67  120333.33  126608.33  131450.00   \n",
       "1  287891.67  300550.00  303491.67  305766.67  309141.67  310016.67   \n",
       "2  179875.00  190583.33  206758.33  223658.33  241525.00  253250.00   \n",
       "3   99958.33  103533.33  109483.33  115558.33  121600.00  126733.33   \n",
       "4  407491.67  435458.33  466533.33  504300.00  540650.00  549183.33   \n",
       "\n",
       "   Avg_All_homes  \n",
       "0      111609.85  \n",
       "1      291648.05  \n",
       "2      187369.70  \n",
       "3      105376.84  \n",
       "4      415063.10  "
      ]
     },
     "execution_count": 186,
     "metadata": {},
     "output_type": "execute_result"
    }
   ],
   "source": [
    "# Importing the dataset\n",
    "df = pd.read_csv('./../All_homes.csv')\n",
    "df1=df.drop(columns=['Unnamed: 0'])\n",
    "df1.head()"
   ]
  },
  {
   "cell_type": "code",
   "execution_count": 187,
   "metadata": {},
   "outputs": [
    {
     "data": {
      "text/html": [
       "<div>\n",
       "<style scoped>\n",
       "    .dataframe tbody tr th:only-of-type {\n",
       "        vertical-align: middle;\n",
       "    }\n",
       "\n",
       "    .dataframe tbody tr th {\n",
       "        vertical-align: top;\n",
       "    }\n",
       "\n",
       "    .dataframe thead th {\n",
       "        text-align: right;\n",
       "    }\n",
       "</style>\n",
       "<table border=\"1\" class=\"dataframe\">\n",
       "  <thead>\n",
       "    <tr style=\"text-align: right;\">\n",
       "      <th></th>\n",
       "      <th>RegionName</th>\n",
       "      <th>2009</th>\n",
       "      <th>2010</th>\n",
       "      <th>2011</th>\n",
       "      <th>2012</th>\n",
       "      <th>2013</th>\n",
       "      <th>2014</th>\n",
       "      <th>2015</th>\n",
       "      <th>2016</th>\n",
       "      <th>2017</th>\n",
       "      <th>2018</th>\n",
       "      <th>2019</th>\n",
       "      <th>Avg_All_homes</th>\n",
       "    </tr>\n",
       "  </thead>\n",
       "  <tbody>\n",
       "    <tr>\n",
       "      <th>4</th>\n",
       "      <td>California</td>\n",
       "      <td>342408.33</td>\n",
       "      <td>332483.33</td>\n",
       "      <td>312535.71</td>\n",
       "      <td>310858.33</td>\n",
       "      <td>363791.67</td>\n",
       "      <td>407491.67</td>\n",
       "      <td>435458.33</td>\n",
       "      <td>466533.33</td>\n",
       "      <td>504300.0</td>\n",
       "      <td>540650.0</td>\n",
       "      <td>549183.33</td>\n",
       "      <td>415063.1</td>\n",
       "    </tr>\n",
       "  </tbody>\n",
       "</table>\n",
       "</div>"
      ],
      "text/plain": [
       "   RegionName       2009       2010       2011       2012       2013  \\\n",
       "4  California  342408.33  332483.33  312535.71  310858.33  363791.67   \n",
       "\n",
       "        2014       2015       2016      2017      2018       2019  \\\n",
       "4  407491.67  435458.33  466533.33  504300.0  540650.0  549183.33   \n",
       "\n",
       "   Avg_All_homes  \n",
       "4       415063.1  "
      ]
     },
     "execution_count": 187,
     "metadata": {},
     "output_type": "execute_result"
    }
   ],
   "source": [
    "df2=df1.loc[df1['RegionName']=='California']\n",
    "df2"
   ]
  },
  {
   "cell_type": "code",
   "execution_count": 188,
   "metadata": {},
   "outputs": [],
   "source": [
    "df3=df2.pivot_table(df2,columns=['2009','2010','2011', '2012', '2013', '2014', '2015', '2016', '2017','2018', '2019'], index='2018',)\n",
    "df4=df3.rename(columns={'Avg_All_homes':'Avg_housing_price'})\n",
    "df4.to_csv(\"Cali_housing.csv\", index=True, header=True)                         "
   ]
  },
  {
   "cell_type": "code",
   "execution_count": 189,
   "metadata": {},
   "outputs": [
    {
     "data": {
      "text/html": [
       "<div>\n",
       "<style scoped>\n",
       "    .dataframe tbody tr th:only-of-type {\n",
       "        vertical-align: middle;\n",
       "    }\n",
       "\n",
       "    .dataframe tbody tr th {\n",
       "        vertical-align: top;\n",
       "    }\n",
       "\n",
       "    .dataframe thead th {\n",
       "        text-align: right;\n",
       "    }\n",
       "</style>\n",
       "<table border=\"1\" class=\"dataframe\">\n",
       "  <thead>\n",
       "    <tr style=\"text-align: right;\">\n",
       "      <th></th>\n",
       "      <th>Year</th>\n",
       "      <th>Avg_housing_price</th>\n",
       "    </tr>\n",
       "  </thead>\n",
       "  <tbody>\n",
       "    <tr>\n",
       "      <th>0</th>\n",
       "      <td>2009</td>\n",
       "      <td>342408.33</td>\n",
       "    </tr>\n",
       "    <tr>\n",
       "      <th>1</th>\n",
       "      <td>2010</td>\n",
       "      <td>332483.33</td>\n",
       "    </tr>\n",
       "    <tr>\n",
       "      <th>2</th>\n",
       "      <td>2011</td>\n",
       "      <td>312535.71</td>\n",
       "    </tr>\n",
       "    <tr>\n",
       "      <th>3</th>\n",
       "      <td>2012</td>\n",
       "      <td>310858.33</td>\n",
       "    </tr>\n",
       "    <tr>\n",
       "      <th>4</th>\n",
       "      <td>2013</td>\n",
       "      <td>363791.67</td>\n",
       "    </tr>\n",
       "  </tbody>\n",
       "</table>\n",
       "</div>"
      ],
      "text/plain": [
       "   Year  Avg_housing_price\n",
       "0  2009          342408.33\n",
       "1  2010          332483.33\n",
       "2  2011          312535.71\n",
       "3  2012          310858.33\n",
       "4  2013          363791.67"
      ]
     },
     "execution_count": 189,
     "metadata": {},
     "output_type": "execute_result"
    }
   ],
   "source": [
    "df = pd.read_csv('./Cali_housing1.csv')\n",
    "Housing_df=df.rename(columns={'Unnamed: 0':'Year'})\n",
    "X = df.iloc[:, :-1].values\n",
    "y = df.iloc[:, 1].values\n",
    "Housing_df.head()"
   ]
  },
  {
   "cell_type": "code",
   "execution_count": 190,
   "metadata": {},
   "outputs": [],
   "source": [
    "# Splitting the dataset into the Training set and Test set\n",
    "from sklearn.model_selection import train_test_split\n",
    "X_train, X_test, y_train, y_test = train_test_split(X, y, test_size = 1/3, random_state = 0)\n"
   ]
  },
  {
   "cell_type": "code",
   "execution_count": 191,
   "metadata": {},
   "outputs": [
    {
     "data": {
      "text/plain": [
       "LinearRegression(copy_X=True, fit_intercept=True, n_jobs=None,\n",
       "         normalize=False)"
      ]
     },
     "execution_count": 191,
     "metadata": {},
     "output_type": "execute_result"
    }
   ],
   "source": [
    "# Fitting Simple Linear Regression to the Training set\n",
    "from sklearn.linear_model import LinearRegression\n",
    "regressor = LinearRegression()\n",
    "regressor.fit(X_train, y_train)\n"
   ]
  },
  {
   "cell_type": "code",
   "execution_count": 155,
   "metadata": {},
   "outputs": [
    {
     "data": {
      "text/plain": [
       "LinearRegression(copy_X=True, fit_intercept=True, n_jobs=None,\n",
       "         normalize=False)"
      ]
     },
     "execution_count": 155,
     "metadata": {},
     "output_type": "execute_result"
    }
   ],
   "source": [
    "# Fitting our model with all of our features in X\n",
    "model.fit(X, y)"
   ]
  },
  {
   "cell_type": "code",
   "execution_count": 154,
   "metadata": {},
   "outputs": [
    {
     "name": "stdout",
     "output_type": "stream",
     "text": [
      "[415621.47597939 305804.46412372 503475.08546392]\n"
     ]
    }
   ],
   "source": [
    "# Predicting the Test set results\n",
    "y_pred = regressor.predict(X_test)\n",
    "print(y_pred)\n"
   ]
  },
  {
   "cell_type": "code",
   "execution_count": 158,
   "metadata": {},
   "outputs": [
    {
     "name": "stdout",
     "output_type": "stream",
     "text": [
      "R2 Score: 0.8962249472734891\n"
     ]
    }
   ],
   "source": [
    "score = model.score(X, y)\n",
    "print(f\"R2 Score: {score}\")"
   ]
  },
  {
   "cell_type": "code",
   "execution_count": 193,
   "metadata": {},
   "outputs": [],
   "source": [
    "# Saving model to disk\n",
    "pickle.dump(regressor, open('model.pkl','wb'))\n"
   ]
  },
  {
   "cell_type": "code",
   "execution_count": 194,
   "metadata": {},
   "outputs": [
    {
     "name": "stdout",
     "output_type": "stream",
     "text": [
      "[679182.304433]\n"
     ]
    }
   ],
   "source": [
    "# Loading model to compare the results\n",
    "model = pickle.load( open('model.pkl','rb'))\n",
    "print(model.predict([[2026]]))"
   ]
  },
  {
   "cell_type": "code",
   "execution_count": null,
   "metadata": {},
   "outputs": [],
   "source": []
  }
 ],
 "metadata": {
  "kernelspec": {
   "display_name": "Python 3",
   "language": "python",
   "name": "python3"
  },
  "language_info": {
   "codemirror_mode": {
    "name": "ipython",
    "version": 3
   },
   "file_extension": ".py",
   "mimetype": "text/x-python",
   "name": "python",
   "nbconvert_exporter": "python",
   "pygments_lexer": "ipython3",
   "version": "3.7.1"
  }
 },
 "nbformat": 4,
 "nbformat_minor": 2
}
